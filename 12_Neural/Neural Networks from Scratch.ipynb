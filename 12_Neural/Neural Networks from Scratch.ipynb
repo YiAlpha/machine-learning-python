{
 "cells": [
  {
   "cell_type": "markdown",
   "metadata": {},
   "source": [
    "# Neural Networks from Scratch"
   ]
  },
  {
   "cell_type": "code",
   "execution_count": 1,
   "metadata": {
    "collapsed": true
   },
   "outputs": [],
   "source": [
    "#Setup\n",
    "#Let’s begin by preparing our environment and seeding the random number generator properly:\n",
    "\n",
    "import numpy as np\n",
    "import matplotlib.pyplot as plt\n",
    "import seaborn as sns\n",
    "from pylab import rcParams\n",
    "\n",
    "import math\n",
    "\n",
    "%matplotlib inline\n",
    "\n",
    "sns.set(style='whitegrid', palette='muted', font_scale=1.5)\n",
    "\n",
    "rcParams['figure.figsize'] = 12, 6\n",
    "\n",
    "\n",
    "\n"
   ]
  },
  {
   "cell_type": "code",
   "execution_count": 2,
   "metadata": {
    "collapsed": true
   },
   "outputs": [],
   "source": [
    "RANDOM_SEED = 42\n",
    "\n",
    "np.random.seed(RANDOM_SEED)\n"
   ]
  },
  {
   "cell_type": "markdown",
   "metadata": {},
   "source": [
    "## Sigmoid activations (and Sigmoid derivative)\n",
    "\n",
    "The sigmoid function takes a function of weights multiplied by input values (plus some bias) and converts the sum of these numbers to results between zero and one.  We will also use its derivative for backpropagation.\n",
    "\n",
    "The sigmoid function is used quite commonly in the realm of deep learning, at least it was until recently. It has distinct S shape and it is a differentiable real function for any real input value. Additionally, it has a positive derivative at each point. More importantly, we will use it as an activation function for the hidden layer of our model. Here’s how it is defined:\n",
    "\n",
    "It’s first derivative (which we will use during the backpropagation step of our training algorithm) has the following formula:\n",
    "\n",
    "![sigmoid](https://cdn-images-1.medium.com/max/800/1*-PkQzu0E21YEbI9wvqvQzg.png)\n",
    "\n",
    "\n",
    "So, the derivative can be expressed using the original sigmoid function. \n",
    "\n",
    "![sigmoid prime](https://cdn-images-1.medium.com/max/800/1*yT0ToBoL4o9eTgph6BWx4Q.png)\n"
   ]
  },
  {
   "cell_type": "code",
   "execution_count": 3,
   "metadata": {},
   "outputs": [
    {
     "data": {
      "image/png": "[encoded data removed]",
      "text/plain": [
       "<matplotlib.figure.Figure at 0x24090e4b6a0>"
      ]
     },
     "metadata": {},
     "output_type": "display_data"
    }
   ],
   "source": [
    "\n",
    "x = np.linspace(-10., 10., num=100)\n",
    "\n",
    "#create sigmoid fxn\n",
    "\n",
    "def sigmoid (x): return 1/(1 + np.exp(-x))      # activation function\n",
    "def sigmoid_prime(x): return sigmoid(x) * (1 - sigmoid(x))             # derivative of sigmoid\n",
    "\n",
    "sig = sigmoid(x)\n",
    "\n",
    "\n",
    "sig_prime = sigmoid_prime(x)\n",
    "\n",
    "plt.plot(x, sig, label=\"sigmoid\")\n",
    "plt.plot(x, sig_prime, label=\"sigmoid derivative\")\n",
    "plt.xlabel(\"x\")\n",
    "plt.ylabel(\"y\")\n",
    "plt.legend(prop={'size' : 16})\n",
    "plt.show()"
   ]
  },
  {
   "cell_type": "markdown",
   "metadata": {},
   "source": [
    "# Build a simple X and y dataset"
   ]
  },
  {
   "cell_type": "code",
   "execution_count": 4,
   "metadata": {},
   "outputs": [
    {
     "name": "stdout",
     "output_type": "stream",
     "text": [
      "[[0 0]\n",
      " [0 1]\n",
      " [1 0]\n",
      " [1 1]]\n",
      "(4, 2)\n",
      "[[0]\n",
      " [1]\n",
      " [1]\n",
      " [0]]\n",
      "(4, 1)\n"
     ]
    }
   ],
   "source": [
    "X = np.array([[0,0], [0,1], [1,0], [1,1]])\n",
    "Y = np.array([ [0],   [1],   [1],   [0]])\n",
    "\n",
    "print(X)\n",
    "print(X.shape)\n",
    "print(Y)\n",
    "print(Y.shape)\n"
   ]
  },
  {
   "cell_type": "markdown",
   "metadata": {},
   "source": [
    "# Set parameters for Network\n",
    "\n",
    "### Examples of parameters\n",
    "**epochs:** the number of iterations we run to minimize error and update weights and biases during backpropagation\n",
    "\n",
    "**inputLayerSize:** The number of features in X\n",
    "\n",
    "**hiddenLayerSize:** How many hidden neurons will be in our hidden layer\n",
    "\n",
    "**outputLayerSize:** The length of our output layer.  For regression problems it is one.  For binary categorization it is one (a predicted probability between zero and one). And for larger categories its the number of categories you will predict.\n",
    "        \n",
    "Other typical parameters-\n",
    "\n",
    "learning rate: .01 or .001 typically.  Used to multiply by gradient adjustments to weights and biases in backpropagation\n",
    "                    Will slow down the learning process.\n",
    "                    \n",
    "number of hidden layers:  We can have more than one hidden layer.  Typically we experiment with two or three to find the best predictive model."
   ]
  },
  {
   "cell_type": "code",
   "execution_count": 5,
   "metadata": {
    "collapsed": true
   },
   "outputs": [],
   "source": [
    "# Set parameters for example network\n",
    "epochs = 60000 # Number of iterations\n",
    "\n",
    "inputLayerSize =2 # Number of X features\n",
    "hiddenLayerSize = 3 # Three neurons in single hidden layer\n",
    "outputLayerSize = 1 # Single neuron in output layer"
   ]
  },
  {
   "cell_type": "code",
   "execution_count": 16,
   "metadata": {},
   "outputs": [
    {
     "name": "stdout",
     "output_type": "stream",
     "text": [
      "[[0.43194502 0.29122914 0.61185289]\n",
      " [0.13949386 0.29214465 0.36636184]]\n",
      "[[0.45606998]\n",
      " [0.78517596]\n",
      " [0.19967378]]\n"
     ]
    }
   ],
   "source": [
    "# We'll create a super simple model that doesn't even include biases\n",
    "\n",
    "# Initialize random weights\n",
    "\n",
    "Wh = np.random.uniform(size=(inputLayerSize, hiddenLayerSize))\n",
    "Wz = np.random.uniform(size=(hiddenLayerSize,outputLayerSize))\n",
    "\n",
    "print(Wh)\n",
    "print(Wz)\n"
   ]
  },
  {
   "cell_type": "code",
   "execution_count": 17,
   "metadata": {},
   "outputs": [
    {
     "name": "stdout",
     "output_type": "stream",
     "text": [
      "[[-0.67270827]\n",
      " [ 0.30759926]\n",
      " [ 0.29831228]\n",
      " [-0.71920988]]\n"
     ]
    }
   ],
   "source": [
    "# We use matrix multiplication to multiply these weights by input X values first\n",
    "# Then we take the result and multiply that by the sigmoid function\n",
    "H = sigmoid(np.dot(X, Wh)) \n",
    "\n",
    "Z = sigmoid(np.dot(H, Wz))                  # output layer results from random initial weights\n",
    "\n",
    "E = Y - Z                                   # how much we missed (error) \n",
    "\n",
    "print(E) # print error"
   ]
  },
  {
   "cell_type": "code",
   "execution_count": 18,
   "metadata": {},
   "outputs": [
    {
     "name": "stdout",
     "output_type": "stream",
     "text": [
      "[[-0.15049868]\n",
      " [ 0.06837239]\n",
      " [ 0.06610209]\n",
      " [-0.1584181 ]]\n"
     ]
    }
   ],
   "source": [
    "dZ = E * sigmoid_prime(Z)   # delta Z, gradient adjustments to Wz. (Could shrink by multiplying by learning rate)\n",
    "print(dZ)                       "
   ]
  },
  {
   "cell_type": "code",
   "execution_count": 19,
   "metadata": {},
   "outputs": [
    {
     "name": "stdout",
     "output_type": "stream",
     "text": [
      "[[-0.01613017 -0.02776991 -0.00706201]\n",
      " [ 0.00726374  0.0123787   0.00313192]\n",
      " [ 0.00688441  0.01196842  0.00297586]\n",
      " [-0.01633672 -0.02810159 -0.00694928]]\n"
     ]
    }
   ],
   "source": [
    "dH = dZ.dot(Wz.T) * sigmoid_prime(H)             # delta H, used to make gradient adjustments to Wh\n",
    "                                                 #(Notice we are working backwards step by step)\n",
    "print(dH)"
   ]
  },
  {
   "cell_type": "code",
   "execution_count": 20,
   "metadata": {},
   "outputs": [
    {
     "name": "stdout",
     "output_type": "stream",
     "text": [
      "[[0.42249271 0.27509597 0.60787948]\n",
      " [0.13042088 0.27642177 0.36254449]]\n",
      "[[0.35622334]\n",
      " [0.68522169]\n",
      " [0.09253099]]\n"
     ]
    }
   ],
   "source": [
    "Wz +=  H.T.dot(dZ)                          # update output layer weights Wz\n",
    "Wh +=  X.T.dot(dH)                          # update hidden layer weights Wh\n",
    "\n",
    "#X.T() means we are transposing X before doing matrix multiplication\n",
    "print(Wh)\n",
    "print(Wz)"
   ]
  },
  {
   "cell_type": "code",
   "execution_count": 21,
   "metadata": {},
   "outputs": [
    {
     "name": "stdout",
     "output_type": "stream",
     "text": [
      "[[0.001]\n",
      " [0.998]\n",
      " [0.998]\n",
      " [0.002]]\n"
     ]
    }
   ],
   "source": [
    "# Now let's iterate through a bunch of backpropagation steps to update weights\n",
    "\n",
    "for i in range(epochs):\n",
    " \n",
    "    H = sigmoid(np.dot(X, Wh))                  # hidden layer results\n",
    "    Z = sigmoid(np.dot(H, Wz))                  # output layer results\n",
    "    E = Y - Z                                   # how much we missed (error)\n",
    "    dZ = E * sigmoid_prime(Z)                        # delta Z\n",
    "    dH = dZ.dot(Wz.T) * sigmoid_prime(H)             # delta H\n",
    "    Wz +=  H.T.dot(dZ)                          # update output layer weights\n",
    "    Wh +=  X.T.dot(dH)                          # update hidden layer weights\n",
    "\n",
    "print(np.around(Z,3))                # Resulting training prediction for each value of Y "
   ]
  },
  {
   "cell_type": "markdown",
   "metadata": {},
   "source": [
    "### In a typical version of a network we would add a bias to our weights as well.  But that's pretty much it.  "
   ]
  },
  {
   "cell_type": "code",
   "execution_count": null,
   "metadata": {
    "collapsed": true
   },
   "outputs": [],
   "source": []
  }
 ],
 "metadata": {
  "kernelspec": {
   "display_name": "Python [conda env:ml]",
   "language": "python",
   "name": "conda-env-ml-py"
  },
  "language_info": {
   "codemirror_mode": {
    "name": "ipython",
    "version": 3
   },
   "file_extension": ".py",
   "mimetype": "text/x-python",
   "name": "python",
   "nbconvert_exporter": "python",
   "pygments_lexer": "ipython3",
   "version": "3.7.1"
  }
 },
 "nbformat": 4,
 "nbformat_minor": 2
}
