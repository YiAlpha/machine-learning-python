{
 "cells": [
  {
   "cell_type": "markdown",
   "metadata": {
    "toc": true
   },
   "source": [
    "<h1>Table of Contents<span class=\"tocSkip\"></span></h1>\n",
    "<div class=\"toc\"><ul class=\"toc-item\"><li><span><a href=\"#Unsupervised-Learning-on-Wine-Quality-Dataset\" data-toc-modified-id=\"Unsupervised-Learning-on-Wine-Quality-Dataset-1\">Unsupervised Learning on Wine Quality Dataset</a></span><ul class=\"toc-item\"><li><span><a href=\"#K-Means-Cluster\" data-toc-modified-id=\"K-Means-Cluster-1.1\">K Means Cluster</a></span></li><li><span><a href=\"#Hierarchical-Cluster-Analysis\" data-toc-modified-id=\"Hierarchical-Cluster-Analysis-1.2\">Hierarchical Cluster Analysis</a></span></li><li><span><a href=\"#Principal-Component-Analysis\" data-toc-modified-id=\"Principal-Component-Analysis-1.3\">Principal Component Analysis</a></span></li></ul></li></ul></div>"
   ]
  },
  {
   "cell_type": "markdown",
   "metadata": {},
   "source": [
    "# Unsupervised Learning on Wine Quality Dataset"
   ]
  },
  {
   "cell_type": "code",
   "execution_count": 1,
   "metadata": {
    "collapsed": true
   },
   "outputs": [],
   "source": [
    "import numpy as np\n",
    "import pandas as pd\n",
    "import matplotlib.pyplot as plt\n",
    "\n",
    "%matplotlib inline\n",
    "import seaborn as sns\n",
    "\n",
    "pd.options.display.float_format = '{:,.3f}'.format"
   ]
  },
  {
   "cell_type": "code",
   "execution_count": 2,
   "metadata": {
    "collapsed": true
   },
   "outputs": [],
   "source": [
    "# load data\n",
    "\n",
    "red = pd.read_csv(\"https://archive.ics.uci.edu/ml/machine-learning-databases/wine-quality/winequality-red.csv\", \n",
    "                  sep = ';')"
   ]
  },
  {
   "cell_type": "code",
   "execution_count": 55,
   "metadata": {},
   "outputs": [],
   "source": [
    "# Preprocess data\n",
    "\n",
    "from sklearn.preprocessing import StandardScaler\n",
    "\n",
    "scaler = StandardScaler()\n",
    "scaler.fit(red)\n",
    "\n",
    "X = pd.DataFrame(scaler.transform(red), index=red.index, columns=red.columns)"
   ]
  },
  {
   "cell_type": "code",
   "execution_count": 13,
   "metadata": {
    "scrolled": false
   },
   "outputs": [
    {
     "data": {
      "text/html": [
       "<div>\n",
       "<style scoped>\n",
       "    .dataframe tbody tr th:only-of-type {\n",
       "        vertical-align: middle;\n",
       "    }\n",
       "\n",
       "    .dataframe tbody tr th {\n",
       "        vertical-align: top;\n",
       "    }\n",
       "\n",
       "    .dataframe thead th {\n",
       "        text-align: right;\n",
       "    }\n",
       "</style>\n",
       "<table border=\"1\" class=\"dataframe\">\n",
       "  <thead>\n",
       "    <tr style=\"text-align: right;\">\n",
       "      <th></th>\n",
       "      <th>fixed acidity</th>\n",
       "      <th>volatile acidity</th>\n",
       "      <th>citric acid</th>\n",
       "      <th>residual sugar</th>\n",
       "      <th>chlorides</th>\n",
       "      <th>free sulfur dioxide</th>\n",
       "      <th>total sulfur dioxide</th>\n",
       "      <th>density</th>\n",
       "      <th>pH</th>\n",
       "      <th>sulphates</th>\n",
       "      <th>alcohol</th>\n",
       "      <th>quality</th>\n",
       "    </tr>\n",
       "  </thead>\n",
       "  <tbody>\n",
       "    <tr>\n",
       "      <th>0</th>\n",
       "      <td>7.400</td>\n",
       "      <td>0.700</td>\n",
       "      <td>0.000</td>\n",
       "      <td>1.900</td>\n",
       "      <td>0.076</td>\n",
       "      <td>11.000</td>\n",
       "      <td>34.000</td>\n",
       "      <td>0.998</td>\n",
       "      <td>3.510</td>\n",
       "      <td>0.560</td>\n",
       "      <td>9.400</td>\n",
       "      <td>5</td>\n",
       "    </tr>\n",
       "    <tr>\n",
       "      <th>1</th>\n",
       "      <td>7.800</td>\n",
       "      <td>0.880</td>\n",
       "      <td>0.000</td>\n",
       "      <td>2.600</td>\n",
       "      <td>0.098</td>\n",
       "      <td>25.000</td>\n",
       "      <td>67.000</td>\n",
       "      <td>0.997</td>\n",
       "      <td>3.200</td>\n",
       "      <td>0.680</td>\n",
       "      <td>9.800</td>\n",
       "      <td>5</td>\n",
       "    </tr>\n",
       "  </tbody>\n",
       "</table>\n",
       "</div>"
      ],
      "text/plain": [
       "   fixed acidity  volatile acidity  citric acid  residual sugar  chlorides  \\\n",
       "0          7.400             0.700        0.000           1.900      0.076   \n",
       "1          7.800             0.880        0.000           2.600      0.098   \n",
       "\n",
       "   free sulfur dioxide  total sulfur dioxide  density    pH  sulphates  \\\n",
       "0               11.000                34.000    0.998 3.510      0.560   \n",
       "1               25.000                67.000    0.997 3.200      0.680   \n",
       "\n",
       "   alcohol  quality  \n",
       "0    9.400        5  \n",
       "1    9.800        5  "
      ]
     },
     "execution_count": 13,
     "metadata": {},
     "output_type": "execute_result"
    }
   ],
   "source": [
    "# Before scaling\n",
    "red.iloc[0:2,:]"
   ]
  },
  {
   "cell_type": "code",
   "execution_count": 14,
   "metadata": {
    "scrolled": false
   },
   "outputs": [
    {
     "data": {
      "text/html": [
       "<div>\n",
       "<style scoped>\n",
       "    .dataframe tbody tr th:only-of-type {\n",
       "        vertical-align: middle;\n",
       "    }\n",
       "\n",
       "    .dataframe tbody tr th {\n",
       "        vertical-align: top;\n",
       "    }\n",
       "\n",
       "    .dataframe thead th {\n",
       "        text-align: right;\n",
       "    }\n",
       "</style>\n",
       "<table border=\"1\" class=\"dataframe\">\n",
       "  <thead>\n",
       "    <tr style=\"text-align: right;\">\n",
       "      <th></th>\n",
       "      <th>fixed acidity</th>\n",
       "      <th>volatile acidity</th>\n",
       "      <th>citric acid</th>\n",
       "      <th>residual sugar</th>\n",
       "      <th>chlorides</th>\n",
       "      <th>free sulfur dioxide</th>\n",
       "      <th>total sulfur dioxide</th>\n",
       "      <th>density</th>\n",
       "      <th>pH</th>\n",
       "      <th>sulphates</th>\n",
       "      <th>alcohol</th>\n",
       "      <th>quality</th>\n",
       "    </tr>\n",
       "  </thead>\n",
       "  <tbody>\n",
       "    <tr>\n",
       "      <th>0</th>\n",
       "      <td>-0.528</td>\n",
       "      <td>0.962</td>\n",
       "      <td>-1.391</td>\n",
       "      <td>-0.453</td>\n",
       "      <td>-0.244</td>\n",
       "      <td>-0.466</td>\n",
       "      <td>-0.379</td>\n",
       "      <td>0.558</td>\n",
       "      <td>1.289</td>\n",
       "      <td>-0.579</td>\n",
       "      <td>-0.960</td>\n",
       "      <td>-0.788</td>\n",
       "    </tr>\n",
       "    <tr>\n",
       "      <th>1</th>\n",
       "      <td>-0.299</td>\n",
       "      <td>1.967</td>\n",
       "      <td>-1.391</td>\n",
       "      <td>0.043</td>\n",
       "      <td>0.224</td>\n",
       "      <td>0.873</td>\n",
       "      <td>0.624</td>\n",
       "      <td>0.028</td>\n",
       "      <td>-0.720</td>\n",
       "      <td>0.129</td>\n",
       "      <td>-0.585</td>\n",
       "      <td>-0.788</td>\n",
       "    </tr>\n",
       "  </tbody>\n",
       "</table>\n",
       "</div>"
      ],
      "text/plain": [
       "   fixed acidity  volatile acidity  citric acid  residual sugar  chlorides  \\\n",
       "0         -0.528             0.962       -1.391          -0.453     -0.244   \n",
       "1         -0.299             1.967       -1.391           0.043      0.224   \n",
       "\n",
       "   free sulfur dioxide  total sulfur dioxide  density     pH  sulphates  \\\n",
       "0               -0.466                -0.379    0.558  1.289     -0.579   \n",
       "1                0.873                 0.624    0.028 -0.720      0.129   \n",
       "\n",
       "   alcohol  quality  \n",
       "0   -0.960   -0.788  \n",
       "1   -0.585   -0.788  "
      ]
     },
     "execution_count": 14,
     "metadata": {},
     "output_type": "execute_result"
    }
   ],
   "source": [
    "# After scaling\n",
    "X.iloc[0:2,:]"
   ]
  },
  {
   "cell_type": "markdown",
   "metadata": {},
   "source": [
    "## K Means Cluster"
   ]
  },
  {
   "cell_type": "markdown",
   "metadata": {},
   "source": [
    "Use K Means Cluster Analysis to identify cluster(s) of observations that have high and low values of the wine quality. (Assume all variables are continuous.)"
   ]
  },
  {
   "cell_type": "code",
   "execution_count": 15,
   "metadata": {},
   "outputs": [
    {
     "data": {
      "text/plain": [
       "Text(0.5,1,'Elbow curve')"
      ]
     },
     "execution_count": 15,
     "metadata": {},
     "output_type": "execute_result"
    },
    {
     "data": {
      "image/png": "[encoded data removed]",
      "text/plain": [
       "<Figure size 1008x288 with 1 Axes>"
      ]
     },
     "metadata": {
      "needs_background": "light"
     },
     "output_type": "display_data"
    }
   ],
   "source": [
    "# Use Elbow curve to help select the number of clusters\n",
    "from sklearn.cluster import KMeans\n",
    "\n",
    "within_cluster_variance = []\n",
    "\n",
    "for k in range(2, 20):\n",
    "    kmeans = KMeans(n_clusters=k, random_state = 0)\n",
    "    kmeans.fit(X)\n",
    "    within_cluster_variance.append(kmeans.inertia_)\n",
    "\n",
    "fig = plt.figure(figsize=(14, 4))\n",
    "plt.plot(range(2, 20), within_cluster_variance, marker='o')\n",
    "plt.grid(True)\n",
    "plt.xlabel('Number of clusters')\n",
    "plt.ylabel('Reduction in within cluster variation')\n",
    "plt.xticks(np.arange(2, 20, step=1))\n",
    "plt.title('Elbow curve')  \n"
   ]
  },
  {
   "cell_type": "code",
   "execution_count": 59,
   "metadata": {},
   "outputs": [
    {
     "data": {
      "text/plain": [
       "KMeans(algorithm='auto', copy_x=True, init='k-means++', max_iter=300,\n",
       "    n_clusters=7, n_init=20, n_jobs=1, precompute_distances='auto',\n",
       "    random_state=10, tol=0.0001, verbose=0)"
      ]
     },
     "execution_count": 59,
     "metadata": {},
     "output_type": "execute_result"
    }
   ],
   "source": [
    "from sklearn.cluster import KMeans\n",
    "km7 = KMeans(n_clusters=7, n_init=20, random_state=10)\n",
    "km7.fit(X)"
   ]
  },
  {
   "cell_type": "code",
   "execution_count": 60,
   "metadata": {
    "scrolled": false
   },
   "outputs": [
    {
     "data": {
      "text/html": [
       "<div>\n",
       "<style scoped>\n",
       "    .dataframe tbody tr th:only-of-type {\n",
       "        vertical-align: middle;\n",
       "    }\n",
       "\n",
       "    .dataframe tbody tr th {\n",
       "        vertical-align: top;\n",
       "    }\n",
       "\n",
       "    .dataframe thead th {\n",
       "        text-align: right;\n",
       "    }\n",
       "</style>\n",
       "<table border=\"1\" class=\"dataframe\">\n",
       "  <thead>\n",
       "    <tr style=\"text-align: right;\">\n",
       "      <th></th>\n",
       "      <th>fixed acidity</th>\n",
       "      <th>volatile acidity</th>\n",
       "      <th>citric acid</th>\n",
       "      <th>residual sugar</th>\n",
       "      <th>chlorides</th>\n",
       "      <th>free sulfur dioxide</th>\n",
       "      <th>total sulfur dioxide</th>\n",
       "      <th>density</th>\n",
       "      <th>pH</th>\n",
       "      <th>sulphates</th>\n",
       "      <th>alcohol</th>\n",
       "    </tr>\n",
       "    <tr>\n",
       "      <th>quality</th>\n",
       "      <th></th>\n",
       "      <th></th>\n",
       "      <th></th>\n",
       "      <th></th>\n",
       "      <th></th>\n",
       "      <th></th>\n",
       "      <th></th>\n",
       "      <th></th>\n",
       "      <th></th>\n",
       "      <th></th>\n",
       "      <th></th>\n",
       "    </tr>\n",
       "  </thead>\n",
       "  <tbody>\n",
       "    <tr>\n",
       "      <th>1.034</th>\n",
       "      <td>0.269</td>\n",
       "      <td>-0.994</td>\n",
       "      <td>0.760</td>\n",
       "      <td>-0.100</td>\n",
       "      <td>-0.239</td>\n",
       "      <td>-0.341</td>\n",
       "      <td>-0.537</td>\n",
       "      <td>-0.505</td>\n",
       "      <td>-0.257</td>\n",
       "      <td>0.463</td>\n",
       "      <td>1.016</td>\n",
       "    </tr>\n",
       "    <tr>\n",
       "      <th>0.501</th>\n",
       "      <td>-1.082</td>\n",
       "      <td>0.340</td>\n",
       "      <td>-0.903</td>\n",
       "      <td>-0.271</td>\n",
       "      <td>-0.414</td>\n",
       "      <td>0.276</td>\n",
       "      <td>-0.162</td>\n",
       "      <td>-1.330</td>\n",
       "      <td>1.148</td>\n",
       "      <td>-0.125</td>\n",
       "      <td>1.174</td>\n",
       "    </tr>\n",
       "    <tr>\n",
       "      <th>0.090</th>\n",
       "      <td>1.671</td>\n",
       "      <td>-0.553</td>\n",
       "      <td>1.219</td>\n",
       "      <td>0.119</td>\n",
       "      <td>0.052</td>\n",
       "      <td>-0.487</td>\n",
       "      <td>-0.432</td>\n",
       "      <td>1.205</td>\n",
       "      <td>-0.990</td>\n",
       "      <td>0.223</td>\n",
       "      <td>-0.141</td>\n",
       "    </tr>\n",
       "    <tr>\n",
       "      <th>-0.023</th>\n",
       "      <td>-0.086</td>\n",
       "      <td>-0.035</td>\n",
       "      <td>0.415</td>\n",
       "      <td>4.962</td>\n",
       "      <td>0.296</td>\n",
       "      <td>1.750</td>\n",
       "      <td>1.696</td>\n",
       "      <td>1.225</td>\n",
       "      <td>-0.325</td>\n",
       "      <td>-0.024</td>\n",
       "      <td>-0.364</td>\n",
       "    </tr>\n",
       "    <tr>\n",
       "      <th>-0.361</th>\n",
       "      <td>0.082</td>\n",
       "      <td>0.018</td>\n",
       "      <td>1.144</td>\n",
       "      <td>-0.399</td>\n",
       "      <td>5.605</td>\n",
       "      <td>-0.070</td>\n",
       "      <td>0.474</td>\n",
       "      <td>0.186</td>\n",
       "      <td>-1.687</td>\n",
       "      <td>3.721</td>\n",
       "      <td>-0.883</td>\n",
       "    </tr>\n",
       "    <tr>\n",
       "      <th>-0.425</th>\n",
       "      <td>-0.129</td>\n",
       "      <td>0.024</td>\n",
       "      <td>0.059</td>\n",
       "      <td>-0.021</td>\n",
       "      <td>-0.039</td>\n",
       "      <td>1.000</td>\n",
       "      <td>1.233</td>\n",
       "      <td>0.199</td>\n",
       "      <td>-0.094</td>\n",
       "      <td>-0.171</td>\n",
       "      <td>-0.573</td>\n",
       "    </tr>\n",
       "    <tr>\n",
       "      <th>-0.510</th>\n",
       "      <td>-0.429</td>\n",
       "      <td>0.668</td>\n",
       "      <td>-0.783</td>\n",
       "      <td>-0.198</td>\n",
       "      <td>-0.049</td>\n",
       "      <td>-0.486</td>\n",
       "      <td>-0.413</td>\n",
       "      <td>0.008</td>\n",
       "      <td>0.342</td>\n",
       "      <td>-0.417</td>\n",
       "      <td>-0.507</td>\n",
       "    </tr>\n",
       "  </tbody>\n",
       "</table>\n",
       "</div>"
      ],
      "text/plain": [
       "         fixed acidity  volatile acidity  citric acid  residual sugar  \\\n",
       "quality                                                                 \n",
       "1.034            0.269            -0.994        0.760          -0.100   \n",
       "0.501           -1.082             0.340       -0.903          -0.271   \n",
       "0.090            1.671            -0.553        1.219           0.119   \n",
       "-0.023          -0.086            -0.035        0.415           4.962   \n",
       "-0.361           0.082             0.018        1.144          -0.399   \n",
       "-0.425          -0.129             0.024        0.059          -0.021   \n",
       "-0.510          -0.429             0.668       -0.783          -0.198   \n",
       "\n",
       "         chlorides  free sulfur dioxide  total sulfur dioxide  density     pH  \\\n",
       "quality                                                                         \n",
       "1.034       -0.239               -0.341                -0.537   -0.505 -0.257   \n",
       "0.501       -0.414                0.276                -0.162   -1.330  1.148   \n",
       "0.090        0.052               -0.487                -0.432    1.205 -0.990   \n",
       "-0.023       0.296                1.750                 1.696    1.225 -0.325   \n",
       "-0.361       5.605               -0.070                 0.474    0.186 -1.687   \n",
       "-0.425      -0.039                1.000                 1.233    0.199 -0.094   \n",
       "-0.510      -0.049               -0.486                -0.413    0.008  0.342   \n",
       "\n",
       "         sulphates  alcohol  \n",
       "quality                      \n",
       "1.034        0.463    1.016  \n",
       "0.501       -0.125    1.174  \n",
       "0.090        0.223   -0.141  \n",
       "-0.023      -0.024   -0.364  \n",
       "-0.361       3.721   -0.883  \n",
       "-0.425      -0.171   -0.573  \n",
       "-0.510      -0.417   -0.507  "
      ]
     },
     "metadata": {},
     "output_type": "display_data"
    }
   ],
   "source": [
    "X['cluster7'] = km7.labels_\n",
    "\n",
    "display(X.groupby('cluster7').mean().sort_values(['quality'], ascending = False).set_index('quality'))"
   ]
  },
  {
   "cell_type": "code",
   "execution_count": 62,
   "metadata": {},
   "outputs": [
    {
     "data": {
      "text/html": [
       "<div>\n",
       "<style scoped>\n",
       "    .dataframe tbody tr th:only-of-type {\n",
       "        vertical-align: middle;\n",
       "    }\n",
       "\n",
       "    .dataframe tbody tr th {\n",
       "        vertical-align: top;\n",
       "    }\n",
       "\n",
       "    .dataframe thead tr th {\n",
       "        text-align: left;\n",
       "    }\n",
       "\n",
       "    .dataframe thead tr:last-of-type th {\n",
       "        text-align: right;\n",
       "    }\n",
       "</style>\n",
       "<table border=\"1\" class=\"dataframe\">\n",
       "  <thead>\n",
       "    <tr>\n",
       "      <th></th>\n",
       "      <th colspan=\"2\" halign=\"left\">quality</th>\n",
       "    </tr>\n",
       "    <tr>\n",
       "      <th></th>\n",
       "      <th>mean</th>\n",
       "      <th>size</th>\n",
       "    </tr>\n",
       "    <tr>\n",
       "      <th>cluster7</th>\n",
       "      <th></th>\n",
       "      <th></th>\n",
       "    </tr>\n",
       "  </thead>\n",
       "  <tbody>\n",
       "    <tr>\n",
       "      <th>0</th>\n",
       "      <td>-0.023</td>\n",
       "      <td>34.000</td>\n",
       "    </tr>\n",
       "    <tr>\n",
       "      <th>1</th>\n",
       "      <td>-0.510</td>\n",
       "      <td>491.000</td>\n",
       "    </tr>\n",
       "    <tr>\n",
       "      <th>2</th>\n",
       "      <td>0.501</td>\n",
       "      <td>199.000</td>\n",
       "    </tr>\n",
       "    <tr>\n",
       "      <th>3</th>\n",
       "      <td>-0.361</td>\n",
       "      <td>29.000</td>\n",
       "    </tr>\n",
       "    <tr>\n",
       "      <th>4</th>\n",
       "      <td>1.034</td>\n",
       "      <td>274.000</td>\n",
       "    </tr>\n",
       "    <tr>\n",
       "      <th>5</th>\n",
       "      <td>0.090</td>\n",
       "      <td>237.000</td>\n",
       "    </tr>\n",
       "    <tr>\n",
       "      <th>6</th>\n",
       "      <td>-0.425</td>\n",
       "      <td>335.000</td>\n",
       "    </tr>\n",
       "  </tbody>\n",
       "</table>\n",
       "</div>"
      ],
      "text/plain": [
       "         quality        \n",
       "            mean    size\n",
       "cluster7                \n",
       "0         -0.023  34.000\n",
       "1         -0.510 491.000\n",
       "2          0.501 199.000\n",
       "3         -0.361  29.000\n",
       "4          1.034 274.000\n",
       "5          0.090 237.000\n",
       "6         -0.425 335.000"
      ]
     },
     "execution_count": 62,
     "metadata": {},
     "output_type": "execute_result"
    }
   ],
   "source": [
    "X.loc[:,['cluster7', 'quality']].groupby(['cluster7']).aggregate([np.mean, np.size])"
   ]
  },
  {
   "cell_type": "markdown",
   "metadata": {},
   "source": [
    "**Variables that cluster with higher values of wine quality.**"
   ]
  },
  {
   "cell_type": "markdown",
   "metadata": {},
   "source": [
    "Low density and high alchol"
   ]
  },
  {
   "cell_type": "markdown",
   "metadata": {},
   "source": [
    "**Variables that cluster with lower values of wine quality.**"
   ]
  },
  {
   "cell_type": "markdown",
   "metadata": {},
   "source": [
    "high density and low alcohol"
   ]
  },
  {
   "cell_type": "markdown",
   "metadata": {},
   "source": [
    "**Characteristics that are most important according to this analysis?**"
   ]
  },
  {
   "cell_type": "markdown",
   "metadata": {},
   "source": [
    "Density and alcohol"
   ]
  },
  {
   "cell_type": "markdown",
   "metadata": {},
   "source": [
    "## Hierarchical Cluster Analysis "
   ]
  },
  {
   "cell_type": "markdown",
   "metadata": {},
   "source": [
    "Use complete linkage and the same number of groups (clusters) that you found to be the most meaningful in question 1."
   ]
  },
  {
   "cell_type": "code",
   "execution_count": 80,
   "metadata": {
    "collapsed": true
   },
   "outputs": [],
   "source": [
    "X = pd.DataFrame(scaler.transform(red), index=red.index, columns=red.columns)"
   ]
  },
  {
   "cell_type": "code",
   "execution_count": 49,
   "metadata": {
    "collapsed": true
   },
   "outputs": [],
   "source": [
    " # Import the dendrogram function and the ward clustering function from SciPy\n",
    "from scipy.cluster.hierarchy import dendrogram, complete\n",
    "\n",
    "# Apply the ward clustering to the data array X\n",
    "# The SciPy ward function returns an array that specifies the distances \n",
    "# bridged when performing agglomerative clustering\n",
    "linkage_array = complete(X)"
   ]
  },
  {
   "cell_type": "code",
   "execution_count": 61,
   "metadata": {
    "scrolled": true
   },
   "outputs": [
    {
     "data": {
      "text/plain": [
       "Text(0,0.5,'Cluster distance')"
      ]
     },
     "execution_count": 61,
     "metadata": {},
     "output_type": "execute_result"
    },
    {
     "data": {
      "image/png": "[encoded data removed]",
      "text/plain": [
       "<Figure size 1728x720 with 1 Axes>"
      ]
     },
     "metadata": {
      "needs_background": "light"
     },
     "output_type": "display_data"
    }
   ],
   "source": [
    "# Now we plot the dendrogram for the linkage_array containing the distances # between clusters\n",
    "fig = plt.figure(figsize=(24, 10))\n",
    "dendrogram(linkage_array)\n",
    "# Mark the cuts in the tree that signify two or three clusters\n",
    "ax = plt.gca()\n",
    "bounds = ax.get_xbound()\n",
    "\n",
    "ax.plot(bounds, [12.45, 12.45], '--', c='k')\n",
    "ax.plot(bounds, [11.05, 11.05], '--', c='k')\n",
    "\n",
    "ax.text(bounds[1], 12.45, ' Three clusters', va='center', fontdict={'size': 15})\n",
    "ax.text(bounds[1], 11.05, ' seven clusters', va='center', fontdict={'size': 15})\n",
    "\n",
    "plt.xlabel(\"Sample index\")\n",
    "plt.ylabel(\"Cluster distance\")\n"
   ]
  },
  {
   "cell_type": "code",
   "execution_count": 81,
   "metadata": {},
   "outputs": [
    {
     "data": {
      "text/plain": [
       "AgglomerativeClustering(affinity='euclidean', compute_full_tree='auto',\n",
       "            connectivity=None, linkage='complete', memory=None,\n",
       "            n_clusters=7, pooling_func=<function mean at 0x10e4a5950>)"
      ]
     },
     "execution_count": 81,
     "metadata": {},
     "output_type": "execute_result"
    }
   ],
   "source": [
    "from sklearn.cluster import AgglomerativeClustering\n",
    "\n",
    "hc7 = AgglomerativeClustering(n_clusters=7,\n",
    "                             affinity='euclidean', \n",
    "                             linkage='complete')\n",
    "hc7.fit(X) \n"
   ]
  },
  {
   "cell_type": "code",
   "execution_count": 82,
   "metadata": {
    "scrolled": true
   },
   "outputs": [
    {
     "data": {
      "text/html": [
       "<div>\n",
       "<style scoped>\n",
       "    .dataframe tbody tr th:only-of-type {\n",
       "        vertical-align: middle;\n",
       "    }\n",
       "\n",
       "    .dataframe tbody tr th {\n",
       "        vertical-align: top;\n",
       "    }\n",
       "\n",
       "    .dataframe thead th {\n",
       "        text-align: right;\n",
       "    }\n",
       "</style>\n",
       "<table border=\"1\" class=\"dataframe\">\n",
       "  <thead>\n",
       "    <tr style=\"text-align: right;\">\n",
       "      <th></th>\n",
       "      <th>fixed acidity</th>\n",
       "      <th>volatile acidity</th>\n",
       "      <th>citric acid</th>\n",
       "      <th>residual sugar</th>\n",
       "      <th>chlorides</th>\n",
       "      <th>free sulfur dioxide</th>\n",
       "      <th>total sulfur dioxide</th>\n",
       "      <th>density</th>\n",
       "      <th>pH</th>\n",
       "      <th>sulphates</th>\n",
       "      <th>alcohol</th>\n",
       "    </tr>\n",
       "    <tr>\n",
       "      <th>quality</th>\n",
       "      <th></th>\n",
       "      <th></th>\n",
       "      <th></th>\n",
       "      <th></th>\n",
       "      <th></th>\n",
       "      <th></th>\n",
       "      <th></th>\n",
       "      <th></th>\n",
       "      <th></th>\n",
       "      <th></th>\n",
       "      <th></th>\n",
       "    </tr>\n",
       "  </thead>\n",
       "  <tbody>\n",
       "    <tr>\n",
       "      <th>1.277</th>\n",
       "      <td>-0.624</td>\n",
       "      <td>-1.291</td>\n",
       "      <td>1.364</td>\n",
       "      <td>5.294</td>\n",
       "      <td>-0.676</td>\n",
       "      <td>3.168</td>\n",
       "      <td>5.956</td>\n",
       "      <td>-1.185</td>\n",
       "      <td>-1.260</td>\n",
       "      <td>-0.815</td>\n",
       "      <td>1.136</td>\n",
       "    </tr>\n",
       "    <tr>\n",
       "      <th>0.669</th>\n",
       "      <td>2.483</td>\n",
       "      <td>-0.657</td>\n",
       "      <td>1.593</td>\n",
       "      <td>0.193</td>\n",
       "      <td>-0.056</td>\n",
       "      <td>-0.472</td>\n",
       "      <td>-0.452</td>\n",
       "      <td>1.468</td>\n",
       "      <td>-1.626</td>\n",
       "      <td>0.646</td>\n",
       "      <td>0.131</td>\n",
       "    </tr>\n",
       "    <tr>\n",
       "      <th>0.165</th>\n",
       "      <td>-1.098</td>\n",
       "      <td>0.431</td>\n",
       "      <td>-0.722</td>\n",
       "      <td>-0.284</td>\n",
       "      <td>-0.402</td>\n",
       "      <td>-0.181</td>\n",
       "      <td>-0.186</td>\n",
       "      <td>-1.592</td>\n",
       "      <td>1.127</td>\n",
       "      <td>-0.297</td>\n",
       "      <td>1.529</td>\n",
       "    </tr>\n",
       "    <tr>\n",
       "      <th>0.070</th>\n",
       "      <td>0.285</td>\n",
       "      <td>-0.598</td>\n",
       "      <td>0.631</td>\n",
       "      <td>6.833</td>\n",
       "      <td>0.639</td>\n",
       "      <td>0.983</td>\n",
       "      <td>0.505</td>\n",
       "      <td>1.903</td>\n",
       "      <td>-0.501</td>\n",
       "      <td>0.115</td>\n",
       "      <td>-0.599</td>\n",
       "    </tr>\n",
       "    <tr>\n",
       "      <th>-0.027</th>\n",
       "      <td>0.010</td>\n",
       "      <td>-0.003</td>\n",
       "      <td>-0.029</td>\n",
       "      <td>-0.043</td>\n",
       "      <td>-0.108</td>\n",
       "      <td>0.023</td>\n",
       "      <td>-0.004</td>\n",
       "      <td>0.070</td>\n",
       "      <td>0.012</td>\n",
       "      <td>-0.125</td>\n",
       "      <td>-0.115</td>\n",
       "    </tr>\n",
       "    <tr>\n",
       "      <th>-0.336</th>\n",
       "      <td>0.012</td>\n",
       "      <td>-0.101</td>\n",
       "      <td>0.528</td>\n",
       "      <td>-0.328</td>\n",
       "      <td>2.707</td>\n",
       "      <td>-0.106</td>\n",
       "      <td>0.430</td>\n",
       "      <td>0.260</td>\n",
       "      <td>-1.022</td>\n",
       "      <td>2.585</td>\n",
       "      <td>-0.725</td>\n",
       "    </tr>\n",
       "    <tr>\n",
       "      <th>-1.407</th>\n",
       "      <td>0.075</td>\n",
       "      <td>-0.351</td>\n",
       "      <td>3.127</td>\n",
       "      <td>0.043</td>\n",
       "      <td>11.116</td>\n",
       "      <td>0.394</td>\n",
       "      <td>0.320</td>\n",
       "      <td>0.770</td>\n",
       "      <td>-2.664</td>\n",
       "      <td>5.735</td>\n",
       "      <td>-0.960</td>\n",
       "    </tr>\n",
       "  </tbody>\n",
       "</table>\n",
       "</div>"
      ],
      "text/plain": [
       "         fixed acidity  volatile acidity  citric acid  residual sugar  \\\n",
       "quality                                                                 \n",
       "1.277           -0.624            -1.291        1.364           5.294   \n",
       "0.669            2.483            -0.657        1.593           0.193   \n",
       "0.165           -1.098             0.431       -0.722          -0.284   \n",
       "0.070            0.285            -0.598        0.631           6.833   \n",
       "-0.027           0.010            -0.003       -0.029          -0.043   \n",
       "-0.336           0.012            -0.101        0.528          -0.328   \n",
       "-1.407           0.075            -0.351        3.127           0.043   \n",
       "\n",
       "         chlorides  free sulfur dioxide  total sulfur dioxide  density     pH  \\\n",
       "quality                                                                         \n",
       "1.277       -0.676                3.168                 5.956   -1.185 -1.260   \n",
       "0.669       -0.056               -0.472                -0.452    1.468 -1.626   \n",
       "0.165       -0.402               -0.181                -0.186   -1.592  1.127   \n",
       "0.070        0.639                0.983                 0.505    1.903 -0.501   \n",
       "-0.027      -0.108                0.023                -0.004    0.070  0.012   \n",
       "-0.336       2.707               -0.106                 0.430    0.260 -1.022   \n",
       "-1.407      11.116                0.394                 0.320    0.770 -2.664   \n",
       "\n",
       "         sulphates  alcohol  \n",
       "quality                      \n",
       "1.277       -0.815    1.136  \n",
       "0.669        0.646    0.131  \n",
       "0.165       -0.297    1.529  \n",
       "0.070        0.115   -0.599  \n",
       "-0.027      -0.125   -0.115  \n",
       "-0.336       2.585   -0.725  \n",
       "-1.407       5.735   -0.960  "
      ]
     },
     "metadata": {},
     "output_type": "display_data"
    }
   ],
   "source": [
    "X['hc7'] = hc7.labels_\n",
    "\n",
    "\n",
    "\n",
    "display(X.groupby('hc7').mean().sort_values(['quality'], ascending = False).set_index('quality'))"
   ]
  },
  {
   "cell_type": "code",
   "execution_count": 79,
   "metadata": {},
   "outputs": [
    {
     "data": {
      "text/html": [
       "<div>\n",
       "<style scoped>\n",
       "    .dataframe tbody tr th:only-of-type {\n",
       "        vertical-align: middle;\n",
       "    }\n",
       "\n",
       "    .dataframe tbody tr th {\n",
       "        vertical-align: top;\n",
       "    }\n",
       "\n",
       "    .dataframe thead tr th {\n",
       "        text-align: left;\n",
       "    }\n",
       "\n",
       "    .dataframe thead tr:last-of-type th {\n",
       "        text-align: right;\n",
       "    }\n",
       "</style>\n",
       "<table border=\"1\" class=\"dataframe\">\n",
       "  <thead>\n",
       "    <tr>\n",
       "      <th></th>\n",
       "      <th colspan=\"2\" halign=\"left\">quality</th>\n",
       "    </tr>\n",
       "    <tr>\n",
       "      <th></th>\n",
       "      <th>mean</th>\n",
       "      <th>size</th>\n",
       "    </tr>\n",
       "    <tr>\n",
       "      <th>hc7</th>\n",
       "      <th></th>\n",
       "      <th></th>\n",
       "    </tr>\n",
       "  </thead>\n",
       "  <tbody>\n",
       "    <tr>\n",
       "      <th>0</th>\n",
       "      <td>0.165</td>\n",
       "      <td>130.000</td>\n",
       "    </tr>\n",
       "    <tr>\n",
       "      <th>1</th>\n",
       "      <td>0.070</td>\n",
       "      <td>13.000</td>\n",
       "    </tr>\n",
       "    <tr>\n",
       "      <th>2</th>\n",
       "      <td>-0.336</td>\n",
       "      <td>63.000</td>\n",
       "    </tr>\n",
       "    <tr>\n",
       "      <th>3</th>\n",
       "      <td>-1.407</td>\n",
       "      <td>2.000</td>\n",
       "    </tr>\n",
       "    <tr>\n",
       "      <th>4</th>\n",
       "      <td>0.669</td>\n",
       "      <td>51.000</td>\n",
       "    </tr>\n",
       "    <tr>\n",
       "      <th>5</th>\n",
       "      <td>1.277</td>\n",
       "      <td>3.000</td>\n",
       "    </tr>\n",
       "    <tr>\n",
       "      <th>6</th>\n",
       "      <td>-0.027</td>\n",
       "      <td>1,337.000</td>\n",
       "    </tr>\n",
       "  </tbody>\n",
       "</table>\n",
       "</div>"
      ],
      "text/plain": [
       "    quality          \n",
       "       mean      size\n",
       "hc7                  \n",
       "0     0.165   130.000\n",
       "1     0.070    13.000\n",
       "2    -0.336    63.000\n",
       "3    -1.407     2.000\n",
       "4     0.669    51.000\n",
       "5     1.277     3.000\n",
       "6    -0.027 1,337.000"
      ]
     },
     "execution_count": 79,
     "metadata": {},
     "output_type": "execute_result"
    }
   ],
   "source": [
    "X.loc[:,['hc7', 'quality']].groupby(['hc7']).aggregate([np.mean, np.size])\n"
   ]
  },
  {
   "cell_type": "markdown",
   "metadata": {},
   "source": [
    "**Variables that cluster with higher values of wine quality.**\n",
    "\n",
    "High alcohol, low or high fixed acidity"
   ]
  },
  {
   "cell_type": "markdown",
   "metadata": {},
   "source": [
    "**Variables that cluster with lower values of wine quality.**\n",
    "\n",
    "Low alcohol, medium fixed acidity"
   ]
  },
  {
   "cell_type": "markdown",
   "metadata": {},
   "source": [
    "**Characteristics that are most important according to this analysis?** \n",
    "\n",
    "Alcohol, fixed acidity"
   ]
  },
  {
   "cell_type": "markdown",
   "metadata": {},
   "source": [
    "**Compare Hierarchical clustering with k-means clustering?**\n",
    "\n",
    "Heierarchical do not differentiate density, but fixed acidity. Alcohol remains the most clear sign of quality."
   ]
  },
  {
   "cell_type": "markdown",
   "metadata": {},
   "source": [
    "## Principal Component Analysis"
   ]
  },
  {
   "cell_type": "markdown",
   "metadata": {},
   "source": [
    "Use Principal Components Analysis to reduce the dimensions of your data. "
   ]
  },
  {
   "cell_type": "code",
   "execution_count": 85,
   "metadata": {},
   "outputs": [
    {
     "data": {
      "text/plain": [
       "PCA(copy=True, iterated_power='auto', n_components=2, random_state=None,\n",
       "  svd_solver='auto', tol=0.0, whiten=False)"
      ]
     },
     "execution_count": 85,
     "metadata": {},
     "output_type": "execute_result"
    }
   ],
   "source": [
    "from sklearn.decomposition import PCA\n",
    "# How many PCA returns\n",
    "pca = PCA(n_components=2)\n",
    "X = pd.DataFrame(scaler.transform(red), index=red.index, columns=red.columns)\n",
    "pca.fit(X)"
   ]
  },
  {
   "cell_type": "markdown",
   "metadata": {},
   "source": [
    "**How much of the variation in your data is explained by the first two principal components. **\n",
    "\n",
    "About 45%"
   ]
  },
  {
   "cell_type": "code",
   "execution_count": 86,
   "metadata": {},
   "outputs": [
    {
     "name": "stdout",
     "output_type": "stream",
     "text": [
      "[0.26009731 0.1868235 ]\n"
     ]
    }
   ],
   "source": [
    "print(pca.explained_variance_ratio_) "
   ]
  },
  {
   "cell_type": "markdown",
   "metadata": {},
   "source": [
    "**How I use the first two components to do supervised learning on some other variable tied to wine (e.g. - wine price)?**"
   ]
  },
  {
   "cell_type": "markdown",
   "metadata": {},
   "source": [
    "PCA can reduce the dimensions of the originial data, give us a simpler representation of the training data. \n",
    "\n",
    "Use the first two components we can reduce the data to 2 dimension, which in convenient for visualization, though only contains 45% variance.\n",
    "\n",
    "Use the simpler data to learn other variable can reduce the computational cost and learning time.\n"
   ]
  },
  {
   "cell_type": "code",
   "execution_count": 87,
   "metadata": {
    "collapsed": true
   },
   "outputs": [],
   "source": [
    "# create X data with single pca vector\n",
    "X_pca = pca.transform(X) "
   ]
  }
 ],
 "metadata": {
  "kernelspec": {
   "display_name": "Python 3",
   "language": "python",
   "name": "python3"
  },
  "language_info": {
   "codemirror_mode": {
    "name": "ipython",
    "version": 3
   },
   "file_extension": ".py",
   "mimetype": "text/x-python",
   "name": "python",
   "nbconvert_exporter": "python",
   "pygments_lexer": "ipython3",
   "version": "3.8.3"
  },
  "toc": {
   "base_numbering": 1,
   "nav_menu": {},
   "number_sections": false,
   "sideBar": true,
   "skip_h1_title": false,
   "title_cell": "Table of Contents",
   "title_sidebar": "Contents",
   "toc_cell": true,
   "toc_position": {},
   "toc_section_display": true,
   "toc_window_display": false
  }
 },
 "nbformat": 4,
 "nbformat_minor": 2
}
