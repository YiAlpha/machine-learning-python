{
 "cells": [
  {
   "cell_type": "markdown",
   "metadata": {},
   "source": [
    "# Working With Imbalanced Data"
   ]
  },
  {
   "cell_type": "markdown",
   "metadata": {},
   "source": [
    "## Installation via Anaconda command line\n",
    "Paste following code and hit enter:\n",
    "\n",
    "conda install -c glemaitre imbalanced-learn\n"
   ]
  },
  {
   "cell_type": "markdown",
   "metadata": {},
   "source": [
    "## Oversampling\n",
    "One way to fight this issue is to generate new samples in the classes which are under-represented. The most naive strategy is to generate new samples by randomly sampling with replacement the current available samples. The RandomOverSampler offers such scheme:\n"
   ]
  },
  {
   "cell_type": "code",
   "execution_count": 1,
   "metadata": {},
   "outputs": [
    {
     "name": "stderr",
     "output_type": "stream",
     "text": [
      "/anaconda/envs/ml/lib/python3.7/site-packages/sklearn/utils/__init__.py:4: DeprecationWarning: Using or importing the ABCs from 'collections' instead of from 'collections.abc' is deprecated, and in 3.8 it will stop working\n",
      "  from collections import Sequence\n"
     ]
    }
   ],
   "source": [
    "import pandas as pd\n",
    "import numpy as np\n",
    "import matplotlib as mpl\n",
    "import matplotlib.pyplot as plt\n",
    "import seaborn as sns\n",
    "\n",
    "#Make some data:\n",
    "\n",
    "from sklearn.datasets import make_classification\n",
    "X, y = make_classification(n_samples=5000, n_features=2, n_informative=2,\n",
    "                           n_redundant=0, n_repeated=0, n_classes=3,\n",
    "                           n_clusters_per_class=1,\n",
    "                           weights=[0.01, 0.05, 0.94],\n",
    "                           class_sep=0.8, random_state=0)\n",
    "\n",
    "\n"
   ]
  },
  {
   "cell_type": "code",
   "execution_count": 2,
   "metadata": {},
   "outputs": [
    {
     "name": "stdout",
     "output_type": "stream",
     "text": [
      "2    4674\n",
      "1    4674\n",
      "0    4674\n",
      "dtype: int64\n"
     ]
    }
   ],
   "source": [
    "from imblearn.over_sampling import RandomOverSampler\n",
    "\n",
    "ros = RandomOverSampler(random_state=0)\n",
    "X_resampled, y_resampled = ros.fit_sample(X, y)\n",
    "\n",
    "# Count each value of y\n",
    "\n",
    "print(pd.Series(y_resampled).value_counts())\n",
    "\n"
   ]
  },
  {
   "cell_type": "code",
   "execution_count": 8,
   "metadata": {},
   "outputs": [
    {
     "name": "stdout",
     "output_type": "stream",
     "text": [
      "2    0.9348\n",
      "1    0.0524\n",
      "0    0.0128\n",
      "dtype: float64\n"
     ]
    }
   ],
   "source": [
    "#proportions\n",
    "print(pd.Series(y).value_counts(normalize=True))\n"
   ]
  },
  {
   "cell_type": "markdown",
   "metadata": {},
   "source": [
    "#The augmented data set should be used instead of the original data set to train a classifier:\n",
    "\n"
   ]
  },
  {
   "cell_type": "code",
   "execution_count": 9,
   "metadata": {},
   "outputs": [
    {
     "name": "stdout",
     "output_type": "stream",
     "text": [
      "             precision    recall  f1-score   support\n",
      "\n",
      "          0       1.00      0.19      0.32        64\n",
      "          1       0.81      0.68      0.74       262\n",
      "          2       0.98      1.00      0.99      4674\n",
      "\n",
      "avg / total       0.97      0.97      0.97      5000\n",
      "\n",
      "0.9726\n"
     ]
    }
   ],
   "source": [
    "# Notice that we run a model on the original data, then the resampled data\n",
    "\n",
    "from sklearn.linear_model import LogisticRegression\n",
    "from sklearn.metrics import classification_report\n",
    "from sklearn.metrics import auc\n",
    "from sklearn.metrics import roc_curve\n",
    "\n",
    "logreg = LogisticRegression().fit(X,y)\n",
    "y_pred = logreg.predict(X) # y_pred includes your predictions\n",
    "\n",
    "print(classification_report(y, y_pred)) # precision recall and f1\n",
    "print(logreg.score(X, y)) #accuracy \n",
    "\n"
   ]
  },
  {
   "cell_type": "code",
   "execution_count": 10,
   "metadata": {},
   "outputs": [
    {
     "name": "stdout",
     "output_type": "stream",
     "text": [
      "             precision    recall  f1-score   support\n",
      "\n",
      "          0       0.81      0.76      0.78      4674\n",
      "          1       0.89      0.80      0.84      4674\n",
      "          2       0.79      0.93      0.85      4674\n",
      "\n",
      "avg / total       0.83      0.83      0.83     14022\n",
      "\n",
      "0.8266295820852946\n"
     ]
    }
   ],
   "source": [
    "# The resampled model influences precision and recall for categories with imbalanced data\n",
    "\n",
    "logreg = LogisticRegression().fit(X_resampled,y_resampled)\n",
    "y_pred = logreg.predict(X_resampled) # y_pred includes your predictions\n",
    "\n",
    "print(classification_report(y_resampled, y_pred)) # precision recall and f1\n",
    "print(logreg.score(X_resampled, y_resampled)) #accuracy "
   ]
  },
  {
   "cell_type": "markdown",
   "metadata": {},
   "source": [
    "As a result, the majority class does not take over the other classes during the training process. Consequently, all classes are represented by the decision function."
   ]
  },
  {
   "cell_type": "markdown",
   "metadata": {},
   "source": [
    "# Plot random oversampling"
   ]
  },
  {
   "cell_type": "code",
   "execution_count": 11,
   "metadata": {},
   "outputs": [
    {
     "name": "stdout",
     "output_type": "stream",
     "text": [
      "Automatically created module for IPython interactive environment\n"
     ]
    }
   ],
   "source": [
    "import matplotlib.pyplot as plt\n",
    "from sklearn.datasets import make_classification\n",
    "from sklearn.decomposition import PCA\n",
    "\n",
    "from imblearn.over_sampling import RandomOverSampler\n",
    "\n",
    "print(__doc__)\n",
    "\n",
    "# Generate the dataset\n",
    "X, y = make_classification(n_classes=2, class_sep=2, weights=[0.1, 0.9],\n",
    "                           n_informative=3, n_redundant=1, flip_y=0,\n",
    "                           n_features=20, n_clusters_per_class=1,\n",
    "                           n_samples=200, random_state=10)\n",
    "\n",
    "# Instanciate a PCA object for the sake of easy visualisation\n",
    "pca = PCA(n_components=2)\n",
    "# Fit and transform x to visualise inside a 2D feature space\n",
    "X_vis = pca.fit_transform(X)\n",
    "\n",
    "# Apply the random over-sampling\n",
    "ros = RandomOverSampler()\n",
    "X_resampled, y_resampled = ros.fit_sample(X, y)\n",
    "X_res_vis = pca.transform(X_resampled)\n",
    "\n"
   ]
  },
  {
   "cell_type": "code",
   "execution_count": 12,
   "metadata": {},
   "outputs": [
    {
     "data": {
      "image/png": "[encoded data removed]",
      "text/plain": [
       "<Figure size 432x288 with 2 Axes>"
      ]
     },
     "metadata": {},
     "output_type": "display_data"
    }
   ],
   "source": [
    "# Two subplots, unpack the axes array immediately\n",
    "f, (ax1, ax2) = plt.subplots(1, 2)\n",
    "\n",
    "c0 = ax1.scatter(X_vis[y == 0, 0], X_vis[y == 0, 1], label=\"Class #0\",\n",
    "                 alpha=0.5)\n",
    "c1 = ax1.scatter(X_vis[y == 1, 0], X_vis[y == 1, 1], label=\"Class #1\",\n",
    "                 alpha=0.5)\n",
    "ax1.set_title('Original set')\n",
    "\n",
    "ax2.scatter(X_res_vis[y_resampled == 0, 0], X_res_vis[y_resampled == 0, 1],\n",
    "            label=\"Class #0\", alpha=.5)\n",
    "ax2.scatter(X_res_vis[y_resampled == 1, 0], X_res_vis[y_resampled == 1, 1],\n",
    "            label=\"Class #1\", alpha=.5)\n",
    "ax2.set_title('Random over-sampling')\n",
    "\n",
    "# make nice plotting\n",
    "for ax in (ax1, ax2):\n",
    "    ax.spines['top'].set_visible(False)\n",
    "    ax.spines['right'].set_visible(False)\n",
    "    ax.get_xaxis().tick_bottom()\n",
    "    ax.get_yaxis().tick_left()\n",
    "    ax.spines['left'].set_position(('outward', 10))\n",
    "    ax.spines['bottom'].set_position(('outward', 10))\n",
    "    ax.set_xlim([-6, 8])\n",
    "    ax.set_ylim([-6, 6])\n",
    "\n",
    "plt.figlegend((c0, c1), ('Class #0', 'Class #1'), loc='lower center',\n",
    "              ncol=2, labelspacing=0.)\n",
    "plt.tight_layout(pad=3)\n",
    "plt.show()"
   ]
  },
  {
   "cell_type": "markdown",
   "metadata": {},
   "source": [
    "# Random Undersampling"
   ]
  },
  {
   "cell_type": "code",
   "execution_count": 89,
   "metadata": {},
   "outputs": [
    {
     "name": "stdout",
     "output_type": "stream",
     "text": [
      "0    900\n",
      "1    100\n",
      "dtype: int64\n"
     ]
    },
    {
     "data": {
      "image/png": "[encoded data removed]",
      "text/plain": [
       "<matplotlib.figure.Figure at 0xf7b42b0>"
      ]
     },
     "metadata": {},
     "output_type": "display_data"
    }
   ],
   "source": [
    "from sklearn.datasets import make_classification\n",
    "\n",
    "X, y = make_classification(\n",
    "    n_classes=2, class_sep=1.5, weights=[0.9, 0.1],\n",
    "    n_informative=3, n_redundant=1, flip_y=0,\n",
    "    n_features=20, n_clusters_per_class=1,\n",
    "    n_samples=1000, random_state=10\n",
    ")\n",
    "\n",
    "df = pd.DataFrame(X)\n",
    "df['target'] = y\n",
    "df.target.value_counts().plot(kind='bar', title='Count (target)');\n",
    "\n",
    "\n",
    "print(pd.Series(y).value_counts())\n",
    "\n"
   ]
  },
  {
   "cell_type": "code",
   "execution_count": 90,
   "metadata": {},
   "outputs": [
    {
     "name": "stdout",
     "output_type": "stream",
     "text": [
      "1    100\n",
      "0    100\n",
      "dtype: int64\n"
     ]
    }
   ],
   "source": [
    "from imblearn.under_sampling import RandomUnderSampler\n",
    "rus = RandomUnderSampler(random_state=0)\n",
    "\n",
    "X_resampled, y_resampled = rus.fit_sample(X, y)\n",
    "\n",
    "print(pd.Series(y_resampled).value_counts())\n"
   ]
  },
  {
   "cell_type": "markdown",
   "metadata": {},
   "source": [
    "Of course we lose a lot of data when we undersample.  Better to oversample minority class while keeping the signal from the data, if possible.\n",
    "### Enter Synthetic Minority Oversampling Technique (SMOTE)"
   ]
  },
  {
   "cell_type": "code",
   "execution_count": 91,
   "metadata": {
    "collapsed": true
   },
   "outputs": [],
   "source": [
    "from imblearn.over_sampling import SMOTE\n",
    "\n",
    "smote = SMOTE(ratio='minority')\n",
    "X_sm, y_sm = smote.fit_sample(X, y)\n",
    "\n"
   ]
  },
  {
   "cell_type": "code",
   "execution_count": 92,
   "metadata": {},
   "outputs": [
    {
     "name": "stdout",
     "output_type": "stream",
     "text": [
      "0    900\n",
      "1    100\n",
      "dtype: int64\n"
     ]
    }
   ],
   "source": [
    "#Original Data\n",
    "print(pd.Series(y).value_counts())\n"
   ]
  },
  {
   "cell_type": "code",
   "execution_count": 93,
   "metadata": {},
   "outputs": [
    {
     "name": "stdout",
     "output_type": "stream",
     "text": [
      "1    900\n",
      "0    900\n",
      "dtype: int64\n"
     ]
    }
   ],
   "source": [
    "#New Data\n",
    "\n",
    "print(pd.Series(y_sm).value_counts())\n"
   ]
  },
  {
   "cell_type": "markdown",
   "metadata": {},
   "source": [
    "## Modeling smote data"
   ]
  },
  {
   "cell_type": "code",
   "execution_count": 94,
   "metadata": {},
   "outputs": [
    {
     "name": "stdout",
     "output_type": "stream",
     "text": [
      "             precision    recall  f1-score   support\n",
      "\n",
      "          0       0.99      1.00      0.99       900\n",
      "          1       0.99      0.87      0.93       100\n",
      "\n",
      "avg / total       0.99      0.99      0.99      1000\n",
      "\n",
      "0.986\n"
     ]
    }
   ],
   "source": [
    "#Original data fit\n",
    "\n",
    "logreg = LogisticRegression().fit(X,y)\n",
    "y_pred = logreg.predict(X) # y_pred includes your predictions\n",
    "\n",
    "print(classification_report(y, y_pred)) # precision recall and f1\n",
    "print(logreg.score(X, y)) #accuracy "
   ]
  },
  {
   "cell_type": "code",
   "execution_count": 95,
   "metadata": {
    "collapsed": true
   },
   "outputs": [],
   "source": [
    "# Smote oversample of minority classes\n",
    "\n",
    "smote = SMOTE(ratio='minority')\n",
    "\n",
    "X_sm, y_sm = smote.fit_sample(X, y)"
   ]
  },
  {
   "cell_type": "code",
   "execution_count": 96,
   "metadata": {},
   "outputs": [
    {
     "name": "stdout",
     "output_type": "stream",
     "text": [
      "             precision    recall  f1-score   support\n",
      "\n",
      "          0       0.97      0.97      0.97       900\n",
      "          1       0.97      0.97      0.97       900\n",
      "\n",
      "avg / total       0.97      0.97      0.97      1800\n",
      "\n",
      "0.9688888888888889\n"
     ]
    }
   ],
   "source": [
    "#smote data fit\n",
    "\n",
    "logreg = LogisticRegression().fit(X_sm,y_sm)\n",
    "y_pred = logreg.predict(X_sm) # y_pred includes your predictions\n",
    "\n",
    "print(classification_report(y_sm, y_pred)) # precision recall and f1\n",
    "print(logreg.score(X_sm, y_sm)) #accuracy "
   ]
  },
  {
   "cell_type": "markdown",
   "metadata": {},
   "source": [
    "## Combination of over- and under-sampling"
   ]
  },
  {
   "cell_type": "code",
   "execution_count": 115,
   "metadata": {},
   "outputs": [
    {
     "name": "stdout",
     "output_type": "stream",
     "text": [
      "             precision    recall  f1-score   support\n",
      "\n",
      "       '-1'       0.88      0.90      0.89     10894\n",
      "        '1'       0.90      0.88      0.89     10894\n",
      "\n",
      "avg / total       0.89      0.89      0.89     21788\n",
      "\n",
      "0.8899853130163393\n"
     ]
    }
   ],
   "source": [
    "# We can use SMOTE with a second technique that dismisses nearest\n",
    "# neighbors that have diff't classes before creating synthetic observations (i.e.-delete all Tomek links)\n",
    "\n",
    "\n",
    "from imblearn.combine import SMOTETomek\n",
    "\n",
    "smt = SMOTETomek(ratio='minority')\n",
    "X_smt, y_smt = smt.fit_sample(X, y)\n",
    "\n",
    "logreg = LogisticRegression().fit(X_smt,y_smt)\n",
    "y_pred = logreg.predict(X_smt) # y_pred includes your predictions\n",
    "\n",
    "print(classification_report(y_smt, y_pred)) # precision recall and f1\n",
    "print(logreg.score(X_smt, y_smt)) #accuracy increases a bit, but we should test on new data"
   ]
  },
  {
   "cell_type": "markdown",
   "metadata": {},
   "source": [
    "## Now you try to improve prediction error on new data:\n",
    "\n",
    "- transform the data\n",
    "- train test split\n",
    "- later can refer to train and test dataset"
   ]
  },
  {
   "cell_type": "code",
   "execution_count": 3,
   "metadata": {},
   "outputs": [
    {
     "name": "stdout",
     "output_type": "stream",
     "text": [
      "['malignant', 'benign']\n",
      "1    0.627417\n",
      "0    0.372583\n",
      "dtype: float64\n"
     ]
    },
    {
     "data": {
      "text/plain": [
       "(569, 30)"
      ]
     },
     "execution_count": 3,
     "metadata": {},
     "output_type": "execute_result"
    }
   ],
   "source": [
    "import pandas as pd\n",
    "\n",
    "from sklearn.datasets import load_breast_cancer\n",
    "bc_load_data = load_breast_cancer()\n",
    "\n",
    "print(list(bc_load_data.target_names))\n",
    "\n",
    "y = bc_load_data.target\n",
    "X = bc_load_data.data\n",
    "\n",
    "print(pd.Series(y).value_counts(normalize=True))\n",
    "\n",
    "X.shape\n"
   ]
  },
  {
   "cell_type": "code",
   "execution_count": 4,
   "metadata": {},
   "outputs": [
    {
     "name": "stdout",
     "output_type": "stream",
     "text": [
      "1    357\n",
      "0    212\n",
      "dtype: int64\n",
      "1    357\n",
      "0    357\n",
      "dtype: int64\n"
     ]
    }
   ],
   "source": [
    "# We didn't split data into training and test sets consistently above. But you should do so here to score test data.\n",
    "\n",
    "from imblearn.over_sampling import SMOTE\n",
    "\n",
    "smote = SMOTE(ratio='minority')\n",
    "X_sm, y_sm = smote.fit_sample(X, y)\n",
    "\n",
    "#Original Data\n",
    "print(pd.Series(y).value_counts())\n",
    "\n",
    "#New Data\n",
    "\n",
    "print(pd.Series(y_sm).value_counts())\n"
   ]
  },
  {
   "cell_type": "code",
   "execution_count": 6,
   "metadata": {},
   "outputs": [
    {
     "name": "stdout",
     "output_type": "stream",
     "text": [
      "             precision    recall  f1-score   support\n",
      "\n",
      "          0       0.96      0.93      0.95       212\n",
      "          1       0.96      0.97      0.97       357\n",
      "\n",
      "avg / total       0.96      0.96      0.96       569\n",
      "\n",
      "0.9595782073813708\n"
     ]
    }
   ],
   "source": [
    "#Original data fit\n",
    "\n",
    "from sklearn.linear_model import LogisticRegression\n",
    "from sklearn.metrics import classification_report\n",
    "from sklearn.metrics import auc\n",
    "from sklearn.metrics import roc_curve\n",
    "\n",
    "logreg = LogisticRegression().fit(X,y)\n",
    "y_pred = logreg.predict(X) # y_pred includes your predictions\n",
    "\n",
    "print(classification_report(y, y_pred)) # precision recall and f1\n",
    "print(logreg.score(X, y)) #accuracy "
   ]
  },
  {
   "cell_type": "code",
   "execution_count": 7,
   "metadata": {
    "collapsed": true
   },
   "outputs": [],
   "source": [
    "# Smote oversample of minority classes\n",
    "\n",
    "smote = SMOTE(ratio='minority')\n",
    "\n",
    "X_sm, y_sm = smote.fit_sample(X, y)"
   ]
  },
  {
   "cell_type": "code",
   "execution_count": 8,
   "metadata": {},
   "outputs": [
    {
     "name": "stdout",
     "output_type": "stream",
     "text": [
      "             precision    recall  f1-score   support\n",
      "\n",
      "          0       0.97      0.96      0.96       357\n",
      "          1       0.96      0.97      0.96       357\n",
      "\n",
      "avg / total       0.96      0.96      0.96       714\n",
      "\n",
      "0.9607843137254902\n"
     ]
    }
   ],
   "source": [
    "#smote data fit\n",
    "\n",
    "logreg = LogisticRegression().fit(X_sm,y_sm)\n",
    "y_pred = logreg.predict(X_sm) # y_pred includes your predictions\n",
    "\n",
    "print(classification_report(y_sm, y_pred)) # precision recall and f1\n",
    "print(logreg.score(X_sm, y_sm)) #accuracy "
   ]
  },
  {
   "cell_type": "code",
   "execution_count": 9,
   "metadata": {},
   "outputs": [
    {
     "name": "stdout",
     "output_type": "stream",
     "text": [
      "1    354\n",
      "0    354\n",
      "dtype: int64\n"
     ]
    },
    {
     "name": "stderr",
     "output_type": "stream",
     "text": [
      "/anaconda/envs/ml/lib/python3.7/site-packages/sklearn/ensemble/weight_boosting.py:29: DeprecationWarning: numpy.core.umath_tests is an internal NumPy module and should not be imported. It will be removed in a future NumPy release.\n",
      "  from numpy.core.umath_tests import inner1d\n"
     ]
    }
   ],
   "source": [
    "# We can use SMOTE with a second technique that dismisses nearest\n",
    "# neighbors that have diff't classes before creating synthetic observations (i.e.-delete all Tomek links)\n",
    "\n",
    "\n",
    "from imblearn.combine import SMOTETomek\n",
    "\n",
    "smt = SMOTETomek(ratio='minority')\n",
    "X_smt, y_smt = smt.fit_sample(X, y)\n",
    "\n",
    "\n",
    "print(pd.Series(y_smt).value_counts())"
   ]
  },
  {
   "cell_type": "code",
   "execution_count": 10,
   "metadata": {},
   "outputs": [
    {
     "name": "stdout",
     "output_type": "stream",
     "text": [
      "             precision    recall  f1-score   support\n",
      "\n",
      "          0       0.97      0.96      0.97       354\n",
      "          1       0.96      0.97      0.97       354\n",
      "\n",
      "avg / total       0.97      0.97      0.97       708\n",
      "\n",
      "0.9661016949152542\n"
     ]
    }
   ],
   "source": [
    "logreg = LogisticRegression().fit(X_smt,y_smt)\n",
    "y_pred = logreg.predict(X_smt) # y_pred includes your predictions\n",
    "\n",
    "print(classification_report(y_smt, y_pred)) # precision recall and f1\n",
    "print(logreg.score(X_smt, y_smt)) #accuracy increases a bit, but we should test on new data"
   ]
  },
  {
   "cell_type": "code",
   "execution_count": null,
   "metadata": {
    "collapsed": true
   },
   "outputs": [],
   "source": []
  }
 ],
 "metadata": {
  "kernelspec": {
   "display_name": "Python [conda env:ml]",
   "language": "python",
   "name": "conda-env-ml-py"
  },
  "language_info": {
   "codemirror_mode": {
    "name": "ipython",
    "version": 3
   },
   "file_extension": ".py",
   "mimetype": "text/x-python",
   "name": "python",
   "nbconvert_exporter": "python",
   "pygments_lexer": "ipython3",
   "version": "3.7.1"
  }
 },
 "nbformat": 4,
 "nbformat_minor": 2
}
