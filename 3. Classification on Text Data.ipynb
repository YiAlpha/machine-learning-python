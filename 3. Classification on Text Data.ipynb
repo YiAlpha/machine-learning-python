{
 "cells": [
  {
   "cell_type": "markdown",
   "metadata": {
    "toc": true
   },
   "source": [
    "<h1>Table of Contents<span class=\"tocSkip\"></span></h1>\n",
    "<div class=\"toc\"><ul class=\"toc-item\"><li><span><a href=\"#Classification-on-text-data\" data-toc-modified-id=\"Classification-on-text-data-1\">Classification on text data</a></span><ul class=\"toc-item\"><li><span><a href=\"#Import-the-text-data\" data-toc-modified-id=\"Import-the-text-data-1.1\">Import the text data</a></span></li><li><span><a href=\"#Vectorize\" data-toc-modified-id=\"Vectorize-1.2\">Vectorize</a></span></li><li><span><a href=\"#Run-three-models-and-Select\" data-toc-modified-id=\"Run-three-models-and-Select-1.3\">Run three models and Select</a></span><ul class=\"toc-item\"><li><span><a href=\"#a)-KNN\" data-toc-modified-id=\"a)-KNN-1.3.1\">a) KNN</a></span></li><li><span><a href=\"#b)-Penalized-Logistic-regression\" data-toc-modified-id=\"b)-Penalized-Logistic-regression-1.3.2\">b) Penalized Logistic regression</a></span></li><li><span><a href=\"#c)-Bagged-Tree\" data-toc-modified-id=\"c)-Bagged-Tree-1.3.3\">c) Bagged Tree</a></span></li></ul></li><li><span><a href=\"#Inspect-all-models-by-visualizing-the-coefficients.\" data-toc-modified-id=\"Inspect-all-models-by-visualizing-the-coefficients.-1.4\">Inspect all models by visualizing the coefficients.</a></span></li></ul></li></ul></div>"
   ]
  },
  {
   "cell_type": "markdown",
   "metadata": {},
   "source": [
    "# Classification on text data"
   ]
  },
  {
   "cell_type": "markdown",
   "metadata": {},
   "source": [
    "## Import the text data"
   ]
  },
  {
   "cell_type": "code",
   "execution_count": 1,
   "metadata": {},
   "outputs": [
    {
     "name": "stderr",
     "output_type": "stream",
     "text": [
      "/anaconda/envs/ml/lib/python3.7/site-packages/sklearn/utils/__init__.py:4: DeprecationWarning: Using or importing the ABCs from 'collections' instead of from 'collections.abc' is deprecated, and in 3.8 it will stop working\n",
      "  from collections import Sequence\n"
     ]
    },
    {
     "name": "stdout",
     "output_type": "stream",
     "text": [
      "(16985,)\n",
      "(5657,)\n"
     ]
    }
   ],
   "source": [
    "import pandas as pd\n",
    "from sklearn.datasets import load_files\n",
    "\n",
    "train = pd.read_csv(\"./Text_train_data.csv\")\n",
    "test = pd.read_csv(\"./Text_test_data.csv\")\n",
    "\n",
    "text_train, y_train = train.Review, train.Recommended\n",
    "text_test, y_test = test.Review, test.Recommended\n",
    "\n",
    "\n",
    "\n",
    "print(y_train.shape)\n",
    "print(y_test.shape)\n"
   ]
  },
  {
   "cell_type": "code",
   "execution_count": 2,
   "metadata": {},
   "outputs": [
    {
     "data": {
      "text/html": [
       "<div>\n",
       "<style scoped>\n",
       "    .dataframe tbody tr th:only-of-type {\n",
       "        vertical-align: middle;\n",
       "    }\n",
       "\n",
       "    .dataframe tbody tr th {\n",
       "        vertical-align: top;\n",
       "    }\n",
       "\n",
       "    .dataframe thead th {\n",
       "        text-align: right;\n",
       "    }\n",
       "</style>\n",
       "<table border=\"1\" class=\"dataframe\">\n",
       "  <thead>\n",
       "    <tr style=\"text-align: right;\">\n",
       "      <th></th>\n",
       "      <th>Review</th>\n",
       "      <th>Recommended</th>\n",
       "    </tr>\n",
       "  </thead>\n",
       "  <tbody>\n",
       "    <tr>\n",
       "      <th>0</th>\n",
       "      <td>\"go to\" please offer a maxi for mature custome...</td>\n",
       "      <td>1</td>\n",
       "    </tr>\n",
       "    <tr>\n",
       "      <th>1</th>\n",
       "      <td>\"go to\" tee for sz 10+ women.Women who want so...</td>\n",
       "      <td>1</td>\n",
       "    </tr>\n",
       "    <tr>\n",
       "      <th>2</th>\n",
       "      <td>\"long and warm\".These leg warmers are perfect ...</td>\n",
       "      <td>1</td>\n",
       "    </tr>\n",
       "    <tr>\n",
       "      <th>3</th>\n",
       "      <td>\"tweed\" dress.I bought this dress for my siste...</td>\n",
       "      <td>1</td>\n",
       "    </tr>\n",
       "    <tr>\n",
       "      <th>4</th>\n",
       "      <td>#1 stunna.I am in lust with this fabulous dres...</td>\n",
       "      <td>1</td>\n",
       "    </tr>\n",
       "  </tbody>\n",
       "</table>\n",
       "</div>"
      ],
      "text/plain": [
       "                                              Review  Recommended\n",
       "0  \"go to\" please offer a maxi for mature custome...            1\n",
       "1  \"go to\" tee for sz 10+ women.Women who want so...            1\n",
       "2  \"long and warm\".These leg warmers are perfect ...            1\n",
       "3  \"tweed\" dress.I bought this dress for my siste...            1\n",
       "4  #1 stunna.I am in lust with this fabulous dres...            1"
      ]
     },
     "execution_count": 2,
     "metadata": {},
     "output_type": "execute_result"
    }
   ],
   "source": [
    "train.head()"
   ]
  },
  {
   "cell_type": "code",
   "execution_count": 3,
   "metadata": {
    "scrolled": true
   },
   "outputs": [
    {
     "data": {
      "text/plain": [
       "1    13910\n",
       "0     3075\n",
       "Name: Recommended, dtype: int64"
      ]
     },
     "execution_count": 3,
     "metadata": {},
     "output_type": "execute_result"
    }
   ],
   "source": [
    "train['Recommended'].value_counts()"
   ]
  },
  {
   "cell_type": "markdown",
   "metadata": {},
   "source": [
    "## Vectorize"
   ]
  },
  {
   "cell_type": "code",
   "execution_count": 25,
   "metadata": {
    "collapsed": true
   },
   "outputs": [],
   "source": [
    "\n",
    "from sklearn.feature_extraction.text import CountVectorizer\n",
    "vect = CountVectorizer().fit(text_train)\n",
    "X_train = vect.transform(text_train)\n",
    "X_test = vect.transform(text_test)"
   ]
  },
  {
   "cell_type": "code",
   "execution_count": 6,
   "metadata": {},
   "outputs": [
    {
     "name": "stdout",
     "output_type": "stream",
     "text": [
      "X:\n",
      "<16985x13010 sparse matrix of type '<class 'numpy.int64'>'\n",
      "\twith 749166 stored elements in Compressed Sparse Row format>\n"
     ]
    }
   ],
   "source": [
    "print(\"X:\\n{}\".format(repr(X_train)))"
   ]
  },
  {
   "cell_type": "code",
   "execution_count": 7,
   "metadata": {},
   "outputs": [
    {
     "data": {
      "text/plain": [
       "CountVectorizer(analyzer='word', binary=False, decode_error='strict',\n",
       "        dtype=<class 'numpy.int64'>, encoding='utf-8', input='content',\n",
       "        lowercase=True, max_df=1.0, max_features=None, min_df=1,\n",
       "        ngram_range=(1, 1), preprocessor=None, stop_words=None,\n",
       "        strip_accents=None, token_pattern='(?u)\\\\b\\\\w\\\\w+\\\\b',\n",
       "        tokenizer=None, vocabulary=None)"
      ]
     },
     "execution_count": 7,
     "metadata": {},
     "output_type": "execute_result"
    }
   ],
   "source": [
    "vect"
   ]
  },
  {
   "cell_type": "code",
   "execution_count": 8,
   "metadata": {},
   "outputs": [
    {
     "name": "stdout",
     "output_type": "stream",
     "text": [
      "Number of features: 13010\n",
      "First 20 features:\n",
      "['00', '000', '00p', '03', '03dd', '04', '06', '0dd', '0in', '0p', '0petite', '0r', '0xs', '10', '100', '1000', '100lb', '100lbs', '102', '102lbs']\n",
      "Features 210 to 230:\n",
      "['1st', '1x', '20', '200', '2000s', '2001', '2004', '2005', '2006', '2007', '2008', '2010', '2012', '2013', '2015', '2016', '2035', '20lb', '20lbs', '20s']\n",
      "Every 200th feature:\n",
      "['00', '1970', '56', 'actualyl', 'altar', 'area', 'awsome', 'beforehand', 'blossoms', 'breastfeeding', 'buttoning', 'cedar', 'circle', 'combat', 'constructed', 'cream', 'darkler', 'designed', 'dissapointing', 'dropped', 'embroiderer', 'excellently', 'fashioned', 'flaring', 'former', 'gauze', 'graphic', 'havne', 'hoodie', 'imperfection', 'interfered', 'july', 'las', 'limiting', 'lucky', 'matte', 'minor', 'mum', 'nimble', 'ombrã', 'overtime', 'peek', 'pinstripe', 'possessing', 'promised', 'rail', 'regualr', 'retailerpolog', 'rt', 'scratches', 'shapewear', 'sill', 'slumpy', 'spaghetti', 'steaming', 'stunned', 'sways', 'tell', 'ticket', 'trapeze', 'unacceptable', 'unusial', 'vita', 'well', 'words', 'zips']\n"
     ]
    }
   ],
   "source": [
    "feature_names = vect.get_feature_names()\n",
    "print(\"Number of features: {}\".format(len(feature_names)))\n",
    "print(\"First 20 features:\\n{}\".format(feature_names[:20]))\n",
    "print(\"Features 210 to 230:\\n{}\".format(feature_names[210:230]))\n",
    "print(\"Every 200th feature:\\n{}\".format(feature_names[::200]))"
   ]
  },
  {
   "cell_type": "markdown",
   "metadata": {},
   "source": [
    "##  Run three models and Select"
   ]
  },
  {
   "cell_type": "markdown",
   "metadata": {},
   "source": [
    "### a) KNN"
   ]
  },
  {
   "cell_type": "code",
   "execution_count": 48,
   "metadata": {},
   "outputs": [
    {
     "name": "stdout",
     "output_type": "stream",
     "text": [
      "Best cross-validation score: 0.824\n",
      "Best parameters:  {'n_neighbors': 7}\n"
     ]
    }
   ],
   "source": [
    "from sklearn.model_selection import cross_val_score\n",
    "from sklearn.neighbors import KNeighborsClassifier\n",
    "from sklearn.model_selection import GridSearchCV\n",
    "import numpy as np\n",
    "\n",
    "kparam_grid = {'n_neighbors': np.arange(1, 9, 2)} \n",
    "kgrid = GridSearchCV(KNeighborsClassifier(), kparam_grid, n_jobs =-1)\n",
    "kgrid.fit(X_train, y_train)\n",
    "print(\"Best cross-validation score: {:.3f}\".format(kgrid.best_score_))\n",
    "print(\"Best parameters: \", kgrid.best_params_)"
   ]
  },
  {
   "cell_type": "code",
   "execution_count": 49,
   "metadata": {},
   "outputs": [
    {
     "data": {
      "text/html": [
       "<div>\n",
       "<style scoped>\n",
       "    .dataframe tbody tr th:only-of-type {\n",
       "        vertical-align: middle;\n",
       "    }\n",
       "\n",
       "    .dataframe tbody tr th {\n",
       "        vertical-align: top;\n",
       "    }\n",
       "\n",
       "    .dataframe thead th {\n",
       "        text-align: right;\n",
       "    }\n",
       "</style>\n",
       "<table border=\"1\" class=\"dataframe\">\n",
       "  <thead>\n",
       "    <tr style=\"text-align: right;\">\n",
       "      <th></th>\n",
       "      <th>Predicted Not Recommend</th>\n",
       "      <th>Predicted Recommend</th>\n",
       "    </tr>\n",
       "  </thead>\n",
       "  <tbody>\n",
       "    <tr>\n",
       "      <th>True Not Recommend</th>\n",
       "      <td>215</td>\n",
       "      <td>811</td>\n",
       "    </tr>\n",
       "    <tr>\n",
       "      <th>True Recommend</th>\n",
       "      <td>158</td>\n",
       "      <td>4473</td>\n",
       "    </tr>\n",
       "  </tbody>\n",
       "</table>\n",
       "</div>"
      ],
      "text/plain": [
       "                    Predicted Not Recommend  Predicted Recommend\n",
       "True Not Recommend                      215                  811\n",
       "True Recommend                          158                 4473"
      ]
     },
     "metadata": {},
     "output_type": "display_data"
    },
    {
     "name": "stdout",
     "output_type": "stream",
     "text": [
      "             precision    recall  f1-score   support\n",
      "\n",
      "          0       0.58      0.21      0.31      1026\n",
      "          1       0.85      0.97      0.90      4631\n",
      "\n",
      "avg / total       0.80      0.83      0.79      5657\n",
      "\n",
      "overall accuracy: 0.89889\n"
     ]
    }
   ],
   "source": [
    "knn = KNeighborsClassifier(n_neighbors=7)\n",
    "knn.fit(X_train, y_train)\n",
    "\n",
    "# predictions\n",
    "knn_pred = knn.predict(X_test) \n",
    "\n",
    "from sklearn.metrics import confusion_matrix, classification_report\n",
    "\n",
    "display(pd.DataFrame(\n",
    "    confusion_matrix(y_test, knn_pred),\n",
    "    columns=['Predicted Not Recommend', 'Predicted Recommend'],\n",
    "    index=['True Not Recommend', 'True Recommend']\n",
    "))\n",
    "\n",
    "# classification_report matrix \n",
    "print(classification_report(y_test, knn_pred))  \n",
    "\n",
    "\n",
    "# percent of correct prediction\n",
    "print(\"overall accuracy: {:.5f}\".format(plr.score(X_test, y_test)))"
   ]
  },
  {
   "cell_type": "markdown",
   "metadata": {},
   "source": [
    "### b) Penalized Logistic regression"
   ]
  },
  {
   "cell_type": "code",
   "execution_count": 26,
   "metadata": {},
   "outputs": [
    {
     "name": "stdout",
     "output_type": "stream",
     "text": [
      "Mean cross-validation accuracy: 0.893\n"
     ]
    }
   ],
   "source": [
    "from sklearn.model_selection import cross_val_score\n",
    "from sklearn.linear_model import LogisticRegression\n",
    "from sklearn.model_selection import GridSearchCV\n",
    "\n",
    "scores = cross_val_score(LogisticRegression(), X_train, y_train, cv=5)\n",
    "print(\"Mean cross-validation accuracy: {:.3f}\".format(np.mean(scores)))"
   ]
  },
  {
   "cell_type": "code",
   "execution_count": 27,
   "metadata": {},
   "outputs": [
    {
     "name": "stdout",
     "output_type": "stream",
     "text": [
      "Best cross-validation score: 0.898\n",
      "Best parameters:  {'C': 0.1}\n"
     ]
    }
   ],
   "source": [
    "param_grid = {'C': [0.001, 0.01, 0.1, 1, 10]}\n",
    "grid = GridSearchCV(LogisticRegression(), param_grid, cv=5)\n",
    "grid.fit(X_train, y_train)\n",
    "print(\"Best cross-validation score: {:.3f}\".format(grid.best_score_))\n",
    "print(\"Best parameters: \", grid.best_params_)"
   ]
  },
  {
   "cell_type": "code",
   "execution_count": 28,
   "metadata": {},
   "outputs": [
    {
     "name": "stdout",
     "output_type": "stream",
     "text": [
      "Test score: 0.899\n"
     ]
    }
   ],
   "source": [
    "print(\"Test score: {:.3f}\".format(grid.score(X_test, y_test)))"
   ]
  },
  {
   "cell_type": "code",
   "execution_count": 29,
   "metadata": {
    "collapsed": true
   },
   "outputs": [],
   "source": [
    "# initialize model\n",
    "plr = LogisticRegression(C=0.1)\n",
    "plr.fit(X_train, y_train)\n",
    "\n",
    "# predictions\n",
    "plr_pred = plr.predict(X_test)"
   ]
  },
  {
   "cell_type": "code",
   "execution_count": 30,
   "metadata": {
    "scrolled": false
   },
   "outputs": [
    {
     "data": {
      "text/html": [
       "<div>\n",
       "<style scoped>\n",
       "    .dataframe tbody tr th:only-of-type {\n",
       "        vertical-align: middle;\n",
       "    }\n",
       "\n",
       "    .dataframe tbody tr th {\n",
       "        vertical-align: top;\n",
       "    }\n",
       "\n",
       "    .dataframe thead th {\n",
       "        text-align: right;\n",
       "    }\n",
       "</style>\n",
       "<table border=\"1\" class=\"dataframe\">\n",
       "  <thead>\n",
       "    <tr style=\"text-align: right;\">\n",
       "      <th></th>\n",
       "      <th>Predicted Not Recommend</th>\n",
       "      <th>Predicted Recommend</th>\n",
       "    </tr>\n",
       "  </thead>\n",
       "  <tbody>\n",
       "    <tr>\n",
       "      <th>True Not Recommend</th>\n",
       "      <td>675</td>\n",
       "      <td>351</td>\n",
       "    </tr>\n",
       "    <tr>\n",
       "      <th>True Recommend</th>\n",
       "      <td>221</td>\n",
       "      <td>4410</td>\n",
       "    </tr>\n",
       "  </tbody>\n",
       "</table>\n",
       "</div>"
      ],
      "text/plain": [
       "                    Predicted Not Recommend  Predicted Recommend\n",
       "True Not Recommend                      675                  351\n",
       "True Recommend                          221                 4410"
      ]
     },
     "metadata": {},
     "output_type": "display_data"
    },
    {
     "name": "stdout",
     "output_type": "stream",
     "text": [
      "             precision    recall  f1-score   support\n",
      "\n",
      "          0       0.75      0.66      0.70      1026\n",
      "          1       0.93      0.95      0.94      4631\n",
      "\n",
      "avg / total       0.89      0.90      0.90      5657\n",
      "\n",
      "overall accuracy: 0.89889\n"
     ]
    }
   ],
   "source": [
    "from sklearn.metrics import confusion_matrix, classification_report\n",
    "\n",
    "display(pd.DataFrame(\n",
    "    confusion_matrix(y_test, plr_pred),\n",
    "    columns=['Predicted Not Recommend', 'Predicted Recommend'],\n",
    "    index=['True Not Recommend', 'True Recommend']\n",
    "))\n",
    "\n",
    "# classification_report matrix \n",
    "print(classification_report(y_test, plr_pred))  \n",
    "\n",
    "\n",
    "# percent of correct prediction\n",
    "print(\"overall accuracy: {:.5f}\".format(plr.score(X_test, y_test)))\n"
   ]
  },
  {
   "cell_type": "markdown",
   "metadata": {},
   "source": [
    "### c) Bagged Tree"
   ]
  },
  {
   "cell_type": "code",
   "execution_count": 33,
   "metadata": {},
   "outputs": [
    {
     "name": "stderr",
     "output_type": "stream",
     "text": [
      "/anaconda/envs/ml/lib/python3.7/site-packages/sklearn/ensemble/weight_boosting.py:29: DeprecationWarning: numpy.core.umath_tests is an internal NumPy module and should not be imported. It will be removed in a future NumPy release.\n",
      "  from numpy.core.umath_tests import inner1d\n"
     ]
    },
    {
     "name": "stdout",
     "output_type": "stream",
     "text": [
      "Mean cross-validation accuracy: 0.855\n"
     ]
    }
   ],
   "source": [
    "from sklearn.model_selection import cross_val_score\n",
    "from sklearn.tree import DecisionTreeClassifier\n",
    "from sklearn.ensemble import BaggingClassifier\n",
    "from sklearn.model_selection import GridSearchCV\n",
    "\n",
    "tree = DecisionTreeClassifier() \n",
    "bag = BaggingClassifier(tree)\n",
    "\n",
    "scores = cross_val_score(bag, X_train, y_train, cv=5)\n",
    "print(\"Mean cross-validation accuracy: {:.3f}\".format(np.mean(scores)))"
   ]
  },
  {
   "cell_type": "code",
   "execution_count": 50,
   "metadata": {},
   "outputs": [
    {
     "name": "stdout",
     "output_type": "stream",
     "text": [
      "Best cross-validation score: 0.830\n",
      "Best parameters:  {'base_estimator__max_depth': 5, 'max_samples': 0.2}\n"
     ]
    }
   ],
   "source": [
    "param_grid = {\n",
    "    'base_estimator__max_depth' : [1, 2, 3, 4, 5],\n",
    "    'max_samples' : [0.05, 0.1, 0.2, 0.5]\n",
    "}\n",
    "\n",
    "clf = GridSearchCV(BaggingClassifier(DecisionTreeClassifier(),\n",
    "                                     n_estimators = 100, max_features = 0.5),\n",
    "                   param_grid, n_jobs =-1)\n",
    "\n",
    "clf.fit(X_train, y_train)\n",
    "print(\"Best cross-validation score: {:.3f}\".format(clf.best_score_))\n",
    "print(\"Best parameters: \", clf.best_params_)"
   ]
  },
  {
   "cell_type": "code",
   "execution_count": 54,
   "metadata": {
    "scrolled": true
   },
   "outputs": [
    {
     "data": {
      "text/html": [
       "<div>\n",
       "<style scoped>\n",
       "    .dataframe tbody tr th:only-of-type {\n",
       "        vertical-align: middle;\n",
       "    }\n",
       "\n",
       "    .dataframe tbody tr th {\n",
       "        vertical-align: top;\n",
       "    }\n",
       "\n",
       "    .dataframe thead th {\n",
       "        text-align: right;\n",
       "    }\n",
       "</style>\n",
       "<table border=\"1\" class=\"dataframe\">\n",
       "  <thead>\n",
       "    <tr style=\"text-align: right;\">\n",
       "      <th></th>\n",
       "      <th>Predicted Not Recommend</th>\n",
       "      <th>Predicted Recommend</th>\n",
       "    </tr>\n",
       "  </thead>\n",
       "  <tbody>\n",
       "    <tr>\n",
       "      <th>True Not Recommend</th>\n",
       "      <td>73</td>\n",
       "      <td>953</td>\n",
       "    </tr>\n",
       "    <tr>\n",
       "      <th>True Recommend</th>\n",
       "      <td>12</td>\n",
       "      <td>4619</td>\n",
       "    </tr>\n",
       "  </tbody>\n",
       "</table>\n",
       "</div>"
      ],
      "text/plain": [
       "                    Predicted Not Recommend  Predicted Recommend\n",
       "True Not Recommend                       73                  953\n",
       "True Recommend                           12                 4619"
      ]
     },
     "metadata": {},
     "output_type": "display_data"
    },
    {
     "name": "stdout",
     "output_type": "stream",
     "text": [
      "             precision    recall  f1-score   support\n",
      "\n",
      "          0       0.86      0.07      0.13      1026\n",
      "          1       0.83      1.00      0.91      4631\n",
      "\n",
      "avg / total       0.83      0.83      0.77      5657\n",
      "\n",
      "overall accuracy: 0.89889\n"
     ]
    }
   ],
   "source": [
    "tree = DecisionTreeClassifier(max_depth = 5)\n",
    "bag = BaggingClassifier(tree,n_estimators = 100, max_features = 0.5,  max_samples = 0.2)\n",
    "\n",
    "bag.fit(X_train,y_train)\n",
    "\n",
    "bag_pred = bag.predict(X_test)\n",
    "\n",
    "display(pd.DataFrame(\n",
    "    confusion_matrix(y_test, bag_pred),\n",
    "    columns=['Predicted Not Recommend', 'Predicted Recommend'],\n",
    "    index=['True Not Recommend', 'True Recommend']\n",
    "))\n",
    "\n",
    "# classification_report matrix \n",
    "print(classification_report(y_test, bag_pred))  \n",
    "\n",
    "\n",
    "# percent of correct prediction\n",
    "print(\"overall accuracy: {:.5f}\".format(plr.score(X_test, y_test)))"
   ]
  },
  {
   "cell_type": "markdown",
   "metadata": {},
   "source": [
    "*I choose the Penalized Logistic regression because this model perform best in terms of positive and negtive case classification (highest F1 score)*"
   ]
  },
  {
   "cell_type": "markdown",
   "metadata": {},
   "source": [
    "## Inspect all models by visualizing the coefficients."
   ]
  },
  {
   "cell_type": "code",
   "execution_count": 55,
   "metadata": {
    "collapsed": true
   },
   "outputs": [],
   "source": [
    "# helper function to plot top positive and negative coefficients\n",
    "\n",
    "def visualize_coefficients(coefficients, feature_names, n_top_features=25):\n",
    "    \"\"\"Visualize coefficients of a linear model.\n",
    "    Parameters\n",
    "    ----------\n",
    "    coefficients : nd-array, shape (n_features,)\n",
    "        Model coefficients.\n",
    "    feature_names : list or nd-array of strings, shape (n_features,)\n",
    "        Feature names for labeling the coefficients.\n",
    "    n_top_features : int, default=25\n",
    "        How many features to show. The function will show the largest (most\n",
    "        positive) and smallest (most negative)  n_top_features coefficients,\n",
    "        for a total of 2 * n_top_features coefficients.\n",
    "    \"\"\"\n",
    "    coefficients = coefficients.squeeze()\n",
    "    if coefficients.ndim > 1:\n",
    "        # this is not a row or column vector\n",
    "        raise ValueError(\"coeffients must be 1d array or column vector, got\"\n",
    "                         \" shape {}\".format(coefficients.shape))\n",
    "    coefficients = coefficients.ravel()\n",
    "\n",
    "    if len(coefficients) != len(feature_names):\n",
    "        raise ValueError(\"Number of coefficients {} doesn't match number of\"\n",
    "                         \"feature names {}.\".format(len(coefficients),\n",
    "                                                    len(feature_names)))\n",
    "    # get coefficients with large absolute values\n",
    "    coef = coefficients.ravel()\n",
    "    positive_coefficients = np.argsort(coef)[-n_top_features:]\n",
    "    negative_coefficients = np.argsort(coef)[:n_top_features]\n",
    "    interesting_coefficients = np.hstack([negative_coefficients,\n",
    "                                          positive_coefficients])\n",
    "    # plot them\n",
    "    plt.figure(figsize=(15, 5))\n",
    "    colors = ['#ff2020' if c < 0 else '#0000aa'\n",
    "              for c in coef[interesting_coefficients]]\n",
    "    plt.bar(np.arange(2 * n_top_features), coef[interesting_coefficients],\n",
    "            color=colors)\n",
    "    feature_names = np.array(feature_names)\n",
    "    plt.subplots_adjust(bottom=0.3)\n",
    "    plt.xticks(np.arange(1, 1 + 2 * n_top_features),\n",
    "               feature_names[interesting_coefficients], rotation=60,\n",
    "               ha=\"right\")\n",
    "    plt.ylabel(\"Coefficient magnitude\")\n",
    "    plt.xlabel(\"Feature\")\n"
   ]
  },
  {
   "cell_type": "code",
   "execution_count": 58,
   "metadata": {
    "scrolled": true
   },
   "outputs": [
    {
     "data": {
      "image/png": "[encoded data removed]",
      "text/plain": [
       "<Figure size 1080x360 with 1 Axes>"
      ]
     },
     "metadata": {
      "needs_background": "light"
     },
     "output_type": "display_data"
    }
   ],
   "source": [
    "import matplotlib.pyplot as plt\n",
    "\n",
    "\n",
    "plr_coefs = plr.coef_\n",
    "feature_names = vect.get_feature_names()\n",
    "\n",
    "\n",
    "visualize_coefficients(plr_coefs, feature_names, n_top_features=25)"
   ]
  }
 ],
 "metadata": {
  "kernelspec": {
   "display_name": "Python 3",
   "language": "python",
   "name": "python3"
  },
  "language_info": {
   "codemirror_mode": {
    "name": "ipython",
    "version": 3
   },
   "file_extension": ".py",
   "mimetype": "text/x-python",
   "name": "python",
   "nbconvert_exporter": "python",
   "pygments_lexer": "ipython3",
   "version": "3.8.3"
  },
  "toc": {
   "base_numbering": 1,
   "nav_menu": {},
   "number_sections": false,
   "sideBar": true,
   "skip_h1_title": false,
   "title_cell": "Table of Contents",
   "title_sidebar": "Contents",
   "toc_cell": true,
   "toc_position": {},
   "toc_section_display": true,
   "toc_window_display": false
  }
 },
 "nbformat": 4,
 "nbformat_minor": 2
}
