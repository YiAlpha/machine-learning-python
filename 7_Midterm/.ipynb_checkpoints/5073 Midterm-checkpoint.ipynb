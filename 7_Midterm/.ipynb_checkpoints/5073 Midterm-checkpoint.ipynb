{
 "cells": [
  {
   "cell_type": "markdown",
   "metadata": {},
   "source": [
    "# GR 5073 Midterm\n",
    "## Yi YIN"
   ]
  },
  {
   "cell_type": "markdown",
   "metadata": {},
   "source": [
    "### 1. \n",
    "Import the spam dataset and print the first six rows.  "
   ]
  },
  {
   "cell_type": "code",
   "execution_count": 1,
   "metadata": {},
   "outputs": [
    {
     "data": {
      "text/html": [
       "<div>\n",
       "<style scoped>\n",
       "    .dataframe tbody tr th:only-of-type {\n",
       "        vertical-align: middle;\n",
       "    }\n",
       "\n",
       "    .dataframe tbody tr th {\n",
       "        vertical-align: top;\n",
       "    }\n",
       "\n",
       "    .dataframe thead th {\n",
       "        text-align: right;\n",
       "    }\n",
       "</style>\n",
       "<table border=\"1\" class=\"dataframe\">\n",
       "  <thead>\n",
       "    <tr style=\"text-align: right;\">\n",
       "      <th></th>\n",
       "      <th>word_freq_make:</th>\n",
       "      <th>word_freq_address:</th>\n",
       "      <th>word_freq_all:</th>\n",
       "      <th>word_freq_3d:</th>\n",
       "      <th>word_freq_our:</th>\n",
       "      <th>word_freq_over:</th>\n",
       "      <th>word_freq_remove:</th>\n",
       "      <th>word_freq_internet:</th>\n",
       "      <th>word_freq_order:</th>\n",
       "      <th>word_freq_mail:</th>\n",
       "      <th>...</th>\n",
       "      <th>char_freq_;:</th>\n",
       "      <th>char_freq_(:</th>\n",
       "      <th>char_freq_[:</th>\n",
       "      <th>char_freq_!:</th>\n",
       "      <th>char_freq_$:</th>\n",
       "      <th>char_freq_#:</th>\n",
       "      <th>capital_run_length_average:</th>\n",
       "      <th>capital_run_length_longest:</th>\n",
       "      <th>capital_run_length_total:</th>\n",
       "      <th>spam</th>\n",
       "    </tr>\n",
       "  </thead>\n",
       "  <tbody>\n",
       "    <tr>\n",
       "      <th>0</th>\n",
       "      <td>0.00</td>\n",
       "      <td>0.64</td>\n",
       "      <td>0.64</td>\n",
       "      <td>0.0</td>\n",
       "      <td>0.32</td>\n",
       "      <td>0.00</td>\n",
       "      <td>0.00</td>\n",
       "      <td>0.00</td>\n",
       "      <td>0.00</td>\n",
       "      <td>0.00</td>\n",
       "      <td>...</td>\n",
       "      <td>0.00</td>\n",
       "      <td>0.000</td>\n",
       "      <td>0.0</td>\n",
       "      <td>0.778</td>\n",
       "      <td>0.000</td>\n",
       "      <td>0.000</td>\n",
       "      <td>3.756</td>\n",
       "      <td>61</td>\n",
       "      <td>278</td>\n",
       "      <td>1</td>\n",
       "    </tr>\n",
       "    <tr>\n",
       "      <th>1</th>\n",
       "      <td>0.21</td>\n",
       "      <td>0.28</td>\n",
       "      <td>0.50</td>\n",
       "      <td>0.0</td>\n",
       "      <td>0.14</td>\n",
       "      <td>0.28</td>\n",
       "      <td>0.21</td>\n",
       "      <td>0.07</td>\n",
       "      <td>0.00</td>\n",
       "      <td>0.94</td>\n",
       "      <td>...</td>\n",
       "      <td>0.00</td>\n",
       "      <td>0.132</td>\n",
       "      <td>0.0</td>\n",
       "      <td>0.372</td>\n",
       "      <td>0.180</td>\n",
       "      <td>0.048</td>\n",
       "      <td>5.114</td>\n",
       "      <td>101</td>\n",
       "      <td>1028</td>\n",
       "      <td>1</td>\n",
       "    </tr>\n",
       "    <tr>\n",
       "      <th>2</th>\n",
       "      <td>0.06</td>\n",
       "      <td>0.00</td>\n",
       "      <td>0.71</td>\n",
       "      <td>0.0</td>\n",
       "      <td>1.23</td>\n",
       "      <td>0.19</td>\n",
       "      <td>0.19</td>\n",
       "      <td>0.12</td>\n",
       "      <td>0.64</td>\n",
       "      <td>0.25</td>\n",
       "      <td>...</td>\n",
       "      <td>0.01</td>\n",
       "      <td>0.143</td>\n",
       "      <td>0.0</td>\n",
       "      <td>0.276</td>\n",
       "      <td>0.184</td>\n",
       "      <td>0.010</td>\n",
       "      <td>9.821</td>\n",
       "      <td>485</td>\n",
       "      <td>2259</td>\n",
       "      <td>1</td>\n",
       "    </tr>\n",
       "    <tr>\n",
       "      <th>3</th>\n",
       "      <td>0.00</td>\n",
       "      <td>0.00</td>\n",
       "      <td>0.00</td>\n",
       "      <td>0.0</td>\n",
       "      <td>0.63</td>\n",
       "      <td>0.00</td>\n",
       "      <td>0.31</td>\n",
       "      <td>0.63</td>\n",
       "      <td>0.31</td>\n",
       "      <td>0.63</td>\n",
       "      <td>...</td>\n",
       "      <td>0.00</td>\n",
       "      <td>0.137</td>\n",
       "      <td>0.0</td>\n",
       "      <td>0.137</td>\n",
       "      <td>0.000</td>\n",
       "      <td>0.000</td>\n",
       "      <td>3.537</td>\n",
       "      <td>40</td>\n",
       "      <td>191</td>\n",
       "      <td>1</td>\n",
       "    </tr>\n",
       "    <tr>\n",
       "      <th>4</th>\n",
       "      <td>0.00</td>\n",
       "      <td>0.00</td>\n",
       "      <td>0.00</td>\n",
       "      <td>0.0</td>\n",
       "      <td>0.63</td>\n",
       "      <td>0.00</td>\n",
       "      <td>0.31</td>\n",
       "      <td>0.63</td>\n",
       "      <td>0.31</td>\n",
       "      <td>0.63</td>\n",
       "      <td>...</td>\n",
       "      <td>0.00</td>\n",
       "      <td>0.135</td>\n",
       "      <td>0.0</td>\n",
       "      <td>0.135</td>\n",
       "      <td>0.000</td>\n",
       "      <td>0.000</td>\n",
       "      <td>3.537</td>\n",
       "      <td>40</td>\n",
       "      <td>191</td>\n",
       "      <td>1</td>\n",
       "    </tr>\n",
       "    <tr>\n",
       "      <th>5</th>\n",
       "      <td>0.00</td>\n",
       "      <td>0.00</td>\n",
       "      <td>0.00</td>\n",
       "      <td>0.0</td>\n",
       "      <td>1.85</td>\n",
       "      <td>0.00</td>\n",
       "      <td>0.00</td>\n",
       "      <td>1.85</td>\n",
       "      <td>0.00</td>\n",
       "      <td>0.00</td>\n",
       "      <td>...</td>\n",
       "      <td>0.00</td>\n",
       "      <td>0.223</td>\n",
       "      <td>0.0</td>\n",
       "      <td>0.000</td>\n",
       "      <td>0.000</td>\n",
       "      <td>0.000</td>\n",
       "      <td>3.000</td>\n",
       "      <td>15</td>\n",
       "      <td>54</td>\n",
       "      <td>1</td>\n",
       "    </tr>\n",
       "  </tbody>\n",
       "</table>\n",
       "<p>6 rows × 58 columns</p>\n",
       "</div>"
      ],
      "text/plain": [
       "   word_freq_make:  word_freq_address:  word_freq_all:  word_freq_3d:  \\\n",
       "0             0.00                0.64            0.64            0.0   \n",
       "1             0.21                0.28            0.50            0.0   \n",
       "2             0.06                0.00            0.71            0.0   \n",
       "3             0.00                0.00            0.00            0.0   \n",
       "4             0.00                0.00            0.00            0.0   \n",
       "5             0.00                0.00            0.00            0.0   \n",
       "\n",
       "   word_freq_our:  word_freq_over:  word_freq_remove:  word_freq_internet:  \\\n",
       "0            0.32             0.00               0.00                 0.00   \n",
       "1            0.14             0.28               0.21                 0.07   \n",
       "2            1.23             0.19               0.19                 0.12   \n",
       "3            0.63             0.00               0.31                 0.63   \n",
       "4            0.63             0.00               0.31                 0.63   \n",
       "5            1.85             0.00               0.00                 1.85   \n",
       "\n",
       "   word_freq_order:  word_freq_mail:  ...   char_freq_;:  char_freq_(:  \\\n",
       "0              0.00             0.00  ...           0.00         0.000   \n",
       "1              0.00             0.94  ...           0.00         0.132   \n",
       "2              0.64             0.25  ...           0.01         0.143   \n",
       "3              0.31             0.63  ...           0.00         0.137   \n",
       "4              0.31             0.63  ...           0.00         0.135   \n",
       "5              0.00             0.00  ...           0.00         0.223   \n",
       "\n",
       "   char_freq_[:  char_freq_!:  char_freq_$:  char_freq_#:  \\\n",
       "0           0.0         0.778         0.000         0.000   \n",
       "1           0.0         0.372         0.180         0.048   \n",
       "2           0.0         0.276         0.184         0.010   \n",
       "3           0.0         0.137         0.000         0.000   \n",
       "4           0.0         0.135         0.000         0.000   \n",
       "5           0.0         0.000         0.000         0.000   \n",
       "\n",
       "   capital_run_length_average:  capital_run_length_longest:  \\\n",
       "0                        3.756                           61   \n",
       "1                        5.114                          101   \n",
       "2                        9.821                          485   \n",
       "3                        3.537                           40   \n",
       "4                        3.537                           40   \n",
       "5                        3.000                           15   \n",
       "\n",
       "   capital_run_length_total:  spam  \n",
       "0                        278     1  \n",
       "1                       1028     1  \n",
       "2                       2259     1  \n",
       "3                        191     1  \n",
       "4                        191     1  \n",
       "5                         54     1  \n",
       "\n",
       "[6 rows x 58 columns]"
      ]
     },
     "execution_count": 1,
     "metadata": {},
     "output_type": "execute_result"
    }
   ],
   "source": [
    "import pandas as pd\n",
    "import numpy as np\n",
    "import matplotlib.pyplot as plt\n",
    "import seaborn as sns\n",
    "\n",
    "import statsmodels.api as sm\n",
    "import pylab as pl\n",
    "\n",
    "\n",
    "%matplotlib inline\n",
    "\n",
    "pd.options.display.max_rows = 10\n",
    "\n",
    "# Import the spam dataset \n",
    "data= pd.read_csv(\"./spam_dataset.csv\")\n",
    "\n",
    "# print the first six rows\n",
    "data[0:6]"
   ]
  },
  {
   "cell_type": "markdown",
   "metadata": {},
   "source": [
    "### 2.  \n",
    "Read through the documentation of the original dataset \n",
    "\n",
    "The dependent variable is \"spam\" where one indicates that an email is spam and zero otherwise.  Which three variables in the dataset do you think will be important predictors in a model of spam?  Why?*"
   ]
  },
  {
   "cell_type": "markdown",
   "metadata": {},
   "source": [
    "I think `word_freq_order:`,`char_freq_$:` and `capital_run_length_total:` would be important predictors in a model of spam. Because commercial marketing emails usually promote their products with the information of price (using $),  phrases like \"order now!\", and using capitialized phrases to catch attention."
   ]
  },
  {
   "cell_type": "markdown",
   "metadata": {},
   "source": [
    "### 3.  \n",
    "Visualize the univariate distribution of each of the variables in the previous question. "
   ]
  },
  {
   "cell_type": "code",
   "execution_count": 3,
   "metadata": {},
   "outputs": [
    {
     "name": "stderr",
     "output_type": "stream",
     "text": [
      "/anaconda/envs/ml/lib/python3.7/site-packages/scipy/stats/stats.py:1713: FutureWarning: Using a non-tuple sequence for multidimensional indexing is deprecated; use `arr[tuple(seq)]` instead of `arr[seq]`. In the future this will be interpreted as an array index, `arr[np.array(seq)]`, which will result either in an error or a different result.\n",
      "  return np.add.reduce(sorted[indexer] * weights, axis=axis) / sumval\n"
     ]
    },
    {
     "data": {
      "text/plain": [
       "<matplotlib.axes._subplots.AxesSubplot at 0x1a1e1a94a8>"
      ]
     },
     "execution_count": 3,
     "metadata": {},
     "output_type": "execute_result"
    },
    {
     "data": {
      "image/png": "[encoded data removed]",
      "text/plain": [
       "<Figure size 432x288 with 1 Axes>"
      ]
     },
     "metadata": {
      "needs_background": "light"
     },
     "output_type": "display_data"
    }
   ],
   "source": [
    "sns.distplot(data['word_freq_order:'])"
   ]
  },
  {
   "cell_type": "code",
   "execution_count": 4,
   "metadata": {},
   "outputs": [
    {
     "name": "stderr",
     "output_type": "stream",
     "text": [
      "/anaconda/envs/ml/lib/python3.7/site-packages/scipy/stats/stats.py:1713: FutureWarning: Using a non-tuple sequence for multidimensional indexing is deprecated; use `arr[tuple(seq)]` instead of `arr[seq]`. In the future this will be interpreted as an array index, `arr[np.array(seq)]`, which will result either in an error or a different result.\n",
      "  return np.add.reduce(sorted[indexer] * weights, axis=axis) / sumval\n"
     ]
    },
    {
     "data": {
      "text/plain": [
       "<matplotlib.axes._subplots.AxesSubplot at 0x1a1e535a20>"
      ]
     },
     "execution_count": 4,
     "metadata": {},
     "output_type": "execute_result"
    },
    {
     "data": {
      "image/png": "[encoded data removed]",
      "text/plain": [
       "<Figure size 432x288 with 1 Axes>"
      ]
     },
     "metadata": {
      "needs_background": "light"
     },
     "output_type": "display_data"
    }
   ],
   "source": [
    "sns.distplot(data['char_freq_$:'])"
   ]
  },
  {
   "cell_type": "code",
   "execution_count": 5,
   "metadata": {},
   "outputs": [
    {
     "name": "stderr",
     "output_type": "stream",
     "text": [
      "/anaconda/envs/ml/lib/python3.7/site-packages/scipy/stats/stats.py:1713: FutureWarning: Using a non-tuple sequence for multidimensional indexing is deprecated; use `arr[tuple(seq)]` instead of `arr[seq]`. In the future this will be interpreted as an array index, `arr[np.array(seq)]`, which will result either in an error or a different result.\n",
      "  return np.add.reduce(sorted[indexer] * weights, axis=axis) / sumval\n"
     ]
    },
    {
     "data": {
      "text/plain": [
       "<matplotlib.axes._subplots.AxesSubplot at 0x1a1e638128>"
      ]
     },
     "execution_count": 5,
     "metadata": {},
     "output_type": "execute_result"
    },
    {
     "data": {
      "image/png": "[encoded data removed]",
      "text/plain": [
       "<Figure size 432x288 with 1 Axes>"
      ]
     },
     "metadata": {
      "needs_background": "light"
     },
     "output_type": "display_data"
    }
   ],
   "source": [
    "sns.distplot(data['capital_run_length_total:'])"
   ]
  },
  {
   "cell_type": "markdown",
   "metadata": {},
   "source": [
    "### 4. \n",
    "Drawing from the *full spam dataset*, name each of the supervised learning models that we have learned thus far that are used to predict dependent variables like \"spam\".  \n"
   ]
  },
  {
   "cell_type": "code",
   "execution_count": 45,
   "metadata": {},
   "outputs": [],
   "source": [
    "y = data['spam']\n",
    "X = data.loc[:, data.columns != 'spam']\n",
    "\n",
    "## Scaling data\n",
    "from sklearn.preprocessing import StandardScaler\n",
    "Xss = StandardScaler()\n",
    "X_s = Xss.fit_transform(X)\n",
    "X_s = pd.DataFrame(X_s,columns=X.columns)\n"
   ]
  },
  {
   "cell_type": "markdown",
   "metadata": {},
   "source": [
    "### a) KNN "
   ]
  },
  {
   "cell_type": "code",
   "execution_count": 33,
   "metadata": {
    "collapsed": true
   },
   "outputs": [],
   "source": [
    "from sklearn.neighbors import KNeighborsClassifier\n",
    "\n",
    "# initialize model\n",
    "knn = KNeighborsClassifier(n_neighbors=5)\n",
    "knn.fit(X_s, y)\n",
    "\n",
    "# predictions\n",
    "knn_pred = knn.predict(X_s) "
   ]
  },
  {
   "cell_type": "code",
   "execution_count": 39,
   "metadata": {},
   "outputs": [
    {
     "data": {
      "text/html": [
       "<div>\n",
       "<style scoped>\n",
       "    .dataframe tbody tr th:only-of-type {\n",
       "        vertical-align: middle;\n",
       "    }\n",
       "\n",
       "    .dataframe tbody tr th {\n",
       "        vertical-align: top;\n",
       "    }\n",
       "\n",
       "    .dataframe thead th {\n",
       "        text-align: right;\n",
       "    }\n",
       "</style>\n",
       "<table border=\"1\" class=\"dataframe\">\n",
       "  <thead>\n",
       "    <tr style=\"text-align: right;\">\n",
       "      <th></th>\n",
       "      <th>Predicted Ham</th>\n",
       "      <th>Predicted Spam</th>\n",
       "    </tr>\n",
       "  </thead>\n",
       "  <tbody>\n",
       "    <tr>\n",
       "      <th>True Ham</th>\n",
       "      <td>2655</td>\n",
       "      <td>133</td>\n",
       "    </tr>\n",
       "    <tr>\n",
       "      <th>True Spam</th>\n",
       "      <td>159</td>\n",
       "      <td>1654</td>\n",
       "    </tr>\n",
       "  </tbody>\n",
       "</table>\n",
       "</div>"
      ],
      "text/plain": [
       "           Predicted Ham  Predicted Spam\n",
       "True Ham            2655             133\n",
       "True Spam            159            1654"
      ]
     },
     "metadata": {},
     "output_type": "display_data"
    },
    {
     "name": "stdout",
     "output_type": "stream",
     "text": [
      "             precision    recall  f1-score   support\n",
      "\n",
      "          0       0.94      0.95      0.95      2788\n",
      "          1       0.93      0.91      0.92      1813\n",
      "\n",
      "avg / total       0.94      0.94      0.94      4601\n",
      "\n",
      "overall accuracy: 0.93654\n"
     ]
    }
   ],
   "source": [
    "# classification_report matrix\n",
    "\n",
    "from sklearn.metrics import confusion_matrix, classification_report\n",
    "\n",
    "display(pd.DataFrame(\n",
    "    confusion_matrix(y, knn_pred),\n",
    "    columns=['Predicted Ham', 'Predicted Spam'],\n",
    "    index=['True Ham', 'True Spam']\n",
    "))\n",
    "\n",
    "print(classification_report(y, knn_pred))\n",
    "\n",
    "# percent of correct prediction\n",
    "print(\"overall accuracy: {:.5f}\".format(knn.score(X_s, y)))"
   ]
  },
  {
   "cell_type": "markdown",
   "metadata": {},
   "source": [
    "### b) (Penalized) Logistic regression "
   ]
  },
  {
   "cell_type": "code",
   "execution_count": 41,
   "metadata": {
    "collapsed": true
   },
   "outputs": [],
   "source": [
    "from sklearn.linear_model import LogisticRegression\n",
    "\n",
    "# initialize model\n",
    "lr = LogisticRegression(C=1e9)\n",
    "lr.fit(X_s,y)\n",
    "\n",
    "# predictions\n",
    "lr_pred = lr.predict(X_s) "
   ]
  },
  {
   "cell_type": "code",
   "execution_count": 42,
   "metadata": {
    "scrolled": true
   },
   "outputs": [
    {
     "data": {
      "text/html": [
       "<div>\n",
       "<style scoped>\n",
       "    .dataframe tbody tr th:only-of-type {\n",
       "        vertical-align: middle;\n",
       "    }\n",
       "\n",
       "    .dataframe tbody tr th {\n",
       "        vertical-align: top;\n",
       "    }\n",
       "\n",
       "    .dataframe thead th {\n",
       "        text-align: right;\n",
       "    }\n",
       "</style>\n",
       "<table border=\"1\" class=\"dataframe\">\n",
       "  <thead>\n",
       "    <tr style=\"text-align: right;\">\n",
       "      <th></th>\n",
       "      <th>Predicted Ham</th>\n",
       "      <th>Predicted Spam</th>\n",
       "    </tr>\n",
       "  </thead>\n",
       "  <tbody>\n",
       "    <tr>\n",
       "      <th>True Ham</th>\n",
       "      <td>2667</td>\n",
       "      <td>121</td>\n",
       "    </tr>\n",
       "    <tr>\n",
       "      <th>True Spam</th>\n",
       "      <td>195</td>\n",
       "      <td>1618</td>\n",
       "    </tr>\n",
       "  </tbody>\n",
       "</table>\n",
       "</div>"
      ],
      "text/plain": [
       "           Predicted Ham  Predicted Spam\n",
       "True Ham            2667             121\n",
       "True Spam            195            1618"
      ]
     },
     "metadata": {},
     "output_type": "display_data"
    },
    {
     "name": "stdout",
     "output_type": "stream",
     "text": [
      "             precision    recall  f1-score   support\n",
      "\n",
      "          0       0.93      0.96      0.94      2788\n",
      "          1       0.93      0.89      0.91      1813\n",
      "\n",
      "avg / total       0.93      0.93      0.93      4601\n",
      "\n",
      "overall accuracy: 0.93132\n"
     ]
    }
   ],
   "source": [
    "from sklearn.metrics import confusion_matrix, classification_report\n",
    "\n",
    "display(pd.DataFrame(\n",
    "    confusion_matrix(y, lr_pred),\n",
    "    columns=['Predicted Ham', 'Predicted Spam'],\n",
    "    index=['True Ham', 'True Spam']\n",
    "))\n",
    "\n",
    "# classification_report matrix  \n",
    "print(classification_report(y, lr_pred))  \n",
    "\n",
    "\n",
    "# percent of correct prediction\n",
    "print(\"overall accuracy: {:.5f}\".format(lr.score(X_s, y)))\n"
   ]
  },
  {
   "cell_type": "markdown",
   "metadata": {},
   "source": [
    "**(Penalized)**"
   ]
  },
  {
   "cell_type": "code",
   "execution_count": 43,
   "metadata": {
    "collapsed": true
   },
   "outputs": [],
   "source": [
    "# initialize model\n",
    "plr = LogisticRegression(C=1)\n",
    "plr.fit(X_s, y)\n",
    "\n",
    "# predictions\n",
    "plr_pred = plr.predict(X_s) "
   ]
  },
  {
   "cell_type": "code",
   "execution_count": 45,
   "metadata": {},
   "outputs": [
    {
     "data": {
      "text/html": [
       "<div>\n",
       "<style scoped>\n",
       "    .dataframe tbody tr th:only-of-type {\n",
       "        vertical-align: middle;\n",
       "    }\n",
       "\n",
       "    .dataframe tbody tr th {\n",
       "        vertical-align: top;\n",
       "    }\n",
       "\n",
       "    .dataframe thead th {\n",
       "        text-align: right;\n",
       "    }\n",
       "</style>\n",
       "<table border=\"1\" class=\"dataframe\">\n",
       "  <thead>\n",
       "    <tr style=\"text-align: right;\">\n",
       "      <th></th>\n",
       "      <th>Predicted Ham</th>\n",
       "      <th>Predicted Spam</th>\n",
       "    </tr>\n",
       "  </thead>\n",
       "  <tbody>\n",
       "    <tr>\n",
       "      <th>True Ham</th>\n",
       "      <td>2666</td>\n",
       "      <td>122</td>\n",
       "    </tr>\n",
       "    <tr>\n",
       "      <th>True Spam</th>\n",
       "      <td>199</td>\n",
       "      <td>1614</td>\n",
       "    </tr>\n",
       "  </tbody>\n",
       "</table>\n",
       "</div>"
      ],
      "text/plain": [
       "           Predicted Ham  Predicted Spam\n",
       "True Ham            2666             122\n",
       "True Spam            199            1614"
      ]
     },
     "metadata": {},
     "output_type": "display_data"
    },
    {
     "name": "stdout",
     "output_type": "stream",
     "text": [
      "             precision    recall  f1-score   support\n",
      "\n",
      "          0       0.93      0.96      0.94      2788\n",
      "          1       0.93      0.89      0.91      1813\n",
      "\n",
      "avg / total       0.93      0.93      0.93      4601\n",
      "\n",
      "overall accuracy: 0.93023\n"
     ]
    }
   ],
   "source": [
    "from sklearn.metrics import confusion_matrix, classification_report\n",
    "\n",
    "display(pd.DataFrame(\n",
    "    confusion_matrix(y, plr_pred),\n",
    "    columns=['Predicted Ham', 'Predicted Spam'],\n",
    "    index=['True Ham', 'True Spam']\n",
    "))\n",
    "\n",
    "# classification_report matrix \n",
    "print(classification_report(y, plr_pred))  \n",
    "\n",
    "\n",
    "# percent of correct prediction\n",
    "print(\"overall accuracy: {:.5f}\".format(plr.score(X_s, y)))"
   ]
  },
  {
   "cell_type": "markdown",
   "metadata": {},
   "source": [
    "### c) SVM"
   ]
  },
  {
   "cell_type": "code",
   "execution_count": 50,
   "metadata": {
    "collapsed": true,
    "scrolled": true
   },
   "outputs": [],
   "source": [
    "from sklearn.svm import SVC\n",
    "\n",
    "# simple SVM: linear kernel\n",
    "svm = SVC(kernel='linear')  \n",
    "svm.fit(X_s, y) \n",
    "\n",
    "svm_pred = svm.predict(X_s)  "
   ]
  },
  {
   "cell_type": "code",
   "execution_count": 51,
   "metadata": {},
   "outputs": [
    {
     "data": {
      "text/html": [
       "<div>\n",
       "<style scoped>\n",
       "    .dataframe tbody tr th:only-of-type {\n",
       "        vertical-align: middle;\n",
       "    }\n",
       "\n",
       "    .dataframe tbody tr th {\n",
       "        vertical-align: top;\n",
       "    }\n",
       "\n",
       "    .dataframe thead th {\n",
       "        text-align: right;\n",
       "    }\n",
       "</style>\n",
       "<table border=\"1\" class=\"dataframe\">\n",
       "  <thead>\n",
       "    <tr style=\"text-align: right;\">\n",
       "      <th></th>\n",
       "      <th>Predicted Ham</th>\n",
       "      <th>Predicted Spam</th>\n",
       "    </tr>\n",
       "  </thead>\n",
       "  <tbody>\n",
       "    <tr>\n",
       "      <th>True Ham</th>\n",
       "      <td>2663</td>\n",
       "      <td>125</td>\n",
       "    </tr>\n",
       "    <tr>\n",
       "      <th>True Spam</th>\n",
       "      <td>185</td>\n",
       "      <td>1628</td>\n",
       "    </tr>\n",
       "  </tbody>\n",
       "</table>\n",
       "</div>"
      ],
      "text/plain": [
       "           Predicted Ham  Predicted Spam\n",
       "True Ham            2663             125\n",
       "True Spam            185            1628"
      ]
     },
     "metadata": {},
     "output_type": "display_data"
    },
    {
     "name": "stdout",
     "output_type": "stream",
     "text": [
      "             precision    recall  f1-score   support\n",
      "\n",
      "          0       0.94      0.96      0.94      2788\n",
      "          1       0.93      0.90      0.91      1813\n",
      "\n",
      "avg / total       0.93      0.93      0.93      4601\n",
      "\n",
      "overall accuracy: 0.93262\n"
     ]
    }
   ],
   "source": [
    "from sklearn.metrics import confusion_matrix, classification_report\n",
    "\n",
    "display(pd.DataFrame(\n",
    "    confusion_matrix(y, svm_pred),\n",
    "    columns=['Predicted Ham', 'Predicted Spam'],\n",
    "    index=['True Ham', 'True Spam']\n",
    "))\n",
    "  \n",
    "print(classification_report(y, svm_pred))  \n",
    "\n",
    "print(\"overall accuracy: {:.5f}\".format(svm.score(X_s, y)))"
   ]
  },
  {
   "cell_type": "code",
   "execution_count": 52,
   "metadata": {
    "collapsed": true,
    "scrolled": true
   },
   "outputs": [],
   "source": [
    "## Gaussian Kernel\n",
    "gsvm = SVC(kernel='rbf')  \n",
    "gsvm.fit(X_s, y)  \n",
    "\n",
    "gsvm_pred = gsvm.predict(X_s)  "
   ]
  },
  {
   "cell_type": "code",
   "execution_count": 53,
   "metadata": {
    "scrolled": true
   },
   "outputs": [
    {
     "data": {
      "text/html": [
       "<div>\n",
       "<style scoped>\n",
       "    .dataframe tbody tr th:only-of-type {\n",
       "        vertical-align: middle;\n",
       "    }\n",
       "\n",
       "    .dataframe tbody tr th {\n",
       "        vertical-align: top;\n",
       "    }\n",
       "\n",
       "    .dataframe thead th {\n",
       "        text-align: right;\n",
       "    }\n",
       "</style>\n",
       "<table border=\"1\" class=\"dataframe\">\n",
       "  <thead>\n",
       "    <tr style=\"text-align: right;\">\n",
       "      <th></th>\n",
       "      <th>Predicted Ham</th>\n",
       "      <th>Predicted Spam</th>\n",
       "    </tr>\n",
       "  </thead>\n",
       "  <tbody>\n",
       "    <tr>\n",
       "      <th>True Ham</th>\n",
       "      <td>2697</td>\n",
       "      <td>91</td>\n",
       "    </tr>\n",
       "    <tr>\n",
       "      <th>True Spam</th>\n",
       "      <td>151</td>\n",
       "      <td>1662</td>\n",
       "    </tr>\n",
       "  </tbody>\n",
       "</table>\n",
       "</div>"
      ],
      "text/plain": [
       "           Predicted Ham  Predicted Spam\n",
       "True Ham            2697              91\n",
       "True Spam            151            1662"
      ]
     },
     "metadata": {},
     "output_type": "display_data"
    },
    {
     "name": "stdout",
     "output_type": "stream",
     "text": [
      "             precision    recall  f1-score   support\n",
      "\n",
      "          0       0.95      0.97      0.96      2788\n",
      "          1       0.95      0.92      0.93      1813\n",
      "\n",
      "avg / total       0.95      0.95      0.95      4601\n",
      "\n",
      "overall accuracy: 0.94740\n"
     ]
    }
   ],
   "source": [
    "from sklearn.metrics import confusion_matrix, classification_report\n",
    "\n",
    "display(pd.DataFrame(\n",
    "    confusion_matrix(y, gsvm_pred),\n",
    "    columns=['Predicted Ham', 'Predicted Spam'],\n",
    "    index=['True Ham', 'True Spam']\n",
    "))\n",
    "  \n",
    "print(classification_report(y, gsvm_pred))  \n",
    "\n",
    "print(\"overall accuracy: {:.5f}\".format(gsvm.score(X_s, y)))"
   ]
  },
  {
   "cell_type": "markdown",
   "metadata": {},
   "source": [
    "### d) Decision Tree"
   ]
  },
  {
   "cell_type": "code",
   "execution_count": 7,
   "metadata": {
    "collapsed": true
   },
   "outputs": [],
   "source": [
    "from sklearn.tree import DecisionTreeClassifier\n",
    "\n",
    "tree = DecisionTreeClassifier()\n",
    "tree.fit(X_s,y)\n",
    "\n",
    "tree_pred = tree.predict(X_s)"
   ]
  },
  {
   "cell_type": "code",
   "execution_count": 9,
   "metadata": {
    "scrolled": true
   },
   "outputs": [
    {
     "data": {
      "text/html": [
       "<div>\n",
       "<style scoped>\n",
       "    .dataframe tbody tr th:only-of-type {\n",
       "        vertical-align: middle;\n",
       "    }\n",
       "\n",
       "    .dataframe tbody tr th {\n",
       "        vertical-align: top;\n",
       "    }\n",
       "\n",
       "    .dataframe thead th {\n",
       "        text-align: right;\n",
       "    }\n",
       "</style>\n",
       "<table border=\"1\" class=\"dataframe\">\n",
       "  <thead>\n",
       "    <tr style=\"text-align: right;\">\n",
       "      <th></th>\n",
       "      <th>Predicted Ham</th>\n",
       "      <th>Predicted Spam</th>\n",
       "    </tr>\n",
       "  </thead>\n",
       "  <tbody>\n",
       "    <tr>\n",
       "      <th>True Ham</th>\n",
       "      <td>2788</td>\n",
       "      <td>0</td>\n",
       "    </tr>\n",
       "    <tr>\n",
       "      <th>True Spam</th>\n",
       "      <td>3</td>\n",
       "      <td>1810</td>\n",
       "    </tr>\n",
       "  </tbody>\n",
       "</table>\n",
       "</div>"
      ],
      "text/plain": [
       "           Predicted Ham  Predicted Spam\n",
       "True Ham            2788               0\n",
       "True Spam              3            1810"
      ]
     },
     "metadata": {},
     "output_type": "display_data"
    },
    {
     "name": "stdout",
     "output_type": "stream",
     "text": [
      "             precision    recall  f1-score   support\n",
      "\n",
      "          0       1.00      1.00      1.00      2788\n",
      "          1       1.00      1.00      1.00      1813\n",
      "\n",
      "avg / total       1.00      1.00      1.00      4601\n",
      "\n",
      "overall accuracy: 0.99935\n"
     ]
    }
   ],
   "source": [
    "from sklearn.metrics import confusion_matrix, classification_report\n",
    "\n",
    "display(pd.DataFrame(\n",
    "    confusion_matrix(y, tree_pred),\n",
    "    columns=['Predicted Ham', 'Predicted Spam'],\n",
    "    index=['True Ham', 'True Spam']\n",
    "))\n",
    "\n",
    "print(classification_report(y, tree_pred))  \n",
    "\n",
    "print(\"overall accuracy: {:.5f}\".format(tree.score(X_s, y)))"
   ]
  },
  {
   "cell_type": "markdown",
   "metadata": {},
   "source": [
    "### e) Random Forest"
   ]
  },
  {
   "cell_type": "code",
   "execution_count": 46,
   "metadata": {},
   "outputs": [
    {
     "name": "stderr",
     "output_type": "stream",
     "text": [
      "/anaconda/envs/ml/lib/python3.7/site-packages/sklearn/ensemble/weight_boosting.py:29: DeprecationWarning: numpy.core.umath_tests is an internal NumPy module and should not be imported. It will be removed in a future NumPy release.\n",
      "  from numpy.core.umath_tests import inner1d\n"
     ]
    }
   ],
   "source": [
    "from sklearn.ensemble import RandomForestClassifier\n",
    "\n",
    "rf = RandomForestClassifier()\n",
    "\n",
    "rf.fit(X_s,y)\n",
    "\n",
    "rf_pred = rf.predict(X_s)"
   ]
  },
  {
   "cell_type": "code",
   "execution_count": 48,
   "metadata": {
    "scrolled": true
   },
   "outputs": [
    {
     "data": {
      "text/html": [
       "<div>\n",
       "<style scoped>\n",
       "    .dataframe tbody tr th:only-of-type {\n",
       "        vertical-align: middle;\n",
       "    }\n",
       "\n",
       "    .dataframe tbody tr th {\n",
       "        vertical-align: top;\n",
       "    }\n",
       "\n",
       "    .dataframe thead th {\n",
       "        text-align: right;\n",
       "    }\n",
       "</style>\n",
       "<table border=\"1\" class=\"dataframe\">\n",
       "  <thead>\n",
       "    <tr style=\"text-align: right;\">\n",
       "      <th></th>\n",
       "      <th>Predicted Ham</th>\n",
       "      <th>Predicted Spam</th>\n",
       "    </tr>\n",
       "  </thead>\n",
       "  <tbody>\n",
       "    <tr>\n",
       "      <th>True Ham</th>\n",
       "      <td>2785</td>\n",
       "      <td>3</td>\n",
       "    </tr>\n",
       "    <tr>\n",
       "      <th>True Spam</th>\n",
       "      <td>27</td>\n",
       "      <td>1786</td>\n",
       "    </tr>\n",
       "  </tbody>\n",
       "</table>\n",
       "</div>"
      ],
      "text/plain": [
       "           Predicted Ham  Predicted Spam\n",
       "True Ham            2785               3\n",
       "True Spam             27            1786"
      ]
     },
     "metadata": {},
     "output_type": "display_data"
    },
    {
     "name": "stdout",
     "output_type": "stream",
     "text": [
      "             precision    recall  f1-score   support\n",
      "\n",
      "          0       0.99      1.00      0.99      2788\n",
      "          1       1.00      0.99      0.99      1813\n",
      "\n",
      "avg / total       0.99      0.99      0.99      4601\n",
      "\n",
      "overall accuracy: 0.99348\n"
     ]
    }
   ],
   "source": [
    "from sklearn.metrics import confusion_matrix, classification_report\n",
    "\n",
    "display(pd.DataFrame(\n",
    "    confusion_matrix(y, rf_pred),\n",
    "    columns=['Predicted Ham', 'Predicted Spam'],\n",
    "    index=['True Ham', 'True Spam']\n",
    "))\n",
    "\n",
    "print(classification_report(y, rf_pred))  \n",
    "\n",
    "print(\"overall accuracy: {:.5f}\".format(rf.score(X_s, y)))"
   ]
  },
  {
   "cell_type": "markdown",
   "metadata": {},
   "source": [
    "### f) Bagging"
   ]
  },
  {
   "cell_type": "code",
   "execution_count": 50,
   "metadata": {},
   "outputs": [],
   "source": [
    "from sklearn.tree import DecisionTreeClassifier\n",
    "from sklearn.ensemble import BaggingClassifier\n",
    "\n",
    "tree = DecisionTreeClassifier() \n",
    "bag = BaggingClassifier(tree)\n",
    "\n",
    "bag.fit(X_s,y)\n",
    "\n",
    "bag_pred = bag.predict(X_s)"
   ]
  },
  {
   "cell_type": "code",
   "execution_count": 51,
   "metadata": {},
   "outputs": [
    {
     "data": {
      "text/html": [
       "<div>\n",
       "<style scoped>\n",
       "    .dataframe tbody tr th:only-of-type {\n",
       "        vertical-align: middle;\n",
       "    }\n",
       "\n",
       "    .dataframe tbody tr th {\n",
       "        vertical-align: top;\n",
       "    }\n",
       "\n",
       "    .dataframe thead th {\n",
       "        text-align: right;\n",
       "    }\n",
       "</style>\n",
       "<table border=\"1\" class=\"dataframe\">\n",
       "  <thead>\n",
       "    <tr style=\"text-align: right;\">\n",
       "      <th></th>\n",
       "      <th>Predicted Ham</th>\n",
       "      <th>Predicted Spam</th>\n",
       "    </tr>\n",
       "  </thead>\n",
       "  <tbody>\n",
       "    <tr>\n",
       "      <th>True Ham</th>\n",
       "      <td>2786</td>\n",
       "      <td>2</td>\n",
       "    </tr>\n",
       "    <tr>\n",
       "      <th>True Spam</th>\n",
       "      <td>15</td>\n",
       "      <td>1798</td>\n",
       "    </tr>\n",
       "  </tbody>\n",
       "</table>\n",
       "</div>"
      ],
      "text/plain": [
       "           Predicted Ham  Predicted Spam\n",
       "True Ham            2786               2\n",
       "True Spam             15            1798"
      ]
     },
     "metadata": {},
     "output_type": "display_data"
    },
    {
     "name": "stdout",
     "output_type": "stream",
     "text": [
      "             precision    recall  f1-score   support\n",
      "\n",
      "          0       0.99      1.00      1.00      2788\n",
      "          1       1.00      0.99      1.00      1813\n",
      "\n",
      "avg / total       1.00      1.00      1.00      4601\n",
      "\n",
      "overall accuracy: 0.99631\n"
     ]
    }
   ],
   "source": [
    "from sklearn.metrics import confusion_matrix, classification_report\n",
    "\n",
    "display(pd.DataFrame(\n",
    "    confusion_matrix(y, bag_pred),\n",
    "    columns=['Predicted Ham', 'Predicted Spam'],\n",
    "    index=['True Ham', 'True Spam']\n",
    "))\n",
    "\n",
    "print(classification_report(y, bag_pred))  \n",
    "\n",
    "print(\"overall accuracy: {:.5f}\".format(bag.score(X_s, y)))"
   ]
  },
  {
   "cell_type": "markdown",
   "metadata": {
    "collapsed": true
   },
   "source": [
    "### 5. \n",
    "Describe the importance of training and test data.  Why do we separate data into these subsets?"
   ]
  },
  {
   "cell_type": "markdown",
   "metadata": {},
   "source": [
    "Because out goal is to build a model to make accurate predictions on new data with the same features as the data we have seen. Without the partition of training and test subsets, we tend to build models overfit the current dataset, but hard to generalize to new data."
   ]
  },
  {
   "cell_type": "markdown",
   "metadata": {},
   "source": [
    "The evaluation of a model is based on how well it perferm on new data. Without new data, we split current data into two subsets: training and test, and use to test dataset to evaluate our model performance."
   ]
  },
  {
   "cell_type": "markdown",
   "metadata": {},
   "source": [
    "### 6. \n",
    "What is k-fold cross validation and what do we use it for?"
   ]
  },
  {
   "cell_type": "markdown",
   "metadata": {},
   "source": [
    "K-fold cross validation is to split the dataset into k parts of equal size, called folds; and a series of models are trained by using one fold as test data. And then we gain k accuracy values, and take the mean of those values. Compared to a single split into test and training, K-fold cross validation gives us more stable evaluation of generalization perfermance since each example will be in the training dataset once, the model need to generalize well to all the samples in a dataset to get a high mean of cross-validation scores. And k-fold cross validation help use to make use of our data more effectively since we gain more information than a single split."
   ]
  },
  {
   "cell_type": "markdown",
   "metadata": {},
   "source": [
    "### 7. \n",
    "How is k-fold cross validation different from stratified k-fold cross validation?"
   ]
  },
  {
   "cell_type": "markdown",
   "metadata": {},
   "source": [
    "K-fold cross validation only split the data into k folds. Stratified K-fold cross validation split the data to ensure the proportions between classes are the same in each fold, which provide more reliable estimates of generalization performance for evaluating classfication models."
   ]
  },
  {
   "cell_type": "markdown",
   "metadata": {},
   "source": [
    "### 8. \n",
    "Choose one model from question four. -- **KNN**\n",
    "\n",
    "Split the data into training and test subsets.  Build a model with the three variables in the dataset that you think will be good predictors of \"spam\".  "
   ]
  },
  {
   "cell_type": "code",
   "execution_count": 52,
   "metadata": {
    "collapsed": true
   },
   "outputs": [],
   "source": [
    "y = data['spam']\n",
    "X = data[['word_freq_order:','char_freq_$:', 'capital_run_length_total:']]"
   ]
  },
  {
   "cell_type": "code",
   "execution_count": 53,
   "metadata": {
    "scrolled": true
   },
   "outputs": [
    {
     "name": "stdout",
     "output_type": "stream",
     "text": [
      "<class 'pandas.core.frame.DataFrame'>\n",
      "Int64Index: 3450 entries, 118 to 2732\n",
      "Data columns (total 3 columns):\n",
      "word_freq_order:             3450 non-null float64\n",
      "char_freq_$:                 3450 non-null float64\n",
      "capital_run_length_total:    3450 non-null int64\n",
      "dtypes: float64(2), int64(1)\n",
      "memory usage: 107.8 KB\n"
     ]
    }
   ],
   "source": [
    "# Training test split\n",
    "from sklearn.model_selection import train_test_split\n",
    "X_train, X_test, y_train, y_test = train_test_split(X, y, random_state=0)\n",
    "X_train.info()"
   ]
  },
  {
   "cell_type": "code",
   "execution_count": 70,
   "metadata": {},
   "outputs": [],
   "source": [
    "from sklearn import preprocessing\n",
    "## Scaling data\n",
    "scaler = preprocessing.StandardScaler()\n",
    "scaler.fit(X_train)\n",
    "X_train_s = scaler.transform(X_train)\n",
    "\n",
    "scaler.fit(X_test)\n",
    "X_test_s = scaler.transform(X_test)"
   ]
  },
  {
   "cell_type": "markdown",
   "metadata": {},
   "source": [
    "Describe why you chose any particular parameters for your model (e.g.- if you used KNN how did you decide to choose a specific value for k). \n",
    "\n",
    "I use `GridSeachCV` to find that k=17 has the best cross validation socre."
   ]
  },
  {
   "cell_type": "code",
   "execution_count": 71,
   "metadata": {},
   "outputs": [
    {
     "name": "stdout",
     "output_type": "stream",
     "text": [
      "best mean cross-validation score: 0.78319\n",
      "best parameters: {'n_neighbors': 17}\n"
     ]
    }
   ],
   "source": [
    "## GridSearchCV to find the best tuning parameter\n",
    "from sklearn.model_selection import GridSearchCV\n",
    "from sklearn.neighbors import KNeighborsClassifier\n",
    "\n",
    "param_grid = {'n_neighbors': np.arange(1, 21, 2)} \n",
    "\n",
    "grid = GridSearchCV(KNeighborsClassifier(), param_grid=param_grid, cv=10)\n",
    "\n",
    "grid.fit(X_train_s, y_train)\n",
    "\n",
    "print(\"best mean cross-validation score: {:.5f}\".format(grid.best_score_))\n",
    "print(\"best parameters: {}\".format(grid.best_params_))"
   ]
  },
  {
   "cell_type": "markdown",
   "metadata": {},
   "source": [
    "Run the model and evaluate prediction error in two ways. A) On test data directly and B) using k-fold cross-validation.  "
   ]
  },
  {
   "cell_type": "code",
   "execution_count": 72,
   "metadata": {},
   "outputs": [
    {
     "name": "stdout",
     "output_type": "stream",
     "text": [
      "Test set score: 0.77585\n"
     ]
    }
   ],
   "source": [
    "# A) on the test data\n",
    "\n",
    "knn = KNeighborsClassifier(n_neighbors=17)\n",
    "knn.fit(X_train_s, y_train)\n",
    "\n",
    "print(\"Test set score: {:.5f}\".format(knn.score(X_test_s, y_test)))"
   ]
  },
  {
   "cell_type": "code",
   "execution_count": 73,
   "metadata": {},
   "outputs": [
    {
     "name": "stdout",
     "output_type": "stream",
     "text": [
      "Average cross-validation score: 0.78493\n"
     ]
    }
   ],
   "source": [
    "# B) using k-fold cross-validation.\n",
    "from sklearn.model_selection import KFold, cross_val_score\n",
    "\n",
    "k_fold = KFold(n_splits=10)\n",
    "\n",
    "print(\"Average cross-validation score: {:.5f}\".format(np.mean(cross_val_score(KNeighborsClassifier(n_neighbors=17), \n",
    "                                                                              X_train_s, \n",
    "                                                                              y_train, \n",
    "                                                                              cv= k_fold))))\n"
   ]
  },
  {
   "cell_type": "markdown",
   "metadata": {},
   "source": [
    "### 9. \n",
    "Choose a second model from question four.  -- **Penalized Logistic Regression**\n",
    "\n",
    "Using the same three variables in the dataset that you think will be good predictors of \"spam\".  Describe why you chose any particular parameters for your model (e.g.- if you used KNN how did you decide to choose a specific value for k).  \n",
    "\n",
    "I use `GridSeachCV` to find that c=100 has the best cross validation socre.\n"
   ]
  },
  {
   "cell_type": "code",
   "execution_count": 38,
   "metadata": {},
   "outputs": [
    {
     "name": "stdout",
     "output_type": "stream",
     "text": [
      "best mean cross-validation score: 0.77565\n",
      "best parameters: {'C': 100}\n"
     ]
    }
   ],
   "source": [
    "## GridSearchCV to find the best tuning parameter\n",
    "from sklearn.linear_model import LogisticRegression\n",
    "\n",
    "para_lg = {'C': [0.001, 0.01, 0.1, 1, 10, 100, 1000] }\n",
    "\n",
    "gs_lg = GridSearchCV(LogisticRegression(), param_grid=para_lg, cv=10)\n",
    "\n",
    "lggrid = gs_lg.fit(X_train_s, y_train)\n",
    "\n",
    "print(\"best mean cross-validation score: {:.5f}\".format(lggrid.best_score_))\n",
    "print(\"best parameters: {}\".format(lggrid.best_params_))"
   ]
  },
  {
   "cell_type": "code",
   "execution_count": 39,
   "metadata": {},
   "outputs": [
    {
     "name": "stdout",
     "output_type": "stream",
     "text": [
      "Test set score: 0.77237\n"
     ]
    }
   ],
   "source": [
    "# A) on the test data\n",
    "\n",
    "logreg = LogisticRegression(C=100)\n",
    "\n",
    "logreg.fit(X_train_s, y_train)\n",
    "\n",
    "print(\"Test set score: {:.5f}\".format(logreg.score(X_test_s, y_test)))\n"
   ]
  },
  {
   "cell_type": "markdown",
   "metadata": {},
   "source": [
    "Run the model and evaluate prediction error in two ways. A) On test data directly and B) using k-fold cross-validation.  "
   ]
  },
  {
   "cell_type": "code",
   "execution_count": 40,
   "metadata": {},
   "outputs": [
    {
     "name": "stdout",
     "output_type": "stream",
     "text": [
      "Average cross-validation score: 0.77478\n"
     ]
    }
   ],
   "source": [
    "# B) using k-fold cross-validation.\n",
    "from sklearn.model_selection import KFold, cross_val_score\n",
    "\n",
    "k_fold = KFold(n_splits=10)\n",
    "\n",
    "print(\"Average cross-validation score: {:.5f}\".format(np.mean(cross_val_score(LogisticRegression(C=100), \n",
    "                                                                              X_train_s, \n",
    "                                                                              y_train, \n",
    "                                                                              cv= k_fold))))"
   ]
  },
  {
   "cell_type": "markdown",
   "metadata": {},
   "source": [
    "**Did this model predict test data better than your previous models?**\n",
    "\n",
    "No"
   ]
  },
  {
   "cell_type": "markdown",
   "metadata": {},
   "source": [
    "### 10. \n",
    "Choose a third model from question four.  -- **SVM**\n",
    "\n",
    "Using the same three variables in the dataset that you think will be good predictors of \"spam\".  Describe why you chose any particular parameters for your model (e.g.- if you used KNN how did you decide to choose a specific value for k). \n",
    "\n",
    "I use `GridSeachCV` to find that kernel = 'rbf'; C=10; gamma = 1 has the best cross validation socre."
   ]
  },
  {
   "cell_type": "code",
   "execution_count": 57,
   "metadata": {},
   "outputs": [
    {
     "name": "stdout",
     "output_type": "stream",
     "text": [
      "best mean cross-validation score: 0.80000\n",
      "best parameters: {'C': 10, 'gamma': 1, 'kernel': 'rbf'}\n"
     ]
    }
   ],
   "source": [
    "from sklearn import svm, grid_search\n",
    "\n",
    "Cs = [0.001, 0.01, 0.1, 1, 10]\n",
    "gammas = [0.001, 0.01, 0.1, 1]\n",
    "kernels = ['linear','rbf']\n",
    "         \n",
    "\n",
    "param_svm = {'C': Cs, 'gamma' : gammas, 'kernel': kernels}\n",
    "\n",
    "grid_svm = GridSearchCV(svm.SVC(), param_grid = param_svm, cv=10)\n",
    "\n",
    "svmgrid = grid_svm.fit(X_train_s, y_train)\n",
    "\n",
    "print(\"best mean cross-validation score: {:.5f}\".format(svmgrid.best_score_))\n",
    "\n",
    "print(\"best parameters: {}\".format(svmgrid.best_params_))"
   ]
  },
  {
   "cell_type": "markdown",
   "metadata": {},
   "source": [
    "Run the model and evaluate prediction error in two ways. A) On test data directly and B) using k-fold cross-validation.  Did this model predict test data better than your previous models?"
   ]
  },
  {
   "cell_type": "code",
   "execution_count": 43,
   "metadata": {},
   "outputs": [
    {
     "name": "stdout",
     "output_type": "stream",
     "text": [
      "Test set score: 0.79235\n"
     ]
    }
   ],
   "source": [
    "# A) on the test data\n",
    "\n",
    "bestsvm = svm.SVC(kernel='rbf', C = 10, gamma= 1)  \n",
    "\n",
    "bestsvm.fit(X_train_s, y_train)  \n",
    "\n",
    "print(\"Test set score: {:.5f}\".format(bestsvm.score(X_test_s, y_test)))\n"
   ]
  },
  {
   "cell_type": "code",
   "execution_count": 44,
   "metadata": {},
   "outputs": [
    {
     "name": "stdout",
     "output_type": "stream",
     "text": [
      "Average cross-validation score: 0.80029\n"
     ]
    }
   ],
   "source": [
    "# B) using k-fold cross-validation.\n",
    "from sklearn.model_selection import KFold, cross_val_score\n",
    "\n",
    "k_fold = KFold(n_splits=10)\n",
    "\n",
    "print(\"Average cross-validation score: {:.5f}\".format(np.mean(cross_val_score(svm.SVC(kernel='rbf', C = 10, gamma= 1), \n",
    "                                                                              X_train_s, \n",
    "                                                                              y_train, \n",
    "                                                                              cv= k_fold))))"
   ]
  },
  {
   "cell_type": "markdown",
   "metadata": {},
   "source": [
    "**Did this model predict test data better than your previous models?**\n",
    "\n",
    "-- Yes, both in terms of test data and k-fold cross validation show the improvement."
   ]
  },
  {
   "cell_type": "markdown",
   "metadata": {},
   "source": [
    "### 11. \n",
    "Choose a fourth model from question four.  --**Decision Tree**\n",
    "\n",
    "Using the same three variables in the dataset that you think will be good predictors of \"spam\".  Describe why you chose any particular parameters for your model (e.g.- if you used KNN how did you decide to choose a specific value for k). \n",
    "\n",
    "I use `GridSeachCV` to find that criterion = entropy; max_depth = 6; min_samples_leaf= 2 has the best cross validation socre.\n",
    "\n"
   ]
  },
  {
   "cell_type": "code",
   "execution_count": 62,
   "metadata": {},
   "outputs": [
    {
     "name": "stdout",
     "output_type": "stream",
     "text": [
      "best mean cross-validation score: 0.79855\n",
      "best parameters: {'criterion': 'entropy', 'max_depth': 6, 'min_samples_leaf': 2}\n"
     ]
    }
   ],
   "source": [
    "from sklearn.model_selection import GridSearchCV\n",
    "from sklearn.tree import DecisionTreeClassifier\n",
    "\n",
    "tree = DecisionTreeClassifier()\n",
    "#Hyper Parameters Set\n",
    "params_tree = {'max_depth': np.arange(1, 21),\n",
    "          'criterion': ['gini','entropy'], \n",
    "          'min_samples_leaf':np.arange(1, 21)}\n",
    "         \n",
    "grid_tree = GridSearchCV(DecisionTreeClassifier(), param_grid = params_tree, cv=10)\n",
    "\n",
    "treegrid = grid_tree.fit(X_train_s, y_train)\n",
    "\n",
    "print(\"best mean cross-validation score: {:.5f}\".format(treegrid.best_score_))\n",
    "\n",
    "print(\"best parameters: {}\".format(treegrid.best_params_))"
   ]
  },
  {
   "cell_type": "markdown",
   "metadata": {},
   "source": [
    "Run the model and evaluate prediction error in two ways. A) On test data directly and B) using k-fold cross-validation.  Did this model predict test data better than your previous models?"
   ]
  },
  {
   "cell_type": "code",
   "execution_count": 64,
   "metadata": {},
   "outputs": [
    {
     "name": "stdout",
     "output_type": "stream",
     "text": [
      "Test set score: 0.79670\n"
     ]
    }
   ],
   "source": [
    "# A) on the test data\n",
    "\n",
    "bestress = DecisionTreeClassifier(criterion = 'entropy', max_depth = 6, min_samples_leaf= 2)\n",
    "\n",
    "bestress.fit(X_train_s, y_train)  \n",
    "\n",
    "print(\"Test set score: {:.5f}\".format(bestress.score(X_test_s, y_test)))\n"
   ]
  },
  {
   "cell_type": "code",
   "execution_count": 66,
   "metadata": {},
   "outputs": [
    {
     "name": "stdout",
     "output_type": "stream",
     "text": [
      "Average cross-validation score: 0.79565\n"
     ]
    }
   ],
   "source": [
    "# B) using k-fold cross-validation.\n",
    "from sklearn.model_selection import KFold, cross_val_score\n",
    "\n",
    "k_fold = KFold(n_splits=10)\n",
    "\n",
    "print(\"Average cross-validation score: {:.5f}\".format(np.mean(cross_val_score(bestress, \n",
    "                                                                              X_train_s, \n",
    "                                                                              y_train, \n",
    "                                                                              cv= k_fold))))"
   ]
  },
  {
   "cell_type": "markdown",
   "metadata": {},
   "source": [
    "**Did this model predict test data better than your previous models?**\n",
    "\n",
    "-- Compared to KNN and Penalized Logistic Regression , decision tree model improves the performance, but not as good as SVM. "
   ]
  },
  {
   "cell_type": "markdown",
   "metadata": {},
   "source": [
    "### 12. \n",
    "Now rerun your best model from questions 8 through 11, but this time add three new variables to the model that you think will increase prediction accuracy.   "
   ]
  },
  {
   "cell_type": "code",
   "execution_count": 74,
   "metadata": {},
   "outputs": [
    {
     "name": "stdout",
     "output_type": "stream",
     "text": [
      "<class 'pandas.core.frame.DataFrame'>\n",
      "Int64Index: 3450 entries, 118 to 2732\n",
      "Data columns (total 6 columns):\n",
      "word_freq_order:               3450 non-null float64\n",
      "char_freq_$:                   3450 non-null float64\n",
      "capital_run_length_total:      3450 non-null int64\n",
      "word_freq_free:                3450 non-null float64\n",
      "capital_run_length_average:    3450 non-null float64\n",
      "char_freq_!:                   3450 non-null float64\n",
      "dtypes: float64(5), int64(1)\n",
      "memory usage: 188.7 KB\n"
     ]
    }
   ],
   "source": [
    "y = data['spam']\n",
    "X_3 = data[['word_freq_order:','char_freq_$:', 'capital_run_length_total:',\n",
    "          'word_freq_free:', 'capital_run_length_average:', 'char_freq_!:']]\n",
    "\n",
    "# Training test split\n",
    "from sklearn.model_selection import train_test_split\n",
    "X_train_3, X_test_3, y_train_3, y_test_3 = train_test_split(X_3, y, random_state=0)\n",
    "X_train_3.info()\n",
    "\n",
    "from sklearn import preprocessing\n",
    "## Scaling data\n",
    "scaler = preprocessing.StandardScaler()\n",
    "scaler.fit(X_train_3)\n",
    "X_train_3s = scaler.transform(X_train_3)\n",
    "\n",
    "scaler.fit(X_test_3)\n",
    "X_test_3s = scaler.transform(X_test_3)"
   ]
  },
  {
   "cell_type": "code",
   "execution_count": 84,
   "metadata": {
    "scrolled": true
   },
   "outputs": [
    {
     "name": "stdout",
     "output_type": "stream",
     "text": [
      "Test set score: 0.87142\n",
      "Average cross-validation score: 0.88290\n"
     ]
    }
   ],
   "source": [
    "bestsvm = svm.SVC(kernel='rbf', C = 10, gamma= 1)  \n",
    "\n",
    "bestsvm.fit(X_train_3s, y_train_3)  \n",
    "\n",
    "# A) on test data\n",
    "print(\"Test set score: {:.5f}\".format(bestsvm.score(X_test_3s, y_test_3)))\n",
    "\n",
    "# B) using k-fold cross-validation.\n",
    "from sklearn.model_selection import KFold, cross_val_score\n",
    "\n",
    "k_fold = KFold(n_splits=10)\n",
    "\n",
    "print(\"Average cross-validation score: {:.5f}\".format(np.mean(cross_val_score(bestsvm, \n",
    "                                                                              X_train_3s, \n",
    "                                                                              y_train_3, \n",
    "                                                                              cv= k_fold))))\n"
   ]
  },
  {
   "cell_type": "markdown",
   "metadata": {},
   "source": [
    "**Did this model predict test data better than your previous models?**\n",
    "\n",
    "-- Yes, the model predict better with 3 more features"
   ]
  },
  {
   "cell_type": "markdown",
   "metadata": {},
   "source": [
    "### 13. \n",
    "Rerun all your other models with this final set of six variables, evaluate prediction error, and choose a final model.  Why did you select this model among all of the models that you ran?  \n",
    "\n",
    "**-- With 3 more features, every model get improvement. The SVM model still has the best performance on test data and 10 fold validation score. So I select SVM model**"
   ]
  },
  {
   "cell_type": "code",
   "execution_count": 85,
   "metadata": {},
   "outputs": [
    {
     "name": "stdout",
     "output_type": "stream",
     "text": [
      "Test set score: 0.85317\n",
      "Average cross-validation score: 0.87710\n"
     ]
    }
   ],
   "source": [
    "# Decision Tree\n",
    "bestress = DecisionTreeClassifier(criterion = 'entropy', max_depth = 6, min_samples_leaf= 2)\n",
    "bestress.fit(X_train_3s, y_train_3)  \n",
    "\n",
    "# A) on test data\n",
    "print(\"Test set score: {:.5f}\".format(bestress.score(X_test_3s, y_test_3)))\n",
    "\n",
    "# B) using k-fold cross-validation.\n",
    "from sklearn.model_selection import KFold, cross_val_score\n",
    "\n",
    "k_fold = KFold(n_splits=10)\n",
    "\n",
    "print(\"Average cross-validation score: {:.5f}\".format(np.mean(cross_val_score(bestress, \n",
    "                                                                              X_train_3s, \n",
    "                                                                              y_train_3, \n",
    "                                                                              cv= k_fold))))\n"
   ]
  },
  {
   "cell_type": "code",
   "execution_count": 79,
   "metadata": {},
   "outputs": [
    {
     "name": "stdout",
     "output_type": "stream",
     "text": [
      "Test set score: 0.84448\n",
      "Average cross-validation score: 0.83536\n"
     ]
    }
   ],
   "source": [
    "# Penalized Logistic Regression\n",
    "logreg = LogisticRegression(C=100)\n",
    "\n",
    "logreg.fit(X_train_3s, y_train_3)  \n",
    "\n",
    "# A) on test data\n",
    "print(\"Test set score: {:.5f}\".format(logreg.score(X_test_3s, y_test_3)))\n",
    "\n",
    "# B) using k-fold cross-validation.\n",
    "from sklearn.model_selection import KFold, cross_val_score\n",
    "\n",
    "k_fold = KFold(n_splits=10)\n",
    "\n",
    "print(\"Average cross-validation score: {:.5f}\".format(np.mean(cross_val_score(logreg, \n",
    "                                                                              X_train_3s, \n",
    "                                                                              y_train_3, \n",
    "                                                                              cv= k_fold))))\n"
   ]
  },
  {
   "cell_type": "code",
   "execution_count": 86,
   "metadata": {},
   "outputs": [
    {
     "name": "stdout",
     "output_type": "stream",
     "text": [
      "Test set score: 0.85925\n",
      "Average cross-validation score: 0.86783\n"
     ]
    }
   ],
   "source": [
    "# KNN\n",
    "\n",
    "knn = KNeighborsClassifier(n_neighbors=17)\n",
    "knn.fit(X_train_3s, y_train_3)  \n",
    "\n",
    "# A) on test data\n",
    "print(\"Test set score: {:.5f}\".format(knn.score(X_test_3s, y_test_3)))\n",
    "\n",
    "# B) using k-fold cross-validation.\n",
    "from sklearn.model_selection import KFold, cross_val_score\n",
    "\n",
    "k_fold = KFold(n_splits=10)\n",
    "\n",
    "print(\"Average cross-validation score: {:.5f}\".format(np.mean(cross_val_score(knn, \n",
    "                                                                              X_train_3s, \n",
    "                                                                              y_train_3, \n",
    "                                                                              cv= k_fold))))\n"
   ]
  },
  {
   "cell_type": "markdown",
   "metadata": {},
   "source": [
    "### 14. \n",
    "What variable that currently is not in your model, if included, would be likely to increase your final model's predictive power?\n",
    "\n",
    "**-- 'word_freq_receive:', 'word_freq_credit:', 'capital_run_length_longest:'**\n",
    "\n",
    "The svm imporved marginally after include this 3 variables."
   ]
  },
  {
   "cell_type": "code",
   "execution_count": 92,
   "metadata": {
    "scrolled": false
   },
   "outputs": [],
   "source": [
    "y = data['spam']\n",
    "X_6 = data[['word_freq_order:','char_freq_$:', 'capital_run_length_total:',\n",
    "          'word_freq_free:', 'capital_run_length_average:', 'char_freq_!:',\n",
    "           'word_freq_receive:', 'word_freq_credit:', 'capital_run_length_longest:']]\n",
    "\n",
    "# Training test split\n",
    "from sklearn.model_selection import train_test_split\n",
    "X_train_6, X_test_6, y_train_6, y_test_6 = train_test_split(X_6, y, random_state=0)\n",
    "\n",
    "from sklearn import preprocessing\n",
    "## Scaling data\n",
    "scaler = preprocessing.StandardScaler()\n",
    "scaler.fit(X_train_6)\n",
    "X_train_6s = scaler.transform(X_train_6)\n",
    "\n",
    "scaler.fit(X_test_6)\n",
    "X_test_6s = scaler.transform(X_test_6)"
   ]
  },
  {
   "cell_type": "code",
   "execution_count": 93,
   "metadata": {},
   "outputs": [
    {
     "name": "stdout",
     "output_type": "stream",
     "text": [
      "Test set score: 0.86099\n",
      "Average cross-validation score: 0.88696\n"
     ]
    }
   ],
   "source": [
    "bestsvm = svm.SVC(kernel='rbf', C = 10, gamma= 1)  \n",
    "\n",
    "bestsvm.fit(X_train_6s, y_train_6)  \n",
    "\n",
    "# A) on test data\n",
    "print(\"Test set score: {:.5f}\".format(bestsvm.score(X_test_6s, y_test_6)))\n",
    "\n",
    "# B) using k-fold cross-validation.\n",
    "from sklearn.model_selection import KFold, cross_val_score\n",
    "\n",
    "k_fold = KFold(n_splits=10)\n",
    "\n",
    "print(\"Average cross-validation score: {:.5f}\".format(np.mean(cross_val_score(bestsvm, \n",
    "                                                                              X_train_6s, \n",
    "                                                                              y_train_6, \n",
    "                                                                              cv= k_fold))))\n"
   ]
  },
  {
   "cell_type": "markdown",
   "metadata": {},
   "source": [
    "### 15. \n",
    "Lastly, you have listed each of the models that we have learned to use to predict dependent variables like spam.  List each model we have focused on in class thus far that you could use to evaluate data with a continuous dependent variable.\n"
   ]
  },
  {
   "cell_type": "markdown",
   "metadata": {
    "collapsed": true
   },
   "source": [
    "- KNN for regression\n",
    "- OLS regression\n",
    "- Ridge regression\n",
    "- Lasso regression\n",
    "- Decision Tree regression\n",
    "- Random Forest regression\n",
    "- Bagging regression\n"
   ]
  }
 ],
 "metadata": {
  "kernelspec": {
   "display_name": "Python [conda env:ml]",
   "language": "python",
   "name": "conda-env-ml-py"
  },
  "language_info": {
   "codemirror_mode": {
    "name": "ipython",
    "version": 3
   },
   "file_extension": ".py",
   "mimetype": "text/x-python",
   "name": "python",
   "nbconvert_exporter": "python",
   "pygments_lexer": "ipython3",
   "version": "3.7.0"
  }
 },
 "nbformat": 4,
 "nbformat_minor": 2
}
