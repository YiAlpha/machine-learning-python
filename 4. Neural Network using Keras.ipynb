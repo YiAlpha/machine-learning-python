{
 "cells": [
  {
   "cell_type": "markdown",
   "metadata": {
    "toc": true
   },
   "source": [
    "<h1>Table of Contents<span class=\"tocSkip\"></span></h1>\n",
    "<div class=\"toc\"><ul class=\"toc-item\"><li><span><a href=\"#Predictive-neural-network-using-Keras\" data-toc-modified-id=\"Predictive-neural-network-using-Keras-1\">Predictive neural network using Keras</a></span><ul class=\"toc-item\"><li><span><a href=\"#Run-a-multilayer-perceptron-with-two-hidden-layers\" data-toc-modified-id=\"Run-a-multilayer-perceptron-with-two-hidden-layers-1.1\">Run a multilayer perceptron with two hidden layers</a></span></li><li><span><a href=\"#selecting-the-number-of-hidden-units-using-GridSearchCV-and-evaluation-on-a-test-set.\" data-toc-modified-id=\"selecting-the-number-of-hidden-units-using-GridSearchCV-and-evaluation-on-a-test-set.-1.2\">selecting the number of hidden units using GridSearchCV and evaluation on a test-set.</a></span></li><li><span><a href=\"#Describe-the-differences-in-the-predictive-accuracy-of-models-with-different-numbers-of-hidden-units.\" data-toc-modified-id=\"Describe-the-differences-in-the-predictive-accuracy-of-models-with-different-numbers-of-hidden-units.-1.3\">Describe the differences in the predictive accuracy of models with different numbers of hidden units.</a></span></li><li><span><a href=\"#Describe-the-predictive-strength-of-your-best-model.\" data-toc-modified-id=\"Describe-the-predictive-strength-of-your-best-model.-1.4\">Describe the predictive strength of your best model.</a></span></li></ul></li></ul></div>"
   ]
  },
  {
   "cell_type": "markdown",
   "metadata": {},
   "source": [
    "# Predictive neural network using Keras"
   ]
  },
  {
   "cell_type": "code",
   "execution_count": 1,
   "metadata": {
    "scrolled": true
   },
   "outputs": [
    {
     "data": {
      "text/html": [
       "<div>\n",
       "<style scoped>\n",
       "    .dataframe tbody tr th:only-of-type {\n",
       "        vertical-align: middle;\n",
       "    }\n",
       "\n",
       "    .dataframe tbody tr th {\n",
       "        vertical-align: top;\n",
       "    }\n",
       "\n",
       "    .dataframe thead th {\n",
       "        text-align: right;\n",
       "    }\n",
       "</style>\n",
       "<table border=\"1\" class=\"dataframe\">\n",
       "  <thead>\n",
       "    <tr style=\"text-align: right;\">\n",
       "      <th></th>\n",
       "      <th>Sepal.Length</th>\n",
       "      <th>Sepal.Width</th>\n",
       "      <th>Petal.Length</th>\n",
       "      <th>Petal.Width</th>\n",
       "      <th>Species</th>\n",
       "    </tr>\n",
       "  </thead>\n",
       "  <tbody>\n",
       "    <tr>\n",
       "      <th>0</th>\n",
       "      <td>5.1</td>\n",
       "      <td>3.5</td>\n",
       "      <td>1.4</td>\n",
       "      <td>0.2</td>\n",
       "      <td>setosa</td>\n",
       "    </tr>\n",
       "    <tr>\n",
       "      <th>1</th>\n",
       "      <td>4.9</td>\n",
       "      <td>3.0</td>\n",
       "      <td>1.4</td>\n",
       "      <td>0.2</td>\n",
       "      <td>setosa</td>\n",
       "    </tr>\n",
       "    <tr>\n",
       "      <th>2</th>\n",
       "      <td>4.7</td>\n",
       "      <td>3.2</td>\n",
       "      <td>1.3</td>\n",
       "      <td>0.2</td>\n",
       "      <td>setosa</td>\n",
       "    </tr>\n",
       "    <tr>\n",
       "      <th>3</th>\n",
       "      <td>4.6</td>\n",
       "      <td>3.1</td>\n",
       "      <td>1.5</td>\n",
       "      <td>0.2</td>\n",
       "      <td>setosa</td>\n",
       "    </tr>\n",
       "    <tr>\n",
       "      <th>4</th>\n",
       "      <td>5.0</td>\n",
       "      <td>3.6</td>\n",
       "      <td>1.4</td>\n",
       "      <td>0.2</td>\n",
       "      <td>setosa</td>\n",
       "    </tr>\n",
       "  </tbody>\n",
       "</table>\n",
       "</div>"
      ],
      "text/plain": [
       "   Sepal.Length  Sepal.Width  Petal.Length  Petal.Width Species\n",
       "0           5.1          3.5           1.4          0.2  setosa\n",
       "1           4.9          3.0           1.4          0.2  setosa\n",
       "2           4.7          3.2           1.3          0.2  setosa\n",
       "3           4.6          3.1           1.5          0.2  setosa\n",
       "4           5.0          3.6           1.4          0.2  setosa"
      ]
     },
     "metadata": {},
     "output_type": "display_data"
    }
   ],
   "source": [
    "import pandas as pd\n",
    "# target = InMichelin, whether or not a restaurant is in the Michelin guide\n",
    "data = pd.read_csv(\"http://vincentarelbundock.github.io/Rdatasets/csv/datasets/iris.csv\" , encoding=\"latin_1\")\n",
    "\n",
    "\n",
    "#update data to set up for train test split\n",
    "data = data.iloc[:,1:]\n",
    "y = data['Species']\n",
    "X = data.loc[:, data.columns != 'Species']\n",
    "\n",
    "display(data.head())"
   ]
  },
  {
   "cell_type": "markdown",
   "metadata": {},
   "source": [
    "## Run a multilayer perceptron with two hidden layers"
   ]
  },
  {
   "cell_type": "code",
   "execution_count": 2,
   "metadata": {},
   "outputs": [
    {
     "name": "stderr",
     "output_type": "stream",
     "text": [
      "Using TensorFlow backend.\n",
      "/anaconda/envs/ml/lib/python3.7/importlib/_bootstrap.py:219: RuntimeWarning: compiletime version 3.6 of module 'tensorflow.python.framework.fast_tensor_util' does not match runtime version 3.7\n",
      "  return f(*args, **kwds)\n"
     ]
    }
   ],
   "source": [
    "from keras.models import Sequential\n",
    "from keras.layers import Dense\n",
    "from keras.wrappers.scikit_learn import KerasClassifier\n",
    "from keras.utils import np_utils\n",
    "from sklearn.model_selection import cross_val_score\n",
    "from sklearn.model_selection import KFold\n",
    "from sklearn.preprocessing import LabelEncoder\n",
    "\n",
    "# encode class values as integers\n",
    "encoder = LabelEncoder()\n",
    "encoder.fit(y)\n",
    "encoded_Y = encoder.transform(y)\n",
    "# convert integers to dummy variables (i.e. one hot encoded)\n",
    "dummy_y = np_utils.to_categorical(encoded_Y)"
   ]
  },
  {
   "cell_type": "code",
   "execution_count": 3,
   "metadata": {},
   "outputs": [
    {
     "name": "stdout",
     "output_type": "stream",
     "text": [
      "(112, 4)\n",
      "(112, 3)\n"
     ]
    }
   ],
   "source": [
    "from sklearn.model_selection import train_test_split\n",
    "\n",
    "X_train, X_test, y_train, y_test = train_test_split(X, dummy_y, random_state=42)\n",
    "\n",
    "print(X_train.shape)\n",
    "print(y_train.shape)"
   ]
  },
  {
   "cell_type": "code",
   "execution_count": 4,
   "metadata": {
    "collapsed": true
   },
   "outputs": [],
   "source": [
    "import keras\n",
    "from keras.models import Sequential\n",
    "from keras.layers import Dense, Dropout, Activation\n",
    "from keras.optimizers import SGD"
   ]
  },
  {
   "cell_type": "code",
   "execution_count": 4,
   "metadata": {
    "scrolled": true
   },
   "outputs": [
    {
     "name": "stdout",
     "output_type": "stream",
     "text": [
      "Epoch 1/20\n",
      "112/112 [==============================] - 0s 1ms/step - loss: 1.3175 - acc: 0.3393\n",
      "Epoch 2/20\n",
      "112/112 [==============================] - 0s 12us/step - loss: 1.1506 - acc: 0.3393\n",
      "Epoch 3/20\n",
      "112/112 [==============================] - 0s 16us/step - loss: 1.1057 - acc: 0.3393\n",
      "Epoch 4/20\n",
      "112/112 [==============================] - 0s 12us/step - loss: 1.0895 - acc: 0.3304\n",
      "Epoch 5/20\n",
      "112/112 [==============================] - 0s 12us/step - loss: 1.0782 - acc: 0.2946\n",
      "Epoch 6/20\n",
      "112/112 [==============================] - 0s 16us/step - loss: 1.0673 - acc: 0.2768\n",
      "Epoch 7/20\n",
      "112/112 [==============================] - 0s 13us/step - loss: 1.0524 - acc: 0.2768\n",
      "Epoch 8/20\n",
      "112/112 [==============================] - 0s 12us/step - loss: 1.0420 - acc: 0.2768\n",
      "Epoch 9/20\n",
      "112/112 [==============================] - 0s 13us/step - loss: 1.0327 - acc: 0.2857\n",
      "Epoch 10/20\n",
      "112/112 [==============================] - 0s 10us/step - loss: 1.0238 - acc: 0.2946\n",
      "Epoch 11/20\n",
      "112/112 [==============================] - 0s 12us/step - loss: 1.0151 - acc: 0.2946\n",
      "Epoch 12/20\n",
      "112/112 [==============================] - 0s 14us/step - loss: 1.0063 - acc: 0.3125\n",
      "Epoch 13/20\n",
      "112/112 [==============================] - 0s 10us/step - loss: 0.9975 - acc: 0.3304\n",
      "Epoch 14/20\n",
      "112/112 [==============================] - 0s 14us/step - loss: 0.9888 - acc: 0.4643\n",
      "Epoch 15/20\n",
      "112/112 [==============================] - 0s 12us/step - loss: 0.9802 - acc: 0.5536\n",
      "Epoch 16/20\n",
      "112/112 [==============================] - 0s 15us/step - loss: 0.9720 - acc: 0.5804\n",
      "Epoch 17/20\n",
      "112/112 [==============================] - 0s 16us/step - loss: 0.9638 - acc: 0.6071\n",
      "Epoch 18/20\n",
      "112/112 [==============================] - 0s 11us/step - loss: 0.9559 - acc: 0.6161\n",
      "Epoch 19/20\n",
      "112/112 [==============================] - 0s 12us/step - loss: 0.9482 - acc: 0.6339\n",
      "Epoch 20/20\n",
      "112/112 [==============================] - 0s 12us/step - loss: 0.9406 - acc: 0.6429\n",
      "38/38 [==============================] - 0s 676us/step\n",
      "[0.9344544410705566, 0.6842105388641357]\n"
     ]
    }
   ],
   "source": [
    "model = Sequential()\n",
    "\n",
    "model.add(Dense(32, activation='relu', input_dim=4))\n",
    "model.add(Dense(units=32, activation='relu'))\n",
    "model.add(Dense(3, activation='softmax'))\n",
    "\n",
    "sgd = SGD(lr=0.01)  # define a learning rate for optimization\n",
    "\n",
    "model.compile(loss='categorical_crossentropy',\n",
    "              optimizer=sgd,\n",
    "              metrics=['accuracy'])\n",
    "\n",
    "model.fit(X_train, y_train,\n",
    "          epochs=20,\n",
    "          batch_size=128)\n",
    "\n",
    "score = model.evaluate(X_test, y_test, batch_size=128) # extract loss and accuracy from test data evaluation\n",
    "print(score)"
   ]
  },
  {
   "cell_type": "markdown",
   "metadata": {},
   "source": [
    "## selecting the number of hidden units using GridSearchCV and evaluation on a test-set. "
   ]
  },
  {
   "cell_type": "code",
   "execution_count": 29,
   "metadata": {
    "collapsed": true
   },
   "outputs": [],
   "source": [
    "\n",
    "from sklearn.model_selection import GridSearchCV\n",
    "\n",
    "nodes = [4, 8, 16, 32, 64, 128] \n",
    "lrs = [0.0001, 0.001, 0.01] # learning rate, default = 0.001\n"
   ]
  },
  {
   "cell_type": "code",
   "execution_count": 5,
   "metadata": {},
   "outputs": [],
   "source": [
    "# define baseline model\n",
    "def create_model(nodes=8, lr=0.001):\n",
    "    model = Sequential()\n",
    "    model.add(Dense(nodes, activation='relu', input_dim=4))\n",
    "    model.add(Dense(nodes, activation='relu'))\n",
    "    model.add(Dense(3, activation='softmax'))\n",
    "    model.compile(loss='categorical_crossentropy',\n",
    "                  optimizer= SGD(lr=lr), metrics=['accuracy'])\n",
    "    return model\n",
    "\n",
    "model = KerasClassifier(build_fn=create_model, \n",
    "                        epochs=15, batch_size=128, verbose=0)\n"
   ]
  },
  {
   "cell_type": "code",
   "execution_count": 31,
   "metadata": {},
   "outputs": [
    {
     "name": "stdout",
     "output_type": "stream",
     "text": [
      "Best: 0.616071 using {'lr': 0.01, 'nodes': 32}\n"
     ]
    }
   ],
   "source": [
    "param_grid = dict(nodes=nodes, lr=lrs)\n",
    "\n",
    "grid = GridSearchCV(estimator=model, \n",
    "                    param_grid=param_grid, \n",
    "                    n_jobs=1)\n",
    "\n",
    "grid_result = grid.fit(X_train, y_train)\n",
    "\n",
    "print(\"Best: %f using %s\" % (grid_result.best_score_, grid_result.best_params_))\n"
   ]
  },
  {
   "cell_type": "markdown",
   "metadata": {},
   "source": [
    "## Describe the differences in the predictive accuracy of models with different numbers of hidden units.  "
   ]
  },
  {
   "cell_type": "code",
   "execution_count": 32,
   "metadata": {
    "scrolled": true
   },
   "outputs": [
    {
     "name": "stdout",
     "output_type": "stream",
     "text": [
      "0.339286 (0.048580) with: {'lr': 0.0001, 'nodes': 4}\n",
      "0.339286 (0.037347) with: {'lr': 0.0001, 'nodes': 8}\n",
      "0.348214 (0.022401) with: {'lr': 0.0001, 'nodes': 16}\n",
      "0.294643 (0.055563) with: {'lr': 0.0001, 'nodes': 32}\n",
      "0.330357 (0.086570) with: {'lr': 0.0001, 'nodes': 64}\n",
      "0.294643 (0.055563) with: {'lr': 0.0001, 'nodes': 128}\n",
      "0.339286 (0.016837) with: {'lr': 0.001, 'nodes': 4}\n",
      "0.455357 (0.136572) with: {'lr': 0.001, 'nodes': 8}\n",
      "0.330357 (0.211005) with: {'lr': 0.001, 'nodes': 16}\n",
      "0.375000 (0.022469) with: {'lr': 0.001, 'nodes': 32}\n",
      "0.348214 (0.291176) with: {'lr': 0.001, 'nodes': 64}\n",
      "0.562500 (0.106583) with: {'lr': 0.001, 'nodes': 128}\n",
      "0.357143 (0.072262) with: {'lr': 0.01, 'nodes': 4}\n",
      "0.535714 (0.142600) with: {'lr': 0.01, 'nodes': 8}\n",
      "0.339286 (0.027679) with: {'lr': 0.01, 'nodes': 16}\n",
      "0.616071 (0.211581) with: {'lr': 0.01, 'nodes': 32}\n",
      "0.616071 (0.130321) with: {'lr': 0.01, 'nodes': 64}\n",
      "0.437500 (0.137746) with: {'lr': 0.01, 'nodes': 128}\n"
     ]
    }
   ],
   "source": [
    "means = grid_result.cv_results_['mean_test_score']\n",
    "stds = grid_result.cv_results_['std_test_score']\n",
    "params = grid_result.cv_results_['params']\n",
    "for mean, stdev, param in zip(means, stds, params):\n",
    "    print(\"%f (%f) with: %r\" % (mean, stdev, param))"
   ]
  },
  {
   "cell_type": "markdown",
   "metadata": {},
   "source": [
    "## Describe the predictive strength of your best model. "
   ]
  },
  {
   "cell_type": "code",
   "execution_count": 35,
   "metadata": {},
   "outputs": [
    {
     "name": "stdout",
     "output_type": "stream",
     "text": [
      "Epoch 1/20\n",
      "112/112 [==============================] - 3s 25ms/step - loss: 1.7970 - acc: 0.3125\n",
      "Epoch 2/20\n",
      "112/112 [==============================] - 0s 36us/step - loss: 1.4252 - acc: 0.3125\n",
      "Epoch 3/20\n",
      "112/112 [==============================] - 0s 28us/step - loss: 1.2305 - acc: 0.4107\n",
      "Epoch 4/20\n",
      "112/112 [==============================] - 0s 32us/step - loss: 1.1229 - acc: 0.5804\n",
      "Epoch 5/20\n",
      "112/112 [==============================] - 0s 27us/step - loss: 1.0593 - acc: 0.6518\n",
      "Epoch 6/20\n",
      "112/112 [==============================] - 0s 29us/step - loss: 1.0190 - acc: 0.6518\n",
      "Epoch 7/20\n",
      "112/112 [==============================] - 0s 29us/step - loss: 0.9899 - acc: 0.6518\n",
      "Epoch 8/20\n",
      "112/112 [==============================] - 0s 30us/step - loss: 0.9658 - acc: 0.6429\n",
      "Epoch 9/20\n",
      "112/112 [==============================] - 0s 27us/step - loss: 0.9443 - acc: 0.6429\n",
      "Epoch 10/20\n",
      "112/112 [==============================] - 0s 22us/step - loss: 0.9245 - acc: 0.6429\n",
      "Epoch 11/20\n",
      "112/112 [==============================] - 0s 22us/step - loss: 0.9056 - acc: 0.6518\n",
      "Epoch 12/20\n",
      "112/112 [==============================] - 0s 31us/step - loss: 0.8883 - acc: 0.6607\n",
      "Epoch 13/20\n",
      "112/112 [==============================] - 0s 27us/step - loss: 0.8725 - acc: 0.6607\n",
      "Epoch 14/20\n",
      "112/112 [==============================] - 0s 26us/step - loss: 0.8577 - acc: 0.6607\n",
      "Epoch 15/20\n",
      "112/112 [==============================] - 0s 25us/step - loss: 0.8442 - acc: 0.6607\n",
      "Epoch 16/20\n",
      "112/112 [==============================] - 0s 29us/step - loss: 0.8322 - acc: 0.6607\n",
      "Epoch 17/20\n",
      "112/112 [==============================] - 0s 31us/step - loss: 0.8216 - acc: 0.6786\n",
      "Epoch 18/20\n",
      "112/112 [==============================] - 0s 28us/step - loss: 0.8119 - acc: 0.6786\n",
      "Epoch 19/20\n",
      "112/112 [==============================] - 0s 26us/step - loss: 0.8027 - acc: 0.6786\n",
      "Epoch 20/20\n",
      "112/112 [==============================] - 0s 26us/step - loss: 0.7941 - acc: 0.6786\n",
      "38/38 [==============================] - 1s 31ms/step\n",
      "[0.7597740292549133, 0.7631579041481018]\n"
     ]
    }
   ],
   "source": [
    "bestmodel = Sequential()\n",
    "bestmodel.add(Dense(32, activation='relu', input_dim=4))\n",
    "bestmodel.add(Dense(32, activation='relu'))\n",
    "bestmodel.add(Dense(3, activation='softmax'))\n",
    "bestmodel.compile(loss='categorical_crossentropy',\n",
    "                 optimizer= SGD(lr=0.01), metrics=['accuracy'])\n",
    "\n",
    "bestmodel.fit(X_train, y_train,\n",
    "          epochs=20,\n",
    "          batch_size=128)\n",
    "\n",
    "score = bestmodel.evaluate(X_test, y_test, batch_size=128) # extract loss and accuracy from test data evaluation\n",
    "print(score)"
   ]
  },
  {
   "cell_type": "code",
   "execution_count": 10,
   "metadata": {},
   "outputs": [
    {
     "name": "stdout",
     "output_type": "stream",
     "text": [
      "Cross_validation accuracy: 48.00% (21.87%)\n"
     ]
    }
   ],
   "source": [
    "from sklearn.model_selection import KFold\n",
    "from sklearn.model_selection import cross_val_score\n",
    "\n",
    "def best_model():\n",
    "    model = Sequential()\n",
    "    model.add(Dense(8, activation='relu', input_dim=4))\n",
    "    model.add(Dense(8, activation='relu'))\n",
    "    model.add(Dense(3, activation='softmax'))\n",
    "    model.compile(loss='categorical_crossentropy',\n",
    "                  optimizer= SGD(lr=0.01), metrics=['accuracy'])\n",
    "    return model\n",
    "\n",
    "estimator = KerasClassifier(build_fn=best_model, epochs=15, batch_size=128, verbose=0)\n",
    "\n",
    "\n",
    "kfold = KFold(n_splits=10, shuffle=True, random_state=10)\n",
    "results = cross_val_score(estimator, X, dummy_y, cv=kfold)\n",
    "\n",
    "print(\"Cross_validation accuracy: %.2f%% (%.2f%%)\" % (results.mean()*100, results.std()*100))\n"
   ]
  },
  {
   "cell_type": "markdown",
   "metadata": {},
   "source": [
    "**Through cross validation, the best model can predict about half correct**"
   ]
  }
 ],
 "metadata": {
  "kernelspec": {
   "display_name": "Python 3",
   "language": "python",
   "name": "python3"
  },
  "language_info": {
   "codemirror_mode": {
    "name": "ipython",
    "version": 3
   },
   "file_extension": ".py",
   "mimetype": "text/x-python",
   "name": "python",
   "nbconvert_exporter": "python",
   "pygments_lexer": "ipython3",
   "version": "3.8.3"
  },
  "toc": {
   "base_numbering": 1,
   "nav_menu": {},
   "number_sections": false,
   "sideBar": true,
   "skip_h1_title": false,
   "title_cell": "Table of Contents",
   "title_sidebar": "Contents",
   "toc_cell": true,
   "toc_position": {},
   "toc_section_display": true,
   "toc_window_display": false
  }
 },
 "nbformat": 4,
 "nbformat_minor": 2
}
