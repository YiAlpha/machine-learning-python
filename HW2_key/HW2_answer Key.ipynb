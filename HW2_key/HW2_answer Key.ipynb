{
 "cells": [
  {
   "cell_type": "code",
   "execution_count": 1,
   "metadata": {},
   "outputs": [
    {
     "data": {
      "text/html": [
       "<div>\n",
       "<style scoped>\n",
       "    .dataframe tbody tr th:only-of-type {\n",
       "        vertical-align: middle;\n",
       "    }\n",
       "\n",
       "    .dataframe tbody tr th {\n",
       "        vertical-align: top;\n",
       "    }\n",
       "\n",
       "    .dataframe thead th {\n",
       "        text-align: right;\n",
       "    }\n",
       "</style>\n",
       "<table border=\"1\" class=\"dataframe\">\n",
       "  <thead>\n",
       "    <tr style=\"text-align: right;\">\n",
       "      <th></th>\n",
       "      <th>Unnamed: 0</th>\n",
       "      <th>distcod</th>\n",
       "      <th>county</th>\n",
       "      <th>district</th>\n",
       "      <th>grspan</th>\n",
       "      <th>enrltot</th>\n",
       "      <th>teachers</th>\n",
       "      <th>calwpct</th>\n",
       "      <th>mealpct</th>\n",
       "      <th>computer</th>\n",
       "      <th>testscr</th>\n",
       "      <th>compstu</th>\n",
       "      <th>expnstu</th>\n",
       "      <th>str</th>\n",
       "      <th>avginc</th>\n",
       "      <th>elpct</th>\n",
       "      <th>readscr</th>\n",
       "      <th>mathscr</th>\n",
       "    </tr>\n",
       "  </thead>\n",
       "  <tbody>\n",
       "    <tr>\n",
       "      <th>0</th>\n",
       "      <td>1</td>\n",
       "      <td>75119</td>\n",
       "      <td>Alameda</td>\n",
       "      <td>Sunol Glen Unified</td>\n",
       "      <td>KK-08</td>\n",
       "      <td>195</td>\n",
       "      <td>10.900000</td>\n",
       "      <td>0.510200</td>\n",
       "      <td>2.040800</td>\n",
       "      <td>67</td>\n",
       "      <td>690.799988</td>\n",
       "      <td>0.343590</td>\n",
       "      <td>6384.911133</td>\n",
       "      <td>17.889910</td>\n",
       "      <td>22.690001</td>\n",
       "      <td>0.000000</td>\n",
       "      <td>691.599976</td>\n",
       "      <td>690.000000</td>\n",
       "    </tr>\n",
       "    <tr>\n",
       "      <th>1</th>\n",
       "      <td>2</td>\n",
       "      <td>61499</td>\n",
       "      <td>Butte</td>\n",
       "      <td>Manzanita Elementary</td>\n",
       "      <td>KK-08</td>\n",
       "      <td>240</td>\n",
       "      <td>11.150000</td>\n",
       "      <td>15.416700</td>\n",
       "      <td>47.916698</td>\n",
       "      <td>101</td>\n",
       "      <td>661.200012</td>\n",
       "      <td>0.420833</td>\n",
       "      <td>5099.380859</td>\n",
       "      <td>21.524664</td>\n",
       "      <td>9.824000</td>\n",
       "      <td>4.583333</td>\n",
       "      <td>660.500000</td>\n",
       "      <td>661.900024</td>\n",
       "    </tr>\n",
       "    <tr>\n",
       "      <th>2</th>\n",
       "      <td>3</td>\n",
       "      <td>61549</td>\n",
       "      <td>Butte</td>\n",
       "      <td>Thermalito Union Elementary</td>\n",
       "      <td>KK-08</td>\n",
       "      <td>1550</td>\n",
       "      <td>82.900002</td>\n",
       "      <td>55.032299</td>\n",
       "      <td>76.322601</td>\n",
       "      <td>169</td>\n",
       "      <td>643.599976</td>\n",
       "      <td>0.109032</td>\n",
       "      <td>5501.954590</td>\n",
       "      <td>18.697226</td>\n",
       "      <td>8.978000</td>\n",
       "      <td>30.000002</td>\n",
       "      <td>636.299988</td>\n",
       "      <td>650.900024</td>\n",
       "    </tr>\n",
       "    <tr>\n",
       "      <th>3</th>\n",
       "      <td>4</td>\n",
       "      <td>61457</td>\n",
       "      <td>Butte</td>\n",
       "      <td>Golden Feather Union Elementary</td>\n",
       "      <td>KK-08</td>\n",
       "      <td>243</td>\n",
       "      <td>14.000000</td>\n",
       "      <td>36.475399</td>\n",
       "      <td>77.049202</td>\n",
       "      <td>85</td>\n",
       "      <td>647.700012</td>\n",
       "      <td>0.349794</td>\n",
       "      <td>7101.831055</td>\n",
       "      <td>17.357143</td>\n",
       "      <td>8.978000</td>\n",
       "      <td>0.000000</td>\n",
       "      <td>651.900024</td>\n",
       "      <td>643.500000</td>\n",
       "    </tr>\n",
       "    <tr>\n",
       "      <th>4</th>\n",
       "      <td>5</td>\n",
       "      <td>61523</td>\n",
       "      <td>Butte</td>\n",
       "      <td>Palermo Union Elementary</td>\n",
       "      <td>KK-08</td>\n",
       "      <td>1335</td>\n",
       "      <td>71.500000</td>\n",
       "      <td>33.108601</td>\n",
       "      <td>78.427002</td>\n",
       "      <td>171</td>\n",
       "      <td>640.849976</td>\n",
       "      <td>0.128090</td>\n",
       "      <td>5235.987793</td>\n",
       "      <td>18.671329</td>\n",
       "      <td>9.080333</td>\n",
       "      <td>13.857677</td>\n",
       "      <td>641.799988</td>\n",
       "      <td>639.900024</td>\n",
       "    </tr>\n",
       "  </tbody>\n",
       "</table>\n",
       "</div>"
      ],
      "text/plain": [
       "   Unnamed: 0  distcod   county                         district grspan  \\\n",
       "0           1    75119  Alameda               Sunol Glen Unified  KK-08   \n",
       "1           2    61499    Butte             Manzanita Elementary  KK-08   \n",
       "2           3    61549    Butte      Thermalito Union Elementary  KK-08   \n",
       "3           4    61457    Butte  Golden Feather Union Elementary  KK-08   \n",
       "4           5    61523    Butte         Palermo Union Elementary  KK-08   \n",
       "\n",
       "   enrltot   teachers    calwpct    mealpct  computer     testscr   compstu  \\\n",
       "0      195  10.900000   0.510200   2.040800        67  690.799988  0.343590   \n",
       "1      240  11.150000  15.416700  47.916698       101  661.200012  0.420833   \n",
       "2     1550  82.900002  55.032299  76.322601       169  643.599976  0.109032   \n",
       "3      243  14.000000  36.475399  77.049202        85  647.700012  0.349794   \n",
       "4     1335  71.500000  33.108601  78.427002       171  640.849976  0.128090   \n",
       "\n",
       "       expnstu        str     avginc      elpct     readscr     mathscr  \n",
       "0  6384.911133  17.889910  22.690001   0.000000  691.599976  690.000000  \n",
       "1  5099.380859  21.524664   9.824000   4.583333  660.500000  661.900024  \n",
       "2  5501.954590  18.697226   8.978000  30.000002  636.299988  650.900024  \n",
       "3  7101.831055  17.357143   8.978000   0.000000  651.900024  643.500000  \n",
       "4  5235.987793  18.671329   9.080333  13.857677  641.799988  639.900024  "
      ]
     },
     "execution_count": 1,
     "metadata": {},
     "output_type": "execute_result"
    }
   ],
   "source": [
    "import pandas as pd\n",
    "import numpy as np\n",
    "import matplotlib.pyplot as plt\n",
    "\n",
    "from sklearn.neighbors import KNeighborsClassifier\n",
    "from sklearn.neighbors import KNeighborsRegressor\n",
    "\n",
    "from sklearn.model_selection import train_test_split\n",
    "from sklearn.model_selection import cross_val_score\n",
    "from sklearn.model_selection import RepeatedKFold\n",
    "from sklearn.model_selection import KFold\n",
    "from sklearn.model_selection import StratifiedKFold\n",
    "from sklearn.model_selection import GridSearchCV\n",
    "\n",
    "from sklearn.linear_model import LinearRegression\n",
    "from sklearn.linear_model import Lasso\n",
    "from sklearn.linear_model import Ridge\n",
    "from sklearn.linear_model import LogisticRegression\n",
    "\n",
    "from sklearn import preprocessing\n",
    "\n",
    "from sklearn.pipeline import Pipeline\n",
    "\n",
    "\n",
    "# read in data...We will clean it up into X, y below\n",
    "data= pd.read_csv(\"https://vincentarelbundock.github.io/Rdatasets/csv/Ecdat/Caschool.csv\")\n",
    "data.head() "
   ]
  },
  {
   "cell_type": "markdown",
   "metadata": {},
   "source": [
    "# Q1.1"
   ]
  },
  {
   "cell_type": "code",
   "execution_count": 2,
   "metadata": {},
   "outputs": [
    {
     "data": {
      "image/png": "[encoded data removed]",
      "text/plain": [
       "<matplotlib.figure.Figure at 0x6436da0>"
      ]
     },
     "metadata": {},
     "output_type": "display_data"
    }
   ],
   "source": [
    "# avg test score\n",
    "plt.figure()\n",
    "data['testscr'].hist(bins = 30)\n",
    "plt.show()\n"
   ]
  },
  {
   "cell_type": "code",
   "execution_count": 3,
   "metadata": {},
   "outputs": [
    {
     "data": {
      "image/png": "[encoded data removed]",
      "text/plain": [
       "<matplotlib.figure.Figure at 0xb9a0908>"
      ]
     },
     "metadata": {},
     "output_type": "display_data"
    }
   ],
   "source": [
    "# percent qualifying for reduced-price lunch\n",
    "plt.figure()\n",
    "data[\"mealpct\"].hist(bins = 20)\n",
    "plt.show()\n"
   ]
  },
  {
   "cell_type": "code",
   "execution_count": 2,
   "metadata": {},
   "outputs": [
    {
     "data": {
      "image/png": "[encoded data removed]",
      "text/plain": [
       "<Figure size 432x288 with 1 Axes>"
      ]
     },
     "metadata": {},
     "output_type": "display_data"
    }
   ],
   "source": [
    "# avg reading score\n",
    "plt.figure()\n",
    "data[\"compstu\"].hist()\n",
    "plt.show()\n"
   ]
  },
  {
   "cell_type": "code",
   "execution_count": 3,
   "metadata": {},
   "outputs": [
    {
     "data": {
      "image/png": "[encoded data removed]",
      "text/plain": [
       "<Figure size 432x288 with 1 Axes>"
      ]
     },
     "metadata": {},
     "output_type": "display_data"
    }
   ],
   "source": [
    "# avg math score\n",
    "plt.figure()\n",
    "data[\"expnstu\"].hist(bins = 30)\n",
    "plt.show()"
   ]
  },
  {
   "cell_type": "markdown",
   "metadata": {},
   "source": [
    "# Q1.2"
   ]
  },
  {
   "cell_type": "code",
   "execution_count": 4,
   "metadata": {},
   "outputs": [
    {
     "data": {
      "image/png": "[encoded data removed]",
      "text/plain": [
       "<Figure size 432x288 with 1 Axes>"
      ]
     },
     "metadata": {},
     "output_type": "display_data"
    }
   ],
   "source": [
    "# scatter plot of test score and avg math score\n",
    "data.plot(kind = \"scatter\", x = \"compstu\", y = \"testscr\")\n",
    "plt.show()\n"
   ]
  },
  {
   "cell_type": "code",
   "execution_count": 5,
   "metadata": {},
   "outputs": [
    {
     "data": {
      "image/png": "[encoded data removed]",
      "text/plain": [
       "<Figure size 432x288 with 1 Axes>"
      ]
     },
     "metadata": {},
     "output_type": "display_data"
    }
   ],
   "source": [
    "# scatter plot of test score and avg reading score\n",
    "data.plot(kind = \"scatter\", x = \"expnstu\", y = \"testscr\")\n",
    "plt.show()\n"
   ]
  },
  {
   "cell_type": "code",
   "execution_count": 6,
   "metadata": {},
   "outputs": [
    {
     "data": {
      "image/png": "[encoded data removed]",
      "text/plain": [
       "<Figure size 432x288 with 1 Axes>"
      ]
     },
     "metadata": {},
     "output_type": "display_data"
    }
   ],
   "source": [
    "# scatter plot of test score and percent qualifying for reduced-price lunch\n",
    "data.plot(kind = \"scatter\", x = \"mealpct\", y = \"testscr\")\n",
    "plt.show()"
   ]
  },
  {
   "cell_type": "markdown",
   "metadata": {},
   "source": [
    "# Q1.3 and 1.4"
   ]
  },
  {
   "cell_type": "code",
   "execution_count": 7,
   "metadata": {
    "collapsed": true
   },
   "outputs": [],
   "source": [
    "data.head()\n",
    "## Preparing X and y\n",
    "y = data.loc[:, data.columns == 'testscr'] \n",
    "X = data.loc[:, ['enrltot', 'calwpct', 'mealpct', 'compstu', 'expnstu', 'str', 'avginc', 'elpct']]\n",
    "X_train, X_test, y_train, y_test = train_test_split(X, y,random_state = 1)\n",
    "\n",
    "# We scale data here for later use\n",
    "scaler = preprocessing.StandardScaler()\n",
    "scaler.fit(X_train)\n",
    "X_train_scaled = scaler.transform(X_train)\n",
    "X_test_scaled = scaler.transform(X_test)"
   ]
  },
  {
   "cell_type": "markdown",
   "metadata": {},
   "source": [
    "In this example each model is run with both scaled and unscaled data, seperately. Though this is not strictly required for every model.\n",
    "\n",
    "OLS method"
   ]
  },
  {
   "cell_type": "code",
   "execution_count": 8,
   "metadata": {},
   "outputs": [
    {
     "name": "stdout",
     "output_type": "stream",
     "text": [
      "                            OLS Regression Results                            \n",
      "==============================================================================\n",
      "Dep. Variable:                testscr   R-squared:                       0.832\n",
      "Model:                            OLS   Adj. R-squared:                  0.827\n",
      "Method:                 Least Squares   F-statistic:                     189.0\n",
      "Date:                Tue, 16 Oct 2018   Prob (F-statistic):          1.43e-113\n",
      "Time:                        09:49:04   Log-Likelihood:                -1086.0\n",
      "No. Observations:                 315   AIC:                             2190.\n",
      "Df Residuals:                     306   BIC:                             2224.\n",
      "Df Model:                           8                                         \n",
      "Covariance Type:            nonrobust                                         \n",
      "==============================================================================\n",
      "                 coef    std err          t      P>|t|      [0.025      0.975]\n",
      "------------------------------------------------------------------------------\n",
      "const        658.7748      9.962     66.132      0.000     639.173     678.377\n",
      "enrltot     8.169e-06      0.000      0.062      0.950      -0.000       0.000\n",
      "calwpct       -0.0855      0.063     -1.355      0.177      -0.210       0.039\n",
      "mealpct       -0.3860      0.039    -10.003      0.000      -0.462      -0.310\n",
      "compstu        9.3948      7.188      1.307      0.192      -4.750      23.539\n",
      "expnstu        0.0020      0.001      2.007      0.046    3.88e-05       0.004\n",
      "str           -0.1540      0.310     -0.496      0.620      -0.764       0.457\n",
      "avginc         0.5424      0.098      5.544      0.000       0.350       0.735\n",
      "elpct         -0.2119      0.037     -5.786      0.000      -0.284      -0.140\n",
      "==============================================================================\n",
      "Omnibus:                        1.783   Durbin-Watson:                   2.100\n",
      "Prob(Omnibus):                  0.410   Jarque-Bera (JB):                1.541\n",
      "Skew:                           0.092   Prob(JB):                        0.463\n",
      "Kurtosis:                       3.289   Cond. No.                     1.44e+05\n",
      "==============================================================================\n",
      "\n",
      "Warnings:\n",
      "[1] Standard Errors assume that the covariance matrix of the errors is correctly specified.\n",
      "[2] The condition number is large, 1.44e+05. This might indicate that there are\n",
      "strong multicollinearity or other numerical problems.\n"
     ]
    }
   ],
   "source": [
    "# OLS on unscaled data\n",
    "import statsmodels.api as sm\n",
    "X_train_new = sm.add_constant(X_train)\n",
    "model = sm.OLS(y_train, X_train_new).fit()\n",
    "print(model.summary()) # get a complete summary of the model\n",
    "X_test_new = sm.add_constant(X_test)\n",
    "prey = model.predict(X_test_new)"
   ]
  },
  {
   "cell_type": "code",
   "execution_count": 10,
   "metadata": {},
   "outputs": [
    {
     "name": "stdout",
     "output_type": "stream",
     "text": [
      "                            OLS Regression Results                            \n",
      "==============================================================================\n",
      "Dep. Variable:                testscr   R-squared:                       0.832\n",
      "Model:                            OLS   Adj. R-squared:                  0.827\n",
      "Method:                 Least Squares   F-statistic:                     189.0\n",
      "Date:                Tue, 16 Oct 2018   Prob (F-statistic):          1.43e-113\n",
      "Time:                        09:49:41   Log-Likelihood:                -1086.0\n",
      "No. Observations:                 315   AIC:                             2190.\n",
      "Df Residuals:                     306   BIC:                             2224.\n",
      "Df Model:                           8                                         \n",
      "Covariance Type:            nonrobust                                         \n",
      "==============================================================================\n",
      "                 coef    std err          t      P>|t|      [0.025      0.975]\n",
      "------------------------------------------------------------------------------\n",
      "const        653.5317      0.435   1503.583      0.000     652.676     654.387\n",
      "x1             0.0309      0.497      0.062      0.950      -0.947       1.008\n",
      "x2            -0.9579      0.707     -1.355      0.177      -2.349       0.434\n",
      "x3           -10.3153      1.031    -10.003      0.000     -12.344      -8.286\n",
      "x4             0.6199      0.474      1.307      0.192      -0.313       1.553\n",
      "x5             1.1981      0.597      2.007      0.046       0.023       2.373\n",
      "x6            -0.2878      0.580     -0.496      0.620      -1.429       0.853\n",
      "x7             3.7570      0.678      5.544      0.000       2.424       5.091\n",
      "x8            -3.9696      0.686     -5.786      0.000      -5.320      -2.620\n",
      "==============================================================================\n",
      "Omnibus:                        1.783   Durbin-Watson:                   2.100\n",
      "Prob(Omnibus):                  0.410   Jarque-Bera (JB):                1.541\n",
      "Skew:                           0.092   Prob(JB):                        0.463\n",
      "Kurtosis:                       3.289   Cond. No.                         5.01\n",
      "==============================================================================\n",
      "\n",
      "Warnings:\n",
      "[1] Standard Errors assume that the covariance matrix of the errors is correctly specified.\n"
     ]
    }
   ],
   "source": [
    "# OLS on scaled data\n",
    "import statsmodels.api as sm\n",
    "X_train_new = sm.add_constant(X_train_scaled)\n",
    "model = sm.OLS(y_train, X_train_new).fit()\n",
    "print(model.summary()) # get a complete summary of the model\n",
    "X_test_new = sm.add_constant(X_test_scaled)\n",
    "prey = model.predict(X_test_new)"
   ]
  },
  {
   "cell_type": "markdown",
   "metadata": {},
   "source": [
    "No improvement on scaled data for OLS method when comparing result by $R^2$ from training data.  How does the model fit test data?  Let's use scikit learn to fit the unscaled model and then evaluate prediction error on test data.\n",
    "\n"
   ]
  },
  {
   "cell_type": "code",
   "execution_count": 11,
   "metadata": {},
   "outputs": [
    {
     "name": "stdout",
     "output_type": "stream",
     "text": [
      "Training set score (not scaled): 0.83\n",
      "Test set score (not scaled): 0.75\n"
     ]
    }
   ],
   "source": [
    "lr = LinearRegression().fit(X_train, y_train)\n",
    "\n",
    "print(\"Training set score (not scaled): {:.2f}\".format(lr.score(X_train, y_train)))\n",
    "print(\"Test set score (not scaled): {:.2f}\".format(lr.score(X_test, y_test)))\n"
   ]
  },
  {
   "cell_type": "code",
   "execution_count": 12,
   "metadata": {},
   "outputs": [
    {
     "name": "stdout",
     "output_type": "stream",
     "text": [
      "0.8074207231186454\n"
     ]
    }
   ],
   "source": [
    "# Check prediction error with cross validation:\n",
    "\n",
    "print(np.mean(cross_val_score(lr, X_train, y_train,scoring='r2', cv=10)))\n"
   ]
  },
  {
   "cell_type": "markdown",
   "metadata": {},
   "source": [
    "KNN method"
   ]
  },
  {
   "cell_type": "code",
   "execution_count": 13,
   "metadata": {},
   "outputs": [
    {
     "name": "stdout",
     "output_type": "stream",
     "text": [
      "Training Set Score: 0.2807228345\n",
      "Testing Set Score: 0.0787203493\n"
     ]
    }
   ],
   "source": [
    "# KNN on unscaled data\n",
    "knn = KNeighborsRegressor(n_neighbors=5)\n",
    "knn.fit(X_train, y_train)\n",
    "y_pred = knn.predict(X_test) \n",
    "print(\"Training Set Score: {:.10f}\".format(knn.score(X_train, y_train)))\n",
    "print(\"Testing Set Score: {:.10f}\".format(knn.score(X_test, y_test)))\n",
    "\n",
    "\n"
   ]
  },
  {
   "cell_type": "code",
   "execution_count": 14,
   "metadata": {},
   "outputs": [
    {
     "name": "stdout",
     "output_type": "stream",
     "text": [
      "Training Set Score: 0.8389283035\n",
      "Testing Set Score: 0.7259658578\n",
      "0.7392257927000296\n"
     ]
    }
   ],
   "source": [
    "## KNN on scaled data\n",
    "knn = KNeighborsRegressor(n_neighbors=5)\n",
    "knn.fit(X_train_scaled, y_train)\n",
    "y_pred = knn.predict(X_test_scaled) \n",
    "\n",
    "print(\"Training Set Score: {:.10f}\".format(knn.score(X_train_scaled, y_train)))\n",
    "print(\"Testing Set Score: {:.10f}\".format(knn.score(X_test_scaled, y_test)))\n",
    "\n",
    "# Check prediction error with cross validation:\n",
    "print(np.mean(cross_val_score(knn, X_train_scaled, y_train,scoring='r2', cv=10)))\n"
   ]
  },
  {
   "cell_type": "markdown",
   "metadata": {},
   "source": [
    "KNN has significant improvement on scaled data. "
   ]
  },
  {
   "cell_type": "markdown",
   "metadata": {},
   "source": [
    "Ridge regression model"
   ]
  },
  {
   "cell_type": "code",
   "execution_count": 15,
   "metadata": {},
   "outputs": [
    {
     "name": "stdout",
     "output_type": "stream",
     "text": [
      "Training set score: 0.83147\n",
      "Test set score: 0.74810\n"
     ]
    }
   ],
   "source": [
    "## Ridge Regression model on unscaled data\n",
    "from sklearn.linear_model import Ridge\n",
    "ridge = Ridge().fit(X_train, y_train)\n",
    "print(\"Training set score: {:.5f}\".format(ridge.score(X_train, y_train)))\n",
    "print(\"Test set score: {:.5f}\".format(ridge.score(X_test, y_test)))"
   ]
  },
  {
   "cell_type": "code",
   "execution_count": 16,
   "metadata": {},
   "outputs": [
    {
     "name": "stdout",
     "output_type": "stream",
     "text": [
      "Training set score: 0.83166\n",
      "Test set score: 0.74910\n",
      "0.8075742618738093\n"
     ]
    }
   ],
   "source": [
    "## Ridge Regression model on scaled data\n",
    "from sklearn.linear_model import Ridge\n",
    "ridge = Ridge().fit(X_train_scaled, y_train)\n",
    "print(\"Training set score: {:.5f}\".format(ridge.score(X_train_scaled, y_train)))\n",
    "print(\"Test set score: {:.5f}\".format(ridge.score(X_test_scaled, y_test)))\n",
    "\n",
    "# Check prediction error with cross validation:\n",
    "print(np.mean(cross_val_score(ridge, X_train_scaled, y_train,scoring='r2', cv=10)))\n"
   ]
  },
  {
   "cell_type": "markdown",
   "metadata": {},
   "source": [
    "Not much difference in the result of ridge regression model on scaled and unscaled data.  Cross validation suggets model will predict better on new data than on test set.\n",
    "\n",
    "Lasso regression model"
   ]
  },
  {
   "cell_type": "code",
   "execution_count": 17,
   "metadata": {},
   "outputs": [
    {
     "name": "stdout",
     "output_type": "stream",
     "text": [
      "Training set score: 0.83072\n",
      "Test set score: 0.74656\n",
      "Number of features used: 7\n",
      "lasso.coef_: [-8.88677141e-06 -9.08116761e-02 -3.85118977e-01  0.00000000e+00\n",
      "  2.24760661e-03 -1.60948511e-01  5.41703466e-01 -2.18055793e-01]\n"
     ]
    }
   ],
   "source": [
    "## Lasso regression model on unscaled data\n",
    "from sklearn.linear_model import Lasso\n",
    "lasso = Lasso(alpha=0.1).fit(X_train, y_train)\n",
    "print(\"Training set score: {:.5f}\".format(lasso.score(X_train, y_train)))\n",
    "print(\"Test set score: {:.5f}\".format(lasso.score(X_test, y_test)))\n",
    "print(\"Number of features used: {}\".format(np.sum(lasso.coef_ != 0)))\n",
    "print(\"lasso.coef_: {}\".format(lasso.coef_))"
   ]
  },
  {
   "cell_type": "code",
   "execution_count": 18,
   "metadata": {},
   "outputs": [
    {
     "name": "stdout",
     "output_type": "stream",
     "text": [
      "Training set score: 0.83158\n",
      "Test set score: 0.74913\n",
      "0.8081460699331954\n",
      "Number of features used: 7\n",
      "lasso.coef_: [ -0.          -0.83457095 -10.39663692   0.57304863   1.1322946\n",
      "  -0.24361134   3.73320623  -3.87458432]\n"
     ]
    }
   ],
   "source": [
    "## Lasso regression model on scaled data\n",
    "from sklearn.linear_model import Lasso\n",
    "lasso = Lasso(alpha=0.1).fit(X_train_scaled, y_train)\n",
    "print(\"Training set score: {:.5f}\".format(lasso.score(X_train_scaled, y_train)))\n",
    "print(\"Test set score: {:.5f}\".format(lasso.score(X_test_scaled, y_test)))\n",
    "print(np.mean(cross_val_score(lasso, X_train_scaled, y_train,scoring='r2', cv=10)))\n",
    "print(\"Number of features used: {}\".format(np.sum(lasso.coef_ != 0)))\n",
    "print(\"lasso.coef_: {}\".format(lasso.coef_))"
   ]
  },
  {
   "cell_type": "markdown",
   "metadata": {},
   "source": [
    "Not much difference in the result of LASSO regression model on scaled and unscaled data.  CV score demonstrates comparable prediction error to Ridge and linear regression.  But better results than knn."
   ]
  },
  {
   "cell_type": "markdown",
   "metadata": {},
   "source": [
    "# Q1.4\n",
    "KNN regression using GridSearchCV"
   ]
  },
  {
   "cell_type": "code",
   "execution_count": 19,
   "metadata": {},
   "outputs": [
    {
     "name": "stdout",
     "output_type": "stream",
     "text": [
      "best mean cross-validation score: 0.7750603189\n",
      "best parameters: {'n_neighbors': 11}\n",
      "Train score: 0.8213744052\n",
      "Test score: 0.7115687221\n"
     ]
    }
   ],
   "source": [
    "# Grid Search on scaled data\n",
    "param_grid_K = {'n_neighbors': np.arange(1, 20, 2)} \n",
    "\n",
    "gridK = GridSearchCV(KNeighborsRegressor(), param_grid_K, cv=10)\n",
    "\n",
    "#use meta model methods to fit score and predict model:\n",
    "gridK.fit(X_train_scaled, y_train)\n",
    "\n",
    "#extract best score and parameter by calling objects \"best_score_\" and \"best_params_\"\n",
    "print(\"best mean cross-validation score: {:.10f}\".format(gridK.best_score_))\n",
    "print(\"best parameters: {}\".format(gridK.best_params_))\n",
    "print(\"Train score: {:.10f}\".format(gridK.score(X_train_scaled, y_train)))\n",
    "print(\"Test score: {:.10f}\".format(gridK.score(X_test_scaled, y_test)))"
   ]
  },
  {
   "cell_type": "markdown",
   "metadata": {},
   "source": [
    "The grid search suggests that the best model should use 11 neighbors with scaled data. \n",
    "\n",
    "Ridge Regression Using GridSearchCV"
   ]
  },
  {
   "cell_type": "code",
   "execution_count": 20,
   "metadata": {},
   "outputs": [
    {
     "name": "stdout",
     "output_type": "stream",
     "text": [
      "best mean cross-validation score: 0.819\n",
      "best parameters: {'alpha': 1.1}\n",
      "test-set score: 0.749\n"
     ]
    }
   ],
   "source": [
    "## scaled data\n",
    "alphas = [0.0001,0.001,0.01,0.1,1.10,100,1000]\n",
    "ridge = Ridge()\n",
    "para_grid = [{\"alpha\" : alphas}]\n",
    "gs_ridge = GridSearchCV(estimator=ridge,param_grid=para_grid ,cv=5)\n",
    "gs_ridgemodel = gs_ridge.fit(X_train_scaled,y_train)\n",
    "## output\n",
    "#extract best score and parameter by calling objects \"best_score_\" and \"best_params_\"\n",
    "print(\"best mean cross-validation score: {:.3f}\".format(gs_ridgemodel.best_score_))\n",
    "print(\"best parameters: {}\".format(gs_ridgemodel.best_params_))\n",
    "print(\"test-set score: {:.3f}\".format(gs_ridgemodel.score(X_test_scaled, y_test)))\n",
    "\n"
   ]
  },
  {
   "cell_type": "code",
   "execution_count": 21,
   "metadata": {},
   "outputs": [
    {
     "name": "stdout",
     "output_type": "stream",
     "text": [
      "0.8194735693893497\n"
     ]
    }
   ],
   "source": [
    "#Note that if gridsearchCV is using negative MSE or another metric for crossvalidation.  We can use cross_val_score with the suggested gridsearch\n",
    "#paramaters to evaluate the model using r2 or accuracy instead.\n",
    "ridge = Ridge(alpha=1.1)\n",
    "\n",
    "print(np.mean(cross_val_score(ridge, X_train_scaled, y_train,scoring='r2', cv=5)))\n",
    "\n"
   ]
  },
  {
   "cell_type": "markdown",
   "metadata": {},
   "source": [
    "Lasso Regression using GridSearchCV"
   ]
  },
  {
   "cell_type": "code",
   "execution_count": 22,
   "metadata": {},
   "outputs": [
    {
     "name": "stdout",
     "output_type": "stream",
     "text": [
      "best mean cross-validation score: 0.821\n",
      "best parameters: {'alpha': 0.1}\n",
      "test-set score: 0.749\n"
     ]
    }
   ],
   "source": [
    "## unscaled data\n",
    "alphas = [0.0001,0.001,0.01,0.1,1.10,100,1000]\n",
    "lasso = Lasso()\n",
    "para_grid = [{\"alpha\" : alphas}]\n",
    "gs_lasso = GridSearchCV(estimator=lasso ,param_grid=para_grid ,cv=5)\n",
    "\n",
    "gs_lassomodel = gs_lasso.fit(X_train_scaled,y_train)\n",
    "\n",
    "## output\n",
    "#extract best score and parameter by calling objects \"best_score_\" and \"best_params_\"\n",
    "print(\"best mean cross-validation score: {:.3f}\".format(gs_lassomodel.best_score_))\n",
    "print(\"best parameters: {}\".format(gs_lassomodel.best_params_))\n",
    "print(\"test-set score: {:.3f}\".format(gs_lassomodel.score(X_test_scaled, y_test)))\n",
    "\n"
   ]
  },
  {
   "cell_type": "code",
   "execution_count": 23,
   "metadata": {},
   "outputs": [
    {
     "name": "stdout",
     "output_type": "stream",
     "text": [
      "0.8206301684857523\n"
     ]
    }
   ],
   "source": [
    "#Note that if gridsearchCV is using negative MSE for crossvalidation.  We can use cross_val_score with the suggested gridsearch\n",
    "#paramaters to evaluate the model using r2 instead.\n",
    "lasso = Lasso(alpha=.1)\n",
    "\n",
    "print(np.mean(cross_val_score(lasso, X_train_scaled, y_train,scoring='r2', cv=5)))\n",
    "\n",
    "# Note that lasso with a tuned parameter is our best predictor thus far according to cv using r2"
   ]
  },
  {
   "cell_type": "markdown",
   "metadata": {},
   "source": [
    "# Q1.5"
   ]
  },
  {
   "cell_type": "code",
   "execution_count": 24,
   "metadata": {},
   "outputs": [
    {
     "name": "stdout",
     "output_type": "stream",
     "text": [
      "Training set score: 0.83158\n",
      "Test set score: 0.74913\n",
      "Number of features used: 7\n",
      "lasso.coef_: [ -0.          -0.83457095 -10.39663692   0.57304863   1.1322946\n",
      "  -0.24361134   3.73320623  -3.87458432]\n",
      "['enrltot' 'calwpct' 'mealpct' 'compstu' 'expnstu' 'str' 'avginc' 'elpct']\n"
     ]
    }
   ],
   "source": [
    "## Lasso Regression on Scaled data\n",
    "from sklearn.linear_model import Lasso\n",
    "lasso = Lasso(alpha=0.1).fit(X_train_scaled, y_train)\n",
    "print(\"Training set score: {:.5f}\".format(lasso.score(X_train_scaled, y_train)))\n",
    "print(\"Test set score: {:.5f}\".format(lasso.score(X_test_scaled, y_test)))\n",
    "print(\"Number of features used: {}\".format(np.sum(lasso.coef_ != 0)))\n",
    "print(\"lasso.coef_: {}\".format(lasso.coef_))\n",
    "print(X.columns.values ) #print names"
   ]
  },
  {
   "cell_type": "markdown",
   "metadata": {},
   "source": [
    "Thus far Lasso and Ridge with tuned alphas are my two best predictive models."
   ]
  },
  {
   "cell_type": "code",
   "execution_count": 25,
   "metadata": {},
   "outputs": [
    {
     "name": "stdout",
     "output_type": "stream",
     "text": [
      "lasso.coef_: [ -0.          -0.83457095 -10.39663692   0.57304863   1.1322946\n",
      "  -0.24361134   3.73320623  -3.87458432]\n",
      "ridge.coef_: [[  0.03530827  -1.02176701 -10.18299441   0.61830881   1.19194182\n",
      "   -0.29264523   3.78789722  -4.01454773]]\n"
     ]
    }
   ],
   "source": [
    "print(\"lasso.coef_: {}\".format(lasso.coef_))\n",
    "print(\"ridge.coef_: {}\".format(ridge.fit(X_train_scaled, y_train).coef_))\n",
    "\n",
    "#ridge and lasso coefficents are nearly identical.  However lasso coefficients are slighly smaller than ridge \n",
    "#coefficients."
   ]
  },
  {
   "cell_type": "markdown",
   "metadata": {},
   "source": [
    "# Q1.6"
   ]
  },
  {
   "cell_type": "markdown",
   "metadata": {},
   "source": [
    "I would choose a tuned lasso model.  It has predicted the best via cross validation compared to all other models."
   ]
  },
  {
   "cell_type": "code",
   "execution_count": 26,
   "metadata": {},
   "outputs": [
    {
     "name": "stdout",
     "output_type": "stream",
     "text": [
      "Training set score: 0.83158\n",
      "Test set score: 0.74913\n",
      "Number of features used: 7\n",
      "lasso.coef_: [ -0.          -0.83457095 -10.39663692   0.57304863   1.1322946\n",
      "  -0.24361134   3.73320623  -3.87458432]\n"
     ]
    }
   ],
   "source": [
    "lasso = Lasso(alpha=0.1).fit(X_train_scaled, y_train)\n",
    "print(\"Training set score: {:.5f}\".format(lasso.score(X_train_scaled, y_train)))\n",
    "print(\"Test set score: {:.5f}\".format(lasso.score(X_test_scaled, y_test)))\n",
    "print(\"Number of features used: {}\".format(np.sum(lasso.coef_ != 0)))\n",
    "print(\"lasso.coef_: {}\".format(lasso.coef_))"
   ]
  },
  {
   "cell_type": "markdown",
   "metadata": {},
   "source": [
    "# Q2.1"
   ]
  },
  {
   "cell_type": "code",
   "execution_count": 27,
   "metadata": {
    "collapsed": true
   },
   "outputs": [],
   "source": [
    "# read in data\n",
    "datared= pd.read_csv(\"https://archive.ics.uci.edu/ml/machine-learning-databases/wine-quality/winequality-red.csv\", sep=';')\n",
    "# read in data\n",
    "datawhite= pd.read_csv(\"https://archive.ics.uci.edu/ml/machine-learning-databases/wine-quality/winequality-white.csv\", sep=';')"
   ]
  },
  {
   "cell_type": "code",
   "execution_count": 74,
   "metadata": {},
   "outputs": [
    {
     "data": {
      "image/png": "[encoded data removed]",
      "text/plain": [
       "<matplotlib.figure.Figure at 0xdcf11d0>"
      ]
     },
     "metadata": {},
     "output_type": "display_data"
    },
    {
     "data": {
      "text/plain": [
       "Text(0.5,1,u'chlorides')"
      ]
     },
     "execution_count": 74,
     "metadata": {},
     "output_type": "execute_result"
    },
    {
     "data": {
      "image/png": "[encoded data removed]",
      "text/plain": [
       "<matplotlib.figure.Figure at 0xe517860>"
      ]
     },
     "metadata": {},
     "output_type": "display_data"
    }
   ],
   "source": [
    "datared['winetype'] = 1\n",
    "datawhite['winetype'] = 0\n",
    "data = pd.concat([datawhite,datared])\n",
    "data.head()\n",
    "\n",
    "# Q2.1\n",
    "plt.hist(data.pH[data.winetype == 0],color=\"blue\",label = \"white\")\n",
    "plt.hist(data.pH[data.winetype == 1],color=\"red\",label = \"red\")\n",
    "plt.legend()\n",
    "plt.show()\n",
    "\n",
    "fig = plt.figure(figsize=(10,7))\n",
    "\n",
    "ax1 = fig.add_subplot(221)\n",
    "ax1.hist(data['winetype'])\n",
    "ax1.set_title(\"Wine Type\")\n",
    "\n",
    "ax2 = fig.add_subplot(222)\n",
    "ax2.hist(data['fixed acidity'])\n",
    "ax2.set_title(\"Fixed Acidity\")\n",
    "\n",
    "ax3 = fig.add_subplot(223)\n",
    "ax3.hist(data['citric acid'])\n",
    "ax3.set_title(\"Citric Acid\")\n",
    "\n",
    "ax4 = fig.add_subplot(224)\n",
    "ax4.hist(data['chlorides'])\n",
    "ax4.set_title(\"chlorides\")"
   ]
  },
  {
   "cell_type": "markdown",
   "metadata": {},
   "source": [
    "# Q2.2"
   ]
  },
  {
   "cell_type": "code",
   "execution_count": 81,
   "metadata": {},
   "outputs": [
    {
     "name": "stdout",
     "output_type": "stream",
     "text": [
      "<class 'pandas.core.frame.DataFrame'>\n",
      "Int64Index: 4872 entries, 3731 to 2732\n",
      "Data columns (total 12 columns):\n",
      "fixed acidity           4872 non-null float64\n",
      "volatile acidity        4872 non-null float64\n",
      "citric acid             4872 non-null float64\n",
      "residual sugar          4872 non-null float64\n",
      "chlorides               4872 non-null float64\n",
      "free sulfur dioxide     4872 non-null float64\n",
      "total sulfur dioxide    4872 non-null float64\n",
      "density                 4872 non-null float64\n",
      "pH                      4872 non-null float64\n",
      "sulphates               4872 non-null float64\n",
      "alcohol                 4872 non-null float64\n",
      "quality                 4872 non-null int64\n",
      "dtypes: float64(11), int64(1)\n",
      "memory usage: 494.8 KB\n"
     ]
    }
   ],
   "source": [
    "y = data.winetype\n",
    "X = data.loc[:, data.columns != 'winetype']\n",
    "X_train, X_test, y_train, y_test = train_test_split(X, y, random_state=0)\n",
    "X_train.info()\n",
    "\n",
    "## Scaling data\n",
    "from sklearn.preprocessing import StandardScaler\n",
    "Xss = StandardScaler()\n",
    "X_s = Xss.fit_transform(X)\n",
    "X_s = pd.DataFrame(X_s,columns=X.columns)\n",
    "y_s = y.values.reshape((-1,1))\n",
    "\n",
    "## Splitting scaled dataset\n",
    "X_train_s, X_test_s, y_train_s, y_test_s = train_test_split(X_s, y_s, random_state=42)"
   ]
  },
  {
   "cell_type": "code",
   "execution_count": 127,
   "metadata": {},
   "outputs": [
    {
     "name": "stdout",
     "output_type": "stream",
     "text": [
      "accuracy: 0.98892\n",
      "0.9669534957678192\n"
     ]
    }
   ],
   "source": [
    "# Logistic regression\n",
    "\n",
    "import statsmodels.api as sm\n",
    "import pylab as pl\n",
    "from sklearn.linear_model import LogisticRegression\n",
    "\n",
    "## Fitting on unscaled dataset\n",
    "lr = LogisticRegression(C=1e9)\n",
    "lr.fit(X_train, y_train)\n",
    "y_pred = lr.predict(X_test) # y_pred includes your predictions\n",
    "#Print accuracy rounded to two digits to the right of decimal\n",
    "print(\"accuracy: {:.5f}\".format(lr.score(X_test, y_test)))\n",
    "\n",
    "\n",
    "#Cross validation accurace\n",
    "print(np.mean(cross_val_score(logreg, X_train, y_train,scoring='accuracy', cv=5)))\n"
   ]
  },
  {
   "cell_type": "code",
   "execution_count": 92,
   "metadata": {},
   "outputs": [
    {
     "name": "stdout",
     "output_type": "stream",
     "text": [
      "accuracy: 0.95015\n",
      "0.9495081133639921\n"
     ]
    }
   ],
   "source": [
    "# Penalized logistic regression\n",
    "\n",
    "## Fitting on unscaled dataset\n",
    "logregpen = LogisticRegression(C=.01)  ##  L1 Norm Penalty\n",
    "model = logregpen.fit(X_train, y_train)\n",
    "#Print accuracy rounded to two digits to the right of decimal\n",
    "print(\"accuracy: {:.5f}\".format(model.score(X_test, y_test)))\n",
    "\n",
    "#Cross validation accurace\n",
    "print(np.mean(cross_val_score(logregpen, X_train, y_train,scoring='accuracy', cv=5)))\n"
   ]
  },
  {
   "cell_type": "code",
   "execution_count": 95,
   "metadata": {},
   "outputs": [
    {
     "name": "stdout",
     "output_type": "stream",
     "text": [
      "accuracy: 0.74708\n",
      "0.7282479827451982\n"
     ]
    }
   ],
   "source": [
    "# KNN\n",
    "\n",
    "## Fitting on scaled dataset\n",
    "\n",
    "## KNN classification\n",
    "knn = KNeighborsClassifier(n_neighbors=9)\n",
    "knnmodel = knn.fit(X_train_s, y_train)\n",
    "\n",
    "#Print accuracy rounded to two digits to the right of decimal\n",
    "print(\"accuracy: {:.5f}\".format(knnmodel.score(X_test_s, y_test)))\n",
    "\n",
    "#Cross validation accurace\n",
    "print(np.mean(cross_val_score(knn, X_train_s, y_train,scoring='accuracy', cv=5)))\n"
   ]
  },
  {
   "cell_type": "markdown",
   "metadata": {},
   "source": [
    "# Q2.3, 2.4"
   ]
  },
  {
   "cell_type": "code",
   "execution_count": 119,
   "metadata": {
    "collapsed": true
   },
   "outputs": [],
   "source": [
    "## GridSearchCV using pipeline approach. It's not necessary, but it cleans up code.\n",
    "\n",
    "pKNN = Pipeline([(\"scale\",StandardScaler()),(\"KNN\",KNeighborsClassifier())])\n",
    "k = np.arange(3,21,2)\n",
    "\n",
    "#Note the call to step name \"KNN__\" below from the pipeline.  Need to add double underscore.\n",
    "para_gs = {\"KNN__n_neighbors\" : k}\n",
    "gs_KNN = GridSearchCV(estimator=pKNN,param_grid=para_gs,cv=10)\n",
    "knngridmodel = gs_KNN.fit(X_train,y_train)"
   ]
  },
  {
   "cell_type": "code",
   "execution_count": 120,
   "metadata": {},
   "outputs": [
    {
     "name": "stdout",
     "output_type": "stream",
     "text": [
      "accuracy: 0.9926\n",
      "{'KNN__n_neighbors': 3}\n"
     ]
    }
   ],
   "source": [
    "\n",
    "print(\"accuracy: {:.4f}\".format(knngridmodel.score(X_test, y_test)))\n",
    "print(knngridmodel.best_params_)"
   ]
  },
  {
   "cell_type": "code",
   "execution_count": 121,
   "metadata": {
    "collapsed": true
   },
   "outputs": [],
   "source": [
    "# change CV strategy, but note that I am not doing precisely what I ask you to do in the homework. \n",
    "## Using GridSearchCV\n",
    "from sklearn.model_selection import RepeatedKFold\n",
    "rkf = RepeatedKFold(n_splits=10, n_repeats=10)\n",
    "\n",
    "pKNN = Pipeline([(\"scale\",StandardScaler()),(\"KNN\",KNeighborsClassifier())])\n",
    "k = np.arange(3,21,2)\n",
    "para_gs = {\"KNN__n_neighbors\" : k}\n",
    "gs_KNN = GridSearchCV(estimator=pKNN,param_grid=para_gs,cv=rkf)\n",
    "knngridmodel = gs_KNN.fit(X_train,y_train)\n"
   ]
  },
  {
   "cell_type": "code",
   "execution_count": 122,
   "metadata": {},
   "outputs": [
    {
     "name": "stdout",
     "output_type": "stream",
     "text": [
      "accuracy: 0.9926\n",
      "{'KNN__n_neighbors': 3}\n"
     ]
    }
   ],
   "source": [
    "print(\"accuracy: {:.4f}\".format(knngridmodel.score(X_test, y_test)))\n",
    "print(knngridmodel.best_params_)"
   ]
  },
  {
   "cell_type": "code",
   "execution_count": 125,
   "metadata": {
    "collapsed": true
   },
   "outputs": [],
   "source": [
    "## GridSearchCV for penalized log regression\n",
    "\n",
    "#Note the call to step name \"KNN__\" below from the pipeline.  Need to add double underscore.\n",
    "para_gs = {\"C\" :[.01,.05,1,10]}\n",
    "gs_LOG= GridSearchCV(LogisticRegression(),param_grid=para_gs,cv=10)\n",
    "loggridmodel = gs_LOG.fit(X_train,y_train)\n"
   ]
  },
  {
   "cell_type": "code",
   "execution_count": 126,
   "metadata": {},
   "outputs": [
    {
     "name": "stdout",
     "output_type": "stream",
     "text": [
      "accuracy: 0.9883\n",
      "{'C': 10}\n"
     ]
    }
   ],
   "source": [
    "\n",
    "print(\"accuracy: {:.4f}\".format(loggridmodel.score(X_test, y_test)))\n",
    "print(loggridmodel.best_params_)"
   ]
  },
  {
   "cell_type": "markdown",
   "metadata": {},
   "source": [
    "# Q2.5"
   ]
  },
  {
   "cell_type": "markdown",
   "metadata": {},
   "source": [
    "Tuned penalized logistic regression does a better job predicting new data than regular logistic regression.  However, the best predictor according to CV using accuracy as our metric was the knn classifier model with k=3."
   ]
  }
 ],
 "metadata": {
  "kernelspec": {
   "display_name": "Python [default]",
   "language": "python",
   "name": "python3"
  },
  "language_info": {
   "codemirror_mode": {
    "name": "ipython",
    "version": 3
   },
   "file_extension": ".py",
   "mimetype": "text/x-python",
   "name": "python",
   "nbconvert_exporter": "python",
   "pygments_lexer": "ipython3",
   "version": "3.6.1"
  }
 },
 "nbformat": 4,
 "nbformat_minor": 2
}
